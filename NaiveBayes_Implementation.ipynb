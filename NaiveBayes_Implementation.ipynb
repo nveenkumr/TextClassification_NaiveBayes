{
 "cells": [
  {
   "cell_type": "markdown",
   "metadata": {},
   "source": [
    "# Naive Bayes Implementation"
   ]
  },
  {
   "cell_type": "markdown",
   "metadata": {},
   "source": [
    "# Text classification :- find the document is of education or cinema class"
   ]
  },
  {
   "cell_type": "code",
   "execution_count": 2,
   "metadata": {},
   "outputs": [],
   "source": [
    "import pandas as pd \n",
    "import numpy as np \n",
    "import matplotlib.pyplot as plt\n",
    "import seaborn as sns\n",
    "import sklearn"
   ]
  },
  {
   "cell_type": "code",
   "execution_count": 4,
   "metadata": {},
   "outputs": [
    {
     "data": {
      "text/html": [
       "<div>\n",
       "<style scoped>\n",
       "    .dataframe tbody tr th:only-of-type {\n",
       "        vertical-align: middle;\n",
       "    }\n",
       "\n",
       "    .dataframe tbody tr th {\n",
       "        vertical-align: top;\n",
       "    }\n",
       "\n",
       "    .dataframe thead th {\n",
       "        text-align: right;\n",
       "    }\n",
       "</style>\n",
       "<table border=\"1\" class=\"dataframe\">\n",
       "  <thead>\n",
       "    <tr style=\"text-align: right;\">\n",
       "      <th></th>\n",
       "      <th>Document</th>\n",
       "      <th>Class</th>\n",
       "    </tr>\n",
       "  </thead>\n",
       "  <tbody>\n",
       "    <tr>\n",
       "      <th>0</th>\n",
       "      <td>Upgrad is a great educational institution.</td>\n",
       "      <td>education</td>\n",
       "    </tr>\n",
       "    <tr>\n",
       "      <th>1</th>\n",
       "      <td>Educational greatness depends on ethics</td>\n",
       "      <td>education</td>\n",
       "    </tr>\n",
       "    <tr>\n",
       "      <th>2</th>\n",
       "      <td>A story of great ethics and educational greatness</td>\n",
       "      <td>education</td>\n",
       "    </tr>\n",
       "    <tr>\n",
       "      <th>3</th>\n",
       "      <td>Sholey is a great cinema</td>\n",
       "      <td>cinema</td>\n",
       "    </tr>\n",
       "    <tr>\n",
       "      <th>4</th>\n",
       "      <td>good movie depends on good story</td>\n",
       "      <td>cinema</td>\n",
       "    </tr>\n",
       "  </tbody>\n",
       "</table>\n",
       "</div>"
      ],
      "text/plain": [
       "                                            Document      Class\n",
       "0         Upgrad is a great educational institution.  education\n",
       "1            Educational greatness depends on ethics  education\n",
       "2  A story of great ethics and educational greatness  education\n",
       "3                           Sholey is a great cinema     cinema\n",
       "4                   good movie depends on good story     cinema"
      ]
     },
     "execution_count": 4,
     "metadata": {},
     "output_type": "execute_result"
    }
   ],
   "source": [
    "train_docs = pd.read_csv('example_train.csv')\n",
    "train_docs.head()"
   ]
  },
  {
   "cell_type": "code",
   "execution_count": 6,
   "metadata": {},
   "outputs": [
    {
     "name": "stdout",
     "output_type": "stream",
     "text": [
      "<class 'pandas.core.frame.DataFrame'>\n",
      "RangeIndex: 5 entries, 0 to 4\n",
      "Data columns (total 2 columns):\n",
      " #   Column    Non-Null Count  Dtype \n",
      "---  ------    --------------  ----- \n",
      " 0   Document  5 non-null      object\n",
      " 1   Class     5 non-null      object\n",
      "dtypes: object(2)\n",
      "memory usage: 208.0+ bytes\n"
     ]
    }
   ],
   "source": [
    "train_docs.info()"
   ]
  },
  {
   "cell_type": "code",
   "execution_count": 9,
   "metadata": {},
   "outputs": [
    {
     "data": {
      "text/html": [
       "<div>\n",
       "<style scoped>\n",
       "    .dataframe tbody tr th:only-of-type {\n",
       "        vertical-align: middle;\n",
       "    }\n",
       "\n",
       "    .dataframe tbody tr th {\n",
       "        vertical-align: top;\n",
       "    }\n",
       "\n",
       "    .dataframe thead th {\n",
       "        text-align: right;\n",
       "    }\n",
       "</style>\n",
       "<table border=\"1\" class=\"dataframe\">\n",
       "  <thead>\n",
       "    <tr style=\"text-align: right;\">\n",
       "      <th></th>\n",
       "      <th>Document</th>\n",
       "      <th>Class</th>\n",
       "    </tr>\n",
       "  </thead>\n",
       "  <tbody>\n",
       "    <tr>\n",
       "      <th>0</th>\n",
       "      <td>Upgrad is a great educational institution.</td>\n",
       "      <td>1</td>\n",
       "    </tr>\n",
       "    <tr>\n",
       "      <th>1</th>\n",
       "      <td>Educational greatness depends on ethics</td>\n",
       "      <td>1</td>\n",
       "    </tr>\n",
       "    <tr>\n",
       "      <th>2</th>\n",
       "      <td>A story of great ethics and educational greatness</td>\n",
       "      <td>1</td>\n",
       "    </tr>\n",
       "    <tr>\n",
       "      <th>3</th>\n",
       "      <td>Sholey is a great cinema</td>\n",
       "      <td>0</td>\n",
       "    </tr>\n",
       "    <tr>\n",
       "      <th>4</th>\n",
       "      <td>good movie depends on good story</td>\n",
       "      <td>0</td>\n",
       "    </tr>\n",
       "  </tbody>\n",
       "</table>\n",
       "</div>"
      ],
      "text/plain": [
       "                                            Document  Class\n",
       "0         Upgrad is a great educational institution.      1\n",
       "1            Educational greatness depends on ethics      1\n",
       "2  A story of great ethics and educational greatness      1\n",
       "3                           Sholey is a great cinema      0\n",
       "4                   good movie depends on good story      0"
      ]
     },
     "execution_count": 9,
     "metadata": {},
     "output_type": "execute_result"
    }
   ],
   "source": [
    "train_docs['Class'] = train_docs['Class'].map({'education':1 , 'cinema':0})\n",
    "train_docs"
   ]
  },
  {
   "cell_type": "code",
   "execution_count": 10,
   "metadata": {},
   "outputs": [
    {
     "data": {
      "text/plain": [
       "array([['Upgrad is a great educational institution.', 1],\n",
       "       ['Educational greatness depends on ethics', 1],\n",
       "       ['A story of great ethics and educational greatness', 1],\n",
       "       ['Sholey is a great cinema', 0],\n",
       "       ['good movie depends on good story', 0]], dtype=object)"
      ]
     },
     "execution_count": 10,
     "metadata": {},
     "output_type": "execute_result"
    }
   ],
   "source": [
    "#convert these to x_train adn y_train\n",
    "X_train_array = train_docs.values\n",
    "X_train_array"
   ]
  },
  {
   "cell_type": "code",
   "execution_count": 14,
   "metadata": {},
   "outputs": [],
   "source": [
    "X_train =  X_train_array[:,0]\n",
    "y_train = X_train_array[:,1]\n",
    "y_train= y_train.astype('int')"
   ]
  },
  {
   "cell_type": "code",
   "execution_count": 19,
   "metadata": {},
   "outputs": [
    {
     "data": {
      "text/plain": [
       "array([1, 1, 1, 0, 0])"
      ]
     },
     "execution_count": 19,
     "metadata": {},
     "output_type": "execute_result"
    }
   ],
   "source": [
    "y_train"
   ]
  },
  {
   "cell_type": "markdown",
   "metadata": {},
   "source": [
    "## Creating the Bag of words "
   ]
  },
  {
   "cell_type": "code",
   "execution_count": 20,
   "metadata": {},
   "outputs": [],
   "source": [
    "from sklearn.feature_extraction.text import CountVectorizer"
   ]
  },
  {
   "cell_type": "code",
   "execution_count": 23,
   "metadata": {},
   "outputs": [],
   "source": [
    "# create object of count vectorizer class \n",
    "vec = CountVectorizer()\n",
    "# basically it will create the vocablury\n"
   ]
  },
  {
   "cell_type": "code",
   "execution_count": 25,
   "metadata": {},
   "outputs": [
    {
     "data": {
      "text/plain": [
       "{'upgrad': 15,\n",
       " 'is': 9,\n",
       " 'great': 6,\n",
       " 'educational': 3,\n",
       " 'institution': 8,\n",
       " 'greatness': 7,\n",
       " 'depends': 2,\n",
       " 'on': 12,\n",
       " 'ethics': 4,\n",
       " 'story': 14,\n",
       " 'of': 11,\n",
       " 'and': 0,\n",
       " 'sholey': 13,\n",
       " 'cinema': 1,\n",
       " 'good': 5,\n",
       " 'movie': 10}"
      ]
     },
     "execution_count": 25,
     "metadata": {},
     "output_type": "execute_result"
    }
   ],
   "source": [
    "vec.fit(X_train)\n",
    "vec.vocabulary_"
   ]
  },
  {
   "cell_type": "code",
   "execution_count": 28,
   "metadata": {},
   "outputs": [
    {
     "data": {
      "text/plain": [
       "{'upgrad': 11,\n",
       " 'great': 5,\n",
       " 'educational': 2,\n",
       " 'institution': 7,\n",
       " 'greatness': 6,\n",
       " 'depends': 1,\n",
       " 'ethics': 3,\n",
       " 'story': 10,\n",
       " 'sholey': 9,\n",
       " 'cinema': 0,\n",
       " 'good': 4,\n",
       " 'movie': 8}"
      ]
     },
     "execution_count": 28,
     "metadata": {},
     "output_type": "execute_result"
    }
   ],
   "source": [
    "# remove the stop words --- will learn more in NLP\n",
    "\n",
    "vec = CountVectorizer(stop_words='english')\n",
    "vec.fit(X_train)\n",
    "vec.vocabulary_"
   ]
  },
  {
   "cell_type": "code",
   "execution_count": 29,
   "metadata": {},
   "outputs": [
    {
     "name": "stdout",
     "output_type": "stream",
     "text": [
      "['cinema', 'depends', 'educational', 'ethics', 'good', 'great', 'greatness', 'institution', 'movie', 'sholey', 'story', 'upgrad']\n",
      "12\n"
     ]
    }
   ],
   "source": [
    "print(vec.get_feature_names ()) \n",
    "print(len(vec.get_feature_names ()))\n"
   ]
  },
  {
   "cell_type": "code",
   "execution_count": 30,
   "metadata": {},
   "outputs": [
    {
     "data": {
      "text/plain": [
       "<5x12 sparse matrix of type '<class 'numpy.int64'>'\n",
       "\twith 20 stored elements in Compressed Sparse Row format>"
      ]
     },
     "execution_count": 30,
     "metadata": {},
     "output_type": "execute_result"
    }
   ],
   "source": [
    "# transform the train set to sparse matrix \n",
    "X_train_transformed  = vec.transform(X_train)\n",
    "X_train_transformed"
   ]
  },
  {
   "cell_type": "code",
   "execution_count": 31,
   "metadata": {},
   "outputs": [
    {
     "name": "stdout",
     "output_type": "stream",
     "text": [
      "  (0, 2)\t1\n",
      "  (0, 5)\t1\n",
      "  (0, 7)\t1\n",
      "  (0, 11)\t1\n",
      "  (1, 1)\t1\n",
      "  (1, 2)\t1\n",
      "  (1, 3)\t1\n",
      "  (1, 6)\t1\n",
      "  (2, 2)\t1\n",
      "  (2, 3)\t1\n",
      "  (2, 5)\t1\n",
      "  (2, 6)\t1\n",
      "  (2, 10)\t1\n",
      "  (3, 0)\t1\n",
      "  (3, 5)\t1\n",
      "  (3, 9)\t1\n",
      "  (4, 1)\t1\n",
      "  (4, 4)\t2\n",
      "  (4, 8)\t1\n",
      "  (4, 10)\t1\n"
     ]
    }
   ],
   "source": [
    "print(X_train_transformed)"
   ]
  },
  {
   "cell_type": "code",
   "execution_count": 32,
   "metadata": {},
   "outputs": [
    {
     "data": {
      "text/plain": [
       "array([[0, 0, 1, 0, 0, 1, 0, 1, 0, 0, 0, 1],\n",
       "       [0, 1, 1, 1, 0, 0, 1, 0, 0, 0, 0, 0],\n",
       "       [0, 0, 1, 1, 0, 1, 1, 0, 0, 0, 1, 0],\n",
       "       [1, 0, 0, 0, 0, 1, 0, 0, 0, 1, 0, 0],\n",
       "       [0, 1, 0, 0, 2, 0, 0, 0, 1, 0, 1, 0]], dtype=int64)"
      ]
     },
     "execution_count": 32,
     "metadata": {},
     "output_type": "execute_result"
    }
   ],
   "source": [
    "# converting to vanilla numpy array \n",
    "X_train_transformed.toarray()"
   ]
  },
  {
   "cell_type": "code",
   "execution_count": 33,
   "metadata": {},
   "outputs": [
    {
     "data": {
      "text/html": [
       "<div>\n",
       "<style scoped>\n",
       "    .dataframe tbody tr th:only-of-type {\n",
       "        vertical-align: middle;\n",
       "    }\n",
       "\n",
       "    .dataframe tbody tr th {\n",
       "        vertical-align: top;\n",
       "    }\n",
       "\n",
       "    .dataframe thead th {\n",
       "        text-align: right;\n",
       "    }\n",
       "</style>\n",
       "<table border=\"1\" class=\"dataframe\">\n",
       "  <thead>\n",
       "    <tr style=\"text-align: right;\">\n",
       "      <th></th>\n",
       "      <th>cinema</th>\n",
       "      <th>depends</th>\n",
       "      <th>educational</th>\n",
       "      <th>ethics</th>\n",
       "      <th>good</th>\n",
       "      <th>great</th>\n",
       "      <th>greatness</th>\n",
       "      <th>institution</th>\n",
       "      <th>movie</th>\n",
       "      <th>sholey</th>\n",
       "      <th>story</th>\n",
       "      <th>upgrad</th>\n",
       "    </tr>\n",
       "  </thead>\n",
       "  <tbody>\n",
       "    <tr>\n",
       "      <th>0</th>\n",
       "      <td>0</td>\n",
       "      <td>0</td>\n",
       "      <td>1</td>\n",
       "      <td>0</td>\n",
       "      <td>0</td>\n",
       "      <td>1</td>\n",
       "      <td>0</td>\n",
       "      <td>1</td>\n",
       "      <td>0</td>\n",
       "      <td>0</td>\n",
       "      <td>0</td>\n",
       "      <td>1</td>\n",
       "    </tr>\n",
       "    <tr>\n",
       "      <th>1</th>\n",
       "      <td>0</td>\n",
       "      <td>1</td>\n",
       "      <td>1</td>\n",
       "      <td>1</td>\n",
       "      <td>0</td>\n",
       "      <td>0</td>\n",
       "      <td>1</td>\n",
       "      <td>0</td>\n",
       "      <td>0</td>\n",
       "      <td>0</td>\n",
       "      <td>0</td>\n",
       "      <td>0</td>\n",
       "    </tr>\n",
       "    <tr>\n",
       "      <th>2</th>\n",
       "      <td>0</td>\n",
       "      <td>0</td>\n",
       "      <td>1</td>\n",
       "      <td>1</td>\n",
       "      <td>0</td>\n",
       "      <td>1</td>\n",
       "      <td>1</td>\n",
       "      <td>0</td>\n",
       "      <td>0</td>\n",
       "      <td>0</td>\n",
       "      <td>1</td>\n",
       "      <td>0</td>\n",
       "    </tr>\n",
       "    <tr>\n",
       "      <th>3</th>\n",
       "      <td>1</td>\n",
       "      <td>0</td>\n",
       "      <td>0</td>\n",
       "      <td>0</td>\n",
       "      <td>0</td>\n",
       "      <td>1</td>\n",
       "      <td>0</td>\n",
       "      <td>0</td>\n",
       "      <td>0</td>\n",
       "      <td>1</td>\n",
       "      <td>0</td>\n",
       "      <td>0</td>\n",
       "    </tr>\n",
       "    <tr>\n",
       "      <th>4</th>\n",
       "      <td>0</td>\n",
       "      <td>1</td>\n",
       "      <td>0</td>\n",
       "      <td>0</td>\n",
       "      <td>2</td>\n",
       "      <td>0</td>\n",
       "      <td>0</td>\n",
       "      <td>0</td>\n",
       "      <td>1</td>\n",
       "      <td>0</td>\n",
       "      <td>1</td>\n",
       "      <td>0</td>\n",
       "    </tr>\n",
       "  </tbody>\n",
       "</table>\n",
       "</div>"
      ],
      "text/plain": [
       "   cinema  depends  educational  ethics  good  great  greatness  institution  \\\n",
       "0       0        0            1       0     0      1          0            1   \n",
       "1       0        1            1       1     0      0          1            0   \n",
       "2       0        0            1       1     0      1          1            0   \n",
       "3       1        0            0       0     0      1          0            0   \n",
       "4       0        1            0       0     2      0          0            0   \n",
       "\n",
       "   movie  sholey  story  upgrad  \n",
       "0      0       0      0       1  \n",
       "1      0       0      0       0  \n",
       "2      0       0      1       0  \n",
       "3      0       1      0       0  \n",
       "4      1       0      1       0  "
      ]
     },
     "execution_count": 33,
     "metadata": {},
     "output_type": "execute_result"
    }
   ],
   "source": [
    "# converting the matrix to dataframe\n",
    "pd.DataFrame(X_train_transformed.toarray()  , columns = vec.get_feature_names())"
   ]
  },
  {
   "cell_type": "code",
   "execution_count": 35,
   "metadata": {},
   "outputs": [
    {
     "data": {
      "text/html": [
       "<div>\n",
       "<style scoped>\n",
       "    .dataframe tbody tr th:only-of-type {\n",
       "        vertical-align: middle;\n",
       "    }\n",
       "\n",
       "    .dataframe tbody tr th {\n",
       "        vertical-align: top;\n",
       "    }\n",
       "\n",
       "    .dataframe thead th {\n",
       "        text-align: right;\n",
       "    }\n",
       "</style>\n",
       "<table border=\"1\" class=\"dataframe\">\n",
       "  <thead>\n",
       "    <tr style=\"text-align: right;\">\n",
       "      <th></th>\n",
       "      <th>Document</th>\n",
       "      <th>Class</th>\n",
       "    </tr>\n",
       "  </thead>\n",
       "  <tbody>\n",
       "    <tr>\n",
       "      <th>0</th>\n",
       "      <td>very good educational institution</td>\n",
       "      <td>education</td>\n",
       "    </tr>\n",
       "  </tbody>\n",
       "</table>\n",
       "</div>"
      ],
      "text/plain": [
       "                            Document      Class\n",
       "0  very good educational institution  education"
      ]
     },
     "execution_count": 35,
     "metadata": {},
     "output_type": "execute_result"
    }
   ],
   "source": [
    "# Lets convert the test set also \n",
    "test_doc = pd.read_csv('example_test.csv')\n",
    "test_doc.head()"
   ]
  },
  {
   "cell_type": "code",
   "execution_count": 36,
   "metadata": {
    "scrolled": true
   },
   "outputs": [
    {
     "data": {
      "text/html": [
       "<div>\n",
       "<style scoped>\n",
       "    .dataframe tbody tr th:only-of-type {\n",
       "        vertical-align: middle;\n",
       "    }\n",
       "\n",
       "    .dataframe tbody tr th {\n",
       "        vertical-align: top;\n",
       "    }\n",
       "\n",
       "    .dataframe thead th {\n",
       "        text-align: right;\n",
       "    }\n",
       "</style>\n",
       "<table border=\"1\" class=\"dataframe\">\n",
       "  <thead>\n",
       "    <tr style=\"text-align: right;\">\n",
       "      <th></th>\n",
       "      <th>Document</th>\n",
       "      <th>Class</th>\n",
       "    </tr>\n",
       "  </thead>\n",
       "  <tbody>\n",
       "    <tr>\n",
       "      <th>0</th>\n",
       "      <td>very good educational institution</td>\n",
       "      <td>1</td>\n",
       "    </tr>\n",
       "  </tbody>\n",
       "</table>\n",
       "</div>"
      ],
      "text/plain": [
       "                            Document  Class\n",
       "0  very good educational institution      1"
      ]
     },
     "execution_count": 36,
     "metadata": {},
     "output_type": "execute_result"
    }
   ],
   "source": [
    "test_doc['Class']= test_doc['Class'].map({'education':1 , 'Cinema':0})\n",
    "test_doc"
   ]
  },
  {
   "cell_type": "code",
   "execution_count": 51,
   "metadata": {},
   "outputs": [
    {
     "data": {
      "text/plain": [
       "array([['very good educational institution', 1]], dtype=object)"
      ]
     },
     "execution_count": 51,
     "metadata": {},
     "output_type": "execute_result"
    }
   ],
   "source": [
    "#converting to array values\n",
    "X_test_array = test_doc.values\n",
    "X_test_array"
   ]
  },
  {
   "cell_type": "code",
   "execution_count": 52,
   "metadata": {},
   "outputs": [
    {
     "data": {
      "text/plain": [
       "array([1])"
      ]
     },
     "execution_count": 52,
     "metadata": {},
     "output_type": "execute_result"
    }
   ],
   "source": [
    "# creating X_test and y_test\n",
    "X_test = X_test_array[:,0]\n",
    "y_test = X_test_array[:,1]\n",
    "y_test = y_test.astype(int)\n",
    "y_test"
   ]
  },
  {
   "cell_type": "code",
   "execution_count": 53,
   "metadata": {},
   "outputs": [
    {
     "name": "stdout",
     "output_type": "stream",
     "text": [
      "  (0, 2)\t1\n",
      "  (0, 4)\t1\n",
      "  (0, 7)\t1\n"
     ]
    }
   ],
   "source": [
    "# transform the test data \n",
    "X_test_transformed = vec.transform(X_test)\n",
    "print(X_test_transformed)"
   ]
  },
  {
   "cell_type": "code",
   "execution_count": 56,
   "metadata": {
    "scrolled": true
   },
   "outputs": [
    {
     "data": {
      "text/html": [
       "<div>\n",
       "<style scoped>\n",
       "    .dataframe tbody tr th:only-of-type {\n",
       "        vertical-align: middle;\n",
       "    }\n",
       "\n",
       "    .dataframe tbody tr th {\n",
       "        vertical-align: top;\n",
       "    }\n",
       "\n",
       "    .dataframe thead th {\n",
       "        text-align: right;\n",
       "    }\n",
       "</style>\n",
       "<table border=\"1\" class=\"dataframe\">\n",
       "  <thead>\n",
       "    <tr style=\"text-align: right;\">\n",
       "      <th></th>\n",
       "      <th>cinema</th>\n",
       "      <th>depends</th>\n",
       "      <th>educational</th>\n",
       "      <th>ethics</th>\n",
       "      <th>good</th>\n",
       "      <th>great</th>\n",
       "      <th>greatness</th>\n",
       "      <th>institution</th>\n",
       "      <th>movie</th>\n",
       "      <th>sholey</th>\n",
       "      <th>story</th>\n",
       "      <th>upgrad</th>\n",
       "    </tr>\n",
       "  </thead>\n",
       "  <tbody>\n",
       "    <tr>\n",
       "      <th>0</th>\n",
       "      <td>0</td>\n",
       "      <td>0</td>\n",
       "      <td>1</td>\n",
       "      <td>0</td>\n",
       "      <td>1</td>\n",
       "      <td>0</td>\n",
       "      <td>0</td>\n",
       "      <td>1</td>\n",
       "      <td>0</td>\n",
       "      <td>0</td>\n",
       "      <td>0</td>\n",
       "      <td>0</td>\n",
       "    </tr>\n",
       "  </tbody>\n",
       "</table>\n",
       "</div>"
      ],
      "text/plain": [
       "   cinema  depends  educational  ethics  good  great  greatness  institution  \\\n",
       "0       0        0            1       0     1      0          0            1   \n",
       "\n",
       "   movie  sholey  story  upgrad  \n",
       "0      0       0      0       0  "
      ]
     },
     "execution_count": 56,
     "metadata": {},
     "output_type": "execute_result"
    }
   ],
   "source": [
    "pd.DataFrame(X_test_transformed.toarray() ,  columns = vec.get_feature_names())"
   ]
  },
  {
   "cell_type": "code",
   "execution_count": 61,
   "metadata": {},
   "outputs": [
    {
     "data": {
      "text/plain": [
       "array([[0, 0, 1, 0, 1, 0, 0, 1, 0, 0, 0, 0]], dtype=int64)"
      ]
     },
     "execution_count": 61,
     "metadata": {},
     "output_type": "execute_result"
    }
   ],
   "source": [
    "X_test = X_test_transformed.toarray()\n",
    "X_test"
   ]
  },
  {
   "cell_type": "code",
   "execution_count": 63,
   "metadata": {},
   "outputs": [
    {
     "name": "stdout",
     "output_type": "stream",
     "text": [
      "[[0.32808399 0.67191601]]\n"
     ]
    }
   ],
   "source": [
    "# building multinomial bayes\n",
    "from sklearn.naive_bayes import MultinomialNB\n",
    "\n",
    "mnb = MultinomialNB()\n",
    "mnb.fit(X_train_transformed, y_train)\n",
    "\n",
    "# now we have fit the model and we can predict the x_test\n",
    "proba = mnb.predict_proba(X_test)\n",
    "print(proba)"
   ]
  },
  {
   "cell_type": "code",
   "execution_count": 64,
   "metadata": {},
   "outputs": [
    {
     "name": "stdout",
     "output_type": "stream",
     "text": [
      " probability of cinema [0.32808399]\n",
      " probability of education [0.67191601]\n"
     ]
    }
   ],
   "source": [
    "print(\" probability of cinema\" , proba[:,0])\n",
    "print(\" probability of education\" , proba[:,1])"
   ]
  },
  {
   "cell_type": "markdown",
   "metadata": {},
   "source": [
    "# hence we can say test doc belongs to Education"
   ]
  },
  {
   "cell_type": "code",
   "execution_count": 65,
   "metadata": {},
   "outputs": [],
   "source": [
    "# bernouli \n",
    "from  sklearn.naive_bayes import BernoulliNB\n",
    "\n",
    "bnb = BernoulliNB()\n",
    "bnb.fit(X_train_transformed , y_train)\n",
    "\n",
    "prb1 = bnb.predict_proba(X_test)"
   ]
  },
  {
   "cell_type": "code",
   "execution_count": 66,
   "metadata": {},
   "outputs": [
    {
     "name": "stdout",
     "output_type": "stream",
     "text": [
      " probability of cinema [0.2326374]\n",
      " probability of education [0.7673626]\n"
     ]
    }
   ],
   "source": [
    "print(\" probability of cinema\" , prb1[:,0])\n",
    "print(\" probability of education\" , prb1[:,1])"
   ]
  },
  {
   "cell_type": "markdown",
   "metadata": {},
   "source": [
    "# Spam Ham example "
   ]
  },
  {
   "cell_type": "code",
   "execution_count": 89,
   "metadata": {},
   "outputs": [
    {
     "data": {
      "text/html": [
       "<div>\n",
       "<style scoped>\n",
       "    .dataframe tbody tr th:only-of-type {\n",
       "        vertical-align: middle;\n",
       "    }\n",
       "\n",
       "    .dataframe tbody tr th {\n",
       "        vertical-align: top;\n",
       "    }\n",
       "\n",
       "    .dataframe thead th {\n",
       "        text-align: right;\n",
       "    }\n",
       "</style>\n",
       "<table border=\"1\" class=\"dataframe\">\n",
       "  <thead>\n",
       "    <tr style=\"text-align: right;\">\n",
       "      <th></th>\n",
       "      <th>Class</th>\n",
       "      <th>sms</th>\n",
       "    </tr>\n",
       "  </thead>\n",
       "  <tbody>\n",
       "    <tr>\n",
       "      <th>0</th>\n",
       "      <td>ham</td>\n",
       "      <td>Go until jurong point, crazy.. Available only ...</td>\n",
       "    </tr>\n",
       "    <tr>\n",
       "      <th>1</th>\n",
       "      <td>ham</td>\n",
       "      <td>Ok lar... Joking wif u oni...</td>\n",
       "    </tr>\n",
       "    <tr>\n",
       "      <th>2</th>\n",
       "      <td>spam</td>\n",
       "      <td>Free entry in 2 a wkly comp to win FA Cup fina...</td>\n",
       "    </tr>\n",
       "    <tr>\n",
       "      <th>3</th>\n",
       "      <td>ham</td>\n",
       "      <td>U dun say so early hor... U c already then say...</td>\n",
       "    </tr>\n",
       "    <tr>\n",
       "      <th>4</th>\n",
       "      <td>ham</td>\n",
       "      <td>Nah I don't think he goes to usf, he lives aro...</td>\n",
       "    </tr>\n",
       "  </tbody>\n",
       "</table>\n",
       "</div>"
      ],
      "text/plain": [
       "  Class                                                sms\n",
       "0   ham  Go until jurong point, crazy.. Available only ...\n",
       "1   ham                      Ok lar... Joking wif u oni...\n",
       "2  spam  Free entry in 2 a wkly comp to win FA Cup fina...\n",
       "3   ham  U dun say so early hor... U c already then say...\n",
       "4   ham  Nah I don't think he goes to usf, he lives aro..."
      ]
     },
     "execution_count": 89,
     "metadata": {},
     "output_type": "execute_result"
    }
   ],
   "source": [
    "docs = pd.read_table('SMSSpamCollection'  , header =None , names =['Class' ,'sms'])\n",
    "docs.head()"
   ]
  },
  {
   "cell_type": "code",
   "execution_count": 90,
   "metadata": {},
   "outputs": [
    {
     "data": {
      "text/plain": [
       "<bound method DataFrame.info of      Class                                                sms\n",
       "0      ham  Go until jurong point, crazy.. Available only ...\n",
       "1      ham                      Ok lar... Joking wif u oni...\n",
       "2     spam  Free entry in 2 a wkly comp to win FA Cup fina...\n",
       "3      ham  U dun say so early hor... U c already then say...\n",
       "4      ham  Nah I don't think he goes to usf, he lives aro...\n",
       "...    ...                                                ...\n",
       "5567  spam  This is the 2nd time we have tried 2 contact u...\n",
       "5568   ham               Will ü b going to esplanade fr home?\n",
       "5569   ham  Pity, * was in mood for that. So...any other s...\n",
       "5570   ham  The guy did some bitching but I acted like i'd...\n",
       "5571   ham                         Rofl. Its true to its name\n",
       "\n",
       "[5572 rows x 2 columns]>"
      ]
     },
     "execution_count": 90,
     "metadata": {},
     "output_type": "execute_result"
    }
   ],
   "source": [
    "docs.info"
   ]
  },
  {
   "cell_type": "code",
   "execution_count": 91,
   "metadata": {},
   "outputs": [
    {
     "data": {
      "text/plain": [
       "Class    0\n",
       "sms      0\n",
       "dtype: int64"
      ]
     },
     "execution_count": 91,
     "metadata": {},
     "output_type": "execute_result"
    }
   ],
   "source": [
    "docs.isnull().sum()"
   ]
  },
  {
   "cell_type": "code",
   "execution_count": 92,
   "metadata": {},
   "outputs": [
    {
     "data": {
      "text/plain": [
       "pandas.core.frame.DataFrame"
      ]
     },
     "execution_count": 92,
     "metadata": {},
     "output_type": "execute_result"
    }
   ],
   "source": [
    "type(docs)"
   ]
  },
  {
   "cell_type": "code",
   "execution_count": 94,
   "metadata": {},
   "outputs": [
    {
     "data": {
      "text/plain": [
       "ham     4825\n",
       "spam     747\n",
       "Name: Class, dtype: int64"
      ]
     },
     "execution_count": 94,
     "metadata": {},
     "output_type": "execute_result"
    }
   ],
   "source": [
    "docs.Class.value_counts()"
   ]
  },
  {
   "cell_type": "code",
   "execution_count": 96,
   "metadata": {},
   "outputs": [
    {
     "data": {
      "text/plain": [
       "ham     86.593683\n",
       "spam    13.406317\n",
       "Name: Class, dtype: float64"
      ]
     },
     "execution_count": 96,
     "metadata": {},
     "output_type": "execute_result"
    }
   ],
   "source": [
    "# lets check the spam rate \n",
    "(docs.Class.value_counts()/len(docs) )*100"
   ]
  },
  {
   "cell_type": "code",
   "execution_count": null,
   "metadata": {},
   "outputs": [],
   "source": [
    "# 23 can see that there is 13 % spam rate and 86 % ham rate"
   ]
  },
  {
   "cell_type": "code",
   "execution_count": 97,
   "metadata": {},
   "outputs": [
    {
     "data": {
      "text/html": [
       "<div>\n",
       "<style scoped>\n",
       "    .dataframe tbody tr th:only-of-type {\n",
       "        vertical-align: middle;\n",
       "    }\n",
       "\n",
       "    .dataframe tbody tr th {\n",
       "        vertical-align: top;\n",
       "    }\n",
       "\n",
       "    .dataframe thead th {\n",
       "        text-align: right;\n",
       "    }\n",
       "</style>\n",
       "<table border=\"1\" class=\"dataframe\">\n",
       "  <thead>\n",
       "    <tr style=\"text-align: right;\">\n",
       "      <th></th>\n",
       "      <th>Class</th>\n",
       "      <th>sms</th>\n",
       "      <th>labels</th>\n",
       "    </tr>\n",
       "  </thead>\n",
       "  <tbody>\n",
       "    <tr>\n",
       "      <th>0</th>\n",
       "      <td>ham</td>\n",
       "      <td>Go until jurong point, crazy.. Available only ...</td>\n",
       "      <td>0</td>\n",
       "    </tr>\n",
       "    <tr>\n",
       "      <th>1</th>\n",
       "      <td>ham</td>\n",
       "      <td>Ok lar... Joking wif u oni...</td>\n",
       "      <td>0</td>\n",
       "    </tr>\n",
       "    <tr>\n",
       "      <th>2</th>\n",
       "      <td>spam</td>\n",
       "      <td>Free entry in 2 a wkly comp to win FA Cup fina...</td>\n",
       "      <td>1</td>\n",
       "    </tr>\n",
       "    <tr>\n",
       "      <th>3</th>\n",
       "      <td>ham</td>\n",
       "      <td>U dun say so early hor... U c already then say...</td>\n",
       "      <td>0</td>\n",
       "    </tr>\n",
       "    <tr>\n",
       "      <th>4</th>\n",
       "      <td>ham</td>\n",
       "      <td>Nah I don't think he goes to usf, he lives aro...</td>\n",
       "      <td>0</td>\n",
       "    </tr>\n",
       "  </tbody>\n",
       "</table>\n",
       "</div>"
      ],
      "text/plain": [
       "  Class                                                sms  labels\n",
       "0   ham  Go until jurong point, crazy.. Available only ...       0\n",
       "1   ham                      Ok lar... Joking wif u oni...       0\n",
       "2  spam  Free entry in 2 a wkly comp to win FA Cup fina...       1\n",
       "3   ham  U dun say so early hor... U c already then say...       0\n",
       "4   ham  Nah I don't think he goes to usf, he lives aro...       0"
      ]
     },
     "execution_count": 97,
     "metadata": {},
     "output_type": "execute_result"
    }
   ],
   "source": [
    "# lets convert to 0 and 1 \n",
    "docs['labels'] = docs['Class'].map({'ham':0 ,'spam':1})\n",
    "docs.head()"
   ]
  },
  {
   "cell_type": "code",
   "execution_count": 98,
   "metadata": {},
   "outputs": [
    {
     "data": {
      "text/html": [
       "<div>\n",
       "<style scoped>\n",
       "    .dataframe tbody tr th:only-of-type {\n",
       "        vertical-align: middle;\n",
       "    }\n",
       "\n",
       "    .dataframe tbody tr th {\n",
       "        vertical-align: top;\n",
       "    }\n",
       "\n",
       "    .dataframe thead th {\n",
       "        text-align: right;\n",
       "    }\n",
       "</style>\n",
       "<table border=\"1\" class=\"dataframe\">\n",
       "  <thead>\n",
       "    <tr style=\"text-align: right;\">\n",
       "      <th></th>\n",
       "      <th>sms</th>\n",
       "      <th>labels</th>\n",
       "    </tr>\n",
       "  </thead>\n",
       "  <tbody>\n",
       "    <tr>\n",
       "      <th>0</th>\n",
       "      <td>Go until jurong point, crazy.. Available only ...</td>\n",
       "      <td>0</td>\n",
       "    </tr>\n",
       "    <tr>\n",
       "      <th>1</th>\n",
       "      <td>Ok lar... Joking wif u oni...</td>\n",
       "      <td>0</td>\n",
       "    </tr>\n",
       "    <tr>\n",
       "      <th>2</th>\n",
       "      <td>Free entry in 2 a wkly comp to win FA Cup fina...</td>\n",
       "      <td>1</td>\n",
       "    </tr>\n",
       "    <tr>\n",
       "      <th>3</th>\n",
       "      <td>U dun say so early hor... U c already then say...</td>\n",
       "      <td>0</td>\n",
       "    </tr>\n",
       "    <tr>\n",
       "      <th>4</th>\n",
       "      <td>Nah I don't think he goes to usf, he lives aro...</td>\n",
       "      <td>0</td>\n",
       "    </tr>\n",
       "  </tbody>\n",
       "</table>\n",
       "</div>"
      ],
      "text/plain": [
       "                                                 sms  labels\n",
       "0  Go until jurong point, crazy.. Available only ...       0\n",
       "1                      Ok lar... Joking wif u oni...       0\n",
       "2  Free entry in 2 a wkly comp to win FA Cup fina...       1\n",
       "3  U dun say so early hor... U c already then say...       0\n",
       "4  Nah I don't think he goes to usf, he lives aro...       0"
      ]
     },
     "execution_count": 98,
     "metadata": {},
     "output_type": "execute_result"
    }
   ],
   "source": [
    "docs = docs.drop('Class'  , axis = 1)\n",
    "docs.head()"
   ]
  },
  {
   "cell_type": "code",
   "execution_count": 99,
   "metadata": {},
   "outputs": [],
   "source": [
    "X= docs.sms\n",
    "y= docs.labels"
   ]
  },
  {
   "cell_type": "code",
   "execution_count": 140,
   "metadata": {},
   "outputs": [
    {
     "name": "stdout",
     "output_type": "stream",
     "text": [
      "(4179,) (4179,) (1393,) (1393,)\n"
     ]
    }
   ],
   "source": [
    "# train and test \n",
    "from sklearn.model_selection import train_test_split\n",
    "X_train , X_test ,y_train, y_test = train_test_split(X,y, random_state =1)\n",
    "print(X_train.shape , y_train.shape , X_test.shape , y_test.shape)"
   ]
  },
  {
   "cell_type": "code",
   "execution_count": 141,
   "metadata": {},
   "outputs": [
    {
     "data": {
      "text/plain": [
       "1078                         Yep, by the pretty sculpture\n",
       "4028        Yes, princess. Are you going to make me moan?\n",
       "958                            Welp apparently he retired\n",
       "4642                                              Havent.\n",
       "4674    I forgot 2 ask ü all smth.. There's a card on ...\n",
       "                              ...                        \n",
       "3207                                        At home also.\n",
       "4655                     Hope you are having a great day.\n",
       "1140    Message:some text missing* Sender:Name Missing...\n",
       "1793    WIN: We have a winner! Mr. T. Foley won an iPo...\n",
       "1710    U meet other fren dun wan meet me ah... Muz b ...\n",
       "Name: sms, Length: 1393, dtype: object"
      ]
     },
     "execution_count": 141,
     "metadata": {},
     "output_type": "execute_result"
    }
   ],
   "source": [
    "X_test"
   ]
  },
  {
   "cell_type": "code",
   "execution_count": 142,
   "metadata": {
    "scrolled": true
   },
   "outputs": [
    {
     "data": {
      "text/plain": [
       "CountVectorizer(analyzer='word', binary=False, decode_error='strict',\n",
       "        dtype=<class 'numpy.int64'>, encoding='utf-8', input='content',\n",
       "        lowercase=True, max_df=1.0, max_features=None, min_df=1,\n",
       "        ngram_range=(1, 1), preprocessor=None, stop_words='english',\n",
       "        strip_accents=None, token_pattern='(?u)\\\\b\\\\w\\\\w+\\\\b',\n",
       "        tokenizer=None, vocabulary=None)"
      ]
     },
     "execution_count": 142,
     "metadata": {},
     "output_type": "execute_result"
    }
   ],
   "source": [
    "#vectorizing the sentences or creating the Bag of words\n",
    "from sklearn.feature_extraction.text import CountVectorizer \n",
    "\n",
    "vec = CountVectorizer(stop_words= 'english')\n",
    "vec.fit(X_train)\n",
    "\n"
   ]
  },
  {
   "cell_type": "code",
   "execution_count": 143,
   "metadata": {
    "scrolled": true
   },
   "outputs": [
    {
     "name": "stdout",
     "output_type": "stream",
     "text": [
      "{'4mths': 509, 'half': 3089, 'price': 5027, 'orange': 4626, 'line': 3852, 'rental': 5310, 'latest': 3763, 'camera': 1527, 'phones': 4822, 'free': 2780, 'phone': 4818, '11mths': 264, 'mobilesdirect': 4248, '08000938767': 50, 'update': 6673, 'or2stoptxt': 4624, 'cs': 1971, 'did': 2169, 'stitch': 6028, 'trouser': 6545, 'hope': 3260, 'enjoyed': 2436, 'new': 4442, 'content': 1867, 'text': 6321, 'stop': 6038, '61610': 563, 'unsubscribe': 6665, 'help': 3180, '08712400602450p': 98, 'provided': 5089, 'tones2you': 6473, 'uk': 6614, 'heard': 3159, 'u4': 6608, 'rude': 5443, 'chat': 1643, 'private': 5040, '01223585334': 5, 'cum': 1989, 'wan': 6852, '2c': 374, 'pics': 4837, 'gettin': 2913, 'shagged': 5628, 'pix': 4858, '8552': 660, '2end': 378, 'send': 5590, 'sam': 5487, 'xxx': 7127, 'neva': 4438, 'tell': 6289, 'noe': 4477, 'home': 3244, 'da': 2015, 'aft': 826, 'wat': 6876, 'wiskey': 7012, 'brandy': 1389, 'rum': 5450, 'gin': 2927, 'beer': 1209, 'vodka': 6798, 'scotch': 5535, 'shampain': 5637, 'wine': 6993, 'kudi': 3715, 'yarasu': 7142, 'dhina': 2156, 'vaazhthukkal': 6720, 'seeking': 5573, 'lady': 3732, 'street': 6056, 'freak': 2776, 'sheets': 5649, 'lol': 3910, 'drunkard': 2327, 'just': 3623, 'doing': 2259, 'hair': 3085, 'moment': 4265, 'yeah': 7149, 'tonight': 6475, 'wats': 6887, 'plan': 4867, 'turning': 6579, 'moms': 4267, 'telling': 6290, 'cancer': 1535, 'sister': 5745, 'won': 7041, 'calling': 1519, 'hurts': 3323, 'talk': 6234, 'love': 3953, 'coming': 1800, 'dinner': 2193, 'rite': 5396, 'dad': 2018, 'ask': 1032, 'confirm': 1843, 'wif': 6977, 'ah': 842, 'poor': 4931, 'baby': 1121, 'urfeeling': 6687, 'bettersn': 1243, 'luv': 3988, 'probthat': 5052, 'overdose': 4667, 'work': 7058, 'hey': 3198, 'careful': 1556, 'spk': 5938, 'sn': 5822, 'lots': 3942, 'lovejen': 3955, 'gam': 2856, 'gone': 2968, 'outstanding': 4664, 'innings': 3438, 'nice': 4453, 'working': 7062, 'haha': 3081, 'kidding': 3672, 'papa': 4705, 'needs': 4417, 'drugs': 2325, 'chief': 1677, 'bell': 1223, 'need': 4412, 'royal': 5432, 'visit': 6789, '1st': 324, 'june': 3618, 'ugh': 6610, 'long': 3917, 'day': 2054, 'exhausted': 2523, 'want': 6857, 'cuddle': 1984, 'nap': 4381, 'awesome': 1103, 'time': 6418, 'like': 3840, 'lt': 3974, 'gt': 3044, 'll': 3887, 'details': 2143, 'wee': 6916, 'bit': 1277, 'ok': 4578, 'lor': 3932, 'thk': 6376, 'tickets': 6407, 'cos': 1901, 'quite': 5149, 'late': 3760, 'look': 3921, 'ur': 6684, 'frens': 2791, 'darren': 2041, 'dont': 2269, 'know': 3700, 'bring': 1414, 'food': 2730, 'reason': 5224, 've': 6744, 'spoken': 5948, 'year': 7150, 'anyways': 947, 'great': 3020, 'week': 6918, 'best': 1237, 'exam': 2511, 'make': 4042, 'fucks': 2825, 'sake': 5476, 'yes': 7160, 'place': 4862, 'town': 6504, 'meet': 4130, 'exciting': 2515, 'adult': 806, 'singles': 5739, 'txt': 6590, '86688': 664, '150p': 293, 'msg': 4315, 'man': 4052, 'print': 5035, 'outs': 4660, 'room': 5418, 'think': 6368, 'saying': 5517, 'clearly': 1734, 'leave': 3793, 'come': 1794, 'st': 5972, 'andre': 912, 'virgil': 6783, 'cream': 1947, 'yoyyooo': 7179, 'change': 1623, 'permissions': 4789, 'drive': 2313, 'mac': 4013, 'usb': 6699, 'flash': 2692, 'sunshine': 6148, 'quiz': 5151, 'wkly': 7024, 'win': 6987, 'sony': 5865, 'dvd': 2350, 'player': 4875, 'country': 1914, 'algarve': 875, 'ansr': 927, '82277': 637, '50': 520, 'sp': 5898, 'tyrone': 6606, 'dear': 2066, 'th': 6333, 'birthday': 1275, 'loving': 3963, 'gopalettan': 2984, 'planning': 4871, 'small': 5796, 'gift': 2921, 'participate': 4724, 'welcome': 6933, 'contact': 1863, 'admin': 793, 'team': 6274, 'class': 1724, 'hours': 3282, 'sorry': 5877, 'okay': 4579, 'wait': 6834, 'rushing': 5458, 'school': 5527, 'rush': 5457, 'hungry': 3314, 'usually': 6712, 'stops': 6044, 'hella': 3177, 'weed': 6917, 'smoke': 5811, 'awarded': 1101, 'city': 1715, 'break': 1396, '200': 335, 'summer': 6139, 'shopping': 5681, 'spree': 5961, 'wk': 7020, 'store': 6046, '88039': 675, 'skilgme': 5759, 'tscs087147403231winawk': 6562, 'age16': 832, '50perwksub': 528, 'shall': 5635, 'pickle': 4836, 'isn': 3506, 'frnd': 2809, 'necesity': 4407, 'life': 3830, 'imagine': 3376, 'urself': 6697, 'witout': 7017, 'hw': 3328, 'feel': 2620, 'colleg': 1786, 'wth': 7102, 'cell': 1605, 'abt': 742, 'functions': 2833, 'thnk': 6378, 'events': 2491, 'espe': 2474, 'cared': 1553, 'missed': 4215, 'amp': 903, 'irritated': 3496, '4wrd': 517, 'frnds': 2810, 'wthout': 7103, 'live': 3880, 'jst': 3605, 'takecare': 6228, 'goodmorning': 2977, 'brum': 1437, 'thanks': 6337, 'putting': 5126, 'keeping': 3651, 'happy': 3120, 'soon': 5868, 'im': 3373, 'tellmiss': 6291, 'way': 6891, 'bloomberg': 1310, 'message': 4163, 'center': 1607, '447797706009': 482, 'apply': 969, 'future': 2842, 'http': 3298, 'careers': 1555, 'com': 1791, 'enjoy': 2435, 'plural': 4892, 'noun': 4515, 'research': 5331, 'sure': 6165, 'checking': 1656, 'happening': 3114, 'area': 991, 'aight': 850, 'sleeping': 5774, 'surfing': 6168, 'cool': 1888, 'breeze': 1406, 'bright': 1410, 'sun': 6142, 'fresh': 2793, 'flower': 2711, 'twittering': 6588, 'birds': 1270, 'waiting': 6837, 'wish': 7006, 'ringtone': 5389, 'order': 4630, 'reference': 5261, 'number': 4526, 'x49': 7114, 'mobile': 4246, 'charged': 1633, 'tone': 6470, 'arrive': 1016, 'customer': 2002, 'services': 5609, '09065989182': 214, 'colour': 1789, 'red': 5257, 'txtstar': 6598, 'does': 2245, 'uncle': 6626, 'timi': 6420, 'clearing': 1733, 'cars': 1569, 'getting': 2914, 'really': 5219, 'bad': 1128, 'totally': 6498, 'rejected': 5281, 'kinda': 3682, 'thing': 6366, 'sent': 5598, 'prices': 5028, 'mean': 4116, 'hi': 3202, 'darlin': 2038, 'london': 3914, 'smashed': 5801, 'driver': 2314, 'big': 1257, 'dent': 2118, 'missing': 4217, 'took': 6479, 'tablets': 6217, 'reaction': 5205, 'morning': 4289, 'going': 2959, 'intention': 3459, 'run': 5453, 'choose': 1700, 'clean': 1728, 'don': 2266, 'say': 5516, 'visitors': 6791, 'maybe': 4111, 'choice': 1698, 'wanted': 6859, 'embarassed': 2413, 'friend': 2800, 'wants': 6861, 'drop': 2319, 'buy': 1483, 'happened': 3113, 'tried': 6537, 'picking': 4835, 'various': 6735, 'points': 4914, 'yeovil': 7157, 'motor': 4298, 'project': 5064, '12': 266, '30': 412, 'max': 4106, 'easy': 2368, 'test': 6316, 'rd': 5199, 'fret': 2794, 'ovulation': 4673, 'strips': 6066, 'wont': 7048, 'til': 6416, 'march': 4072, 'postal': 4953, 'address': 790, 'alright': 887, 'loyalty': 3970, 'offer': 4560, 'nokia6650': 4485, '10': 244, 'txtauction': 6593, 'word': 7056, 'start': 5993, '81151': 632, '4t': 511, 'ctxt': 1982, 'tc': 6266, 'mtmsg': 4325, 'remember': 5295, 'alex': 873, 'pizza': 4860, 'av': 1084, 'wil': 6982, 'use': 6701, 'ta': 6214, 'urgent': 6688, 'trying': 6558, 'todays': 6454, 'draw': 2301, 'shows': 5701, '800': 617, 'prize': 5043, 'guaranteed': 3048, '09050001808': 158, 'land': 3740, 'claim': 1718, 'm95': 4008, 'valid12hrs': 6727, 'babe': 1119, 'lost': 3939, 'painful': 4690, 'personal': 4795, 'thought': 6384, 'try': 6556, 'everybody': 2492, 'recognises': 5250, 'subscribed': 6105, 'service': 5608, 'days': 2055, '82324': 638, 'helpline': 3185, '08706091795': 83, 'basket': 1164, 'mum': 4336, 'messages': 4165, 'got': 2988, 'actually': 781, 'rest': 5351, 'january': 3541, 'male': 4049, 'sale': 5480, 'hot': 3276, 'gay': 2877, 'cheaper': 1649, '08709222922': 88, 'national': 4391, 'rate': 5187, '5p': 548, 'min': 4187, 'cheap': 1648, '8p': 695, 'peak': 4765, 'texts': 6331, '08712460324': 108, '10p': 254, 'honesty': 3249, 'road': 5399, 'bank': 1146, 'tomorrow': 6469, 'tough': 6502, 'decisions': 2080, 'people': 4776, 'womdarfull': 7039, 'actor': 779, 'congrats': 1847, 'special': 5910, 'cinema': 1713, 'pass': 4731, '09061209465': 180, 'suprman': 6163, 'matrix3': 4101, 'starwars3': 5997, 'bx420': 1493, 'ip4': 3484, '5we': 552, '150pm': 295, 'miss': 4213, 'movie': 4304, 'juz': 3626, 'minute': 4202, 'decision': 2079, 'mah': 4031, 'watch': 6877, 'lar': 3751, 'tot': 6496, 'interested': 3460, 'care': 1551, 'sweet': 6191, 'dreams': 2305, 'ummifying': 6620, 'bye': 1495, 'gud': 3050, 'ni8': 4451, 'slp': 5794, 'swt': 6203, 'muah': 4330, 'youdoing': 7172, 'later': 3762, 'sar': 5495, 'money': 4270, '09050000460': 153, 'j89': 3526, 'po': 4897, 'box245c2150pm': 1364, 'issue': 3508, 'weigh': 6924, 'breathe': 1403, 'easier': 2363, 'regret': 5278, 'gr8': 3000, 'leaving': 3795, 'plans': 4872, 'havent': 3142, 'sir': 5742, 'group': 3034, 'mail': 4034, 'check': 1653, 'hit': 3216, 'cash': 1573, 'girl': 2928, '2004': 338, 'account': 760, 'statement': 5998, '07742676969': 27, '786': 608, 'unredeemed': 6661, 'bonus': 1332, '08719180248': 144, 'identifier': 3355, 'code': 1770, '45239': 489, 'expires': 2538, 'mins': 4200, 'busy': 1479, 'finish': 2670, 'looking': 3924, 'forward': 2761, 'finally': 2663, 'meeting': 4132, 'hmv': 3230, '500': 521, 'pounds': 4965, 'genuine': 2901, 'vouchers': 6808, 'answer': 928, 'questions': 5144, 'play': 4873, 'info': 3425, 'www': 7110, '100percent': 249, 'real': 5210, 'accidentally': 754, 'left': 3798, 'silent': 5726, 'night': 4460, 'didn': 2170, 'ya': 7134, 'tht': 6398, 'incident': 3399, 'good': 2972, 'problem': 5047, 'little': 3879, 'experience': 2534, 'understand': 6633, 'american': 895, 'voice': 6799, 'used': 6702, 'agents': 836, 'booked': 1336, 'things': 6367, 'boston': 1350, 'nyc': 4539, 'experiment': 2535, 'online': 4599, 'transaction': 6515, 'came': 1526, 'hostel': 3274, 'sleep': 5772, 'plz': 4895, 'hrishi': 3295, 'fuuuuck': 2843, 'sleepin': 5773, 'sup': 6150, 'dude': 2337, 'makin': 4045, 'weirdy': 6931, 'brownies': 1433, 'cookies': 1886, 'secret': 5560, 'admirer': 795, 'reveal': 5368, 'thinks': 6372, '09058094599': 175, 'oh': 4573, 'training': 6512, 'manual': 4066, 'tech': 6279, 'process': 5053, 'password': 4737, 'reset': 5337, 'troubleshooting': 6544, 'computerless': 1831, 'oreo': 4633, 'truffles': 6550, 'watching': 6880, 'tv': 6582, 'job': 3580, 'hoping': 3264, 'game': 2858, 'yesterday': 7162, 'touch': 6500, 'pls': 4888, 'fondly': 2725, 'bein': 1220, 'thot': 6382, 'abiola': 732, 'nite': 4470, 'pocay': 4907, 'wocay': 7035, '4eva': 502, 'promise': 5068, 'ring': 5387, '2morrowxxxx': 393, 'yup': 7189, 'thanx': 6342, 'reply': 5321, 'pick': 4833, 'heart': 3162, 'mind': 4190, 'wisdom': 7004, 'eyes': 2555, 'alwys': 891, 'panren': 4700, 'paru': 4729, 'wife': 6978, 'relax': 5286, 'wkend': 7021, 'fun': 2831, 'truly': 6551, 'forget': 2746, 'gbp': 2881, 'sms': 5817, 'approve': 975, 'panalam': 4695, 'posts': 4959, 'paid': 4688, 'commercial': 1804, 'hasbro': 3129, 'august': 1075, 'jump': 3616, 'hoops': 3258, 'shut': 5711, 'omg': 4592, 'dream': 2304, 'kids': 3673, 'boys': 1381, 'pissed': 4855, 'told': 6460, 'mark': 4076, 'changing': 1626, 'diapers': 2164, 'cause': 1588, 'owed': 4676, 'face': 2559, 'ey': 2553, 'calm': 1523, 'downon': 2292, 'theacusations': 6347, 'itxt': 3517, 'iwana': 3520, 'wotu': 7077, 'doin': 2257, 'thew': 6362, 'end': 2422, 'haventcn': 3143, 'ages': 837, 'up4': 6669, 'nething': 4432, 'sat': 5502, 'dramatic': 2299, 'schools': 5528, 'closed': 1742, 'apparently': 961, 'inch': 3397, 'snow': 5832, 'supposed': 6161, 'woke': 7036, 'blur': 1319, 'went': 6940, 'liao': 3821, 'oso': 4645, 'helloooo': 3179, 'wake': 6838, 'welcomes': 6934, 'joy': 3600, 'mrng': 4312, 'jason': 3546, 'says': 5518, 'gonna': 2970, 'mallika': 4051, 'sherawat': 5652, 'url': 6694, 'wa': 6823, 'openin': 4608, 'sentence': 5599, 'formal': 2753, 'fine': 2667, 'tt': 6565, 'eatin': 2371, 'puttin': 5125, 'weight': 6926, 'anythin': 944, 'tyler': 6602, 'minor': 4199, 'crisis': 1960, 'sooner': 5869, 'asap': 1024, 'erm': 2460, 'ill': 3369, '45pm': 490, 'park': 4720, 'treat': 6529, 'pending': 4773, 'respect': 5343, 'mother': 4293, 'mails': 4037, 'alrite': 888, 'hunny': 3316, 'wot': 7076, '2nite': 398, 'didnt': 2171, 'goin': 2958, 'jus': 3622, 'pub': 5101, 'instead': 3453, 'chillin': 1686, 'mo': 4242, 'bedroom': 1206, 'jen': 3559, 'aiyo': 860, 'meh': 4137, 'princess': 5034, 'times': 6419, 'thats': 6346, 'ew': 2507, 'friendship': 2803, 'poem': 4911, 'near': 4405, 'hear': 3158, 'fear': 2613, 'cheer': 1660, 'tear': 6275, 'added': 786, 'list': 3868, 'fullonsms': 2829, 'ignoring': 3363, 'dating': 2049, 'started': 5994, 'sport': 5954, 'radio': 5160, 'connection': 1851, 'coincidence': 1774, 'hook': 3257, 'means': 4120, 'right': 5383, 'valuable': 6728, 'situations': 5752, 'second': 5557, 'loosing': 3930, 'si': 5713, 'como': 1808, 'listened2the': 3871, 'plaid': 4866, 'album': 867, 'gd': 2884, 'air1': 854, 'hilarious': 3207, 'bought': 1354, 'braindance': 1386, 'comp': 1809, 'ofstuff': 4570, 'aphex': 953, 'abel': 728, 'hav2hear': 3139, 'xxxx': 7129, 'wana': 6854, 'praps': 4988, 'meant': 4121, 'goodo': 2981, 'stay': 6001, 'england': 2433, 'official': 4566, 'poly': 4918, 'flag': 2688, 'yer': 7159, '84199': 653, 'opt': 4618, 'eng': 2430, 'box39822': 1369, 'w111wx': 6814, 'honeybee': 3251, 'said': 5475, 'sweetest': 6192, 'world': 7065, 'god': 2954, 'laughed': 3767, 'havnt': 3147, 'met': 4170, 'person': 4794, 'reading': 5208, 'moral': 4285, 'crack': 1934, 'jokes': 3590, 'gm': 2943, 'gn': 2945, 'ge': 2886, 'study': 6082, 'tap': 6247, 'spile': 5931, 'seven': 5616, 'gas': 2870, 'broad': 1422, 'canal': 1530, 'wan2': 6853, 'greet': 3023, 'westlife': 6950, 'm8': 4006, 'currently': 1997, 'tour': 6503, 'unbreakable': 6625, 'untamed': 6667, 'unkempt': 6652, '83049': 640, 'cost': 1903, '50p': 526, 'std': 6006, 'drunk': 2326, 'motherfucker': 4294, 'textbuddy': 6324, 'horny': 3266, 'guys': 3068, '25p': 362, 'receive': 5237, 'search': 5552, 'postcode': 4955, 'gaytextbuddy': 2880, '89693': 690, '08715500022': 122, 'rpl': 5434, 'cnl': 1759, 'hiya': 3220, 'weekend': 6920, 'usual': 6711, 'ard': 990, 'smth': 5821, 'doc': 2239, 'gave': 2876, 'pain': 4689, 'meds': 4128, 'mahal': 4032, 'bus': 1473, 'decimal': 2078, 'cooking': 1887, 'oops': 4604, 'tomo': 6467, 'station': 5999, 'dhoni': 2157, 'luck': 3978, 'title': 6433, 'waking': 6839, 'afternoon': 828, 'church': 1710, 'holla': 3240, 'let': 3815, 'salad': 5477, 'desert': 2132, 'beers': 1210, 'news': 4447, 'freefone': 2784, '08006344447': 56, '1000': 246, '2000': 336, 'speak': 5908, 'operator': 4612, 'hr': 3294, 'trip': 6538, 'audition': 1072, 'wednesday': 6914, 'whats': 6955, 'printed': 5036, 'upstairs': 6682, 'wasnt': 6872, 'phoned': 4821, 'voda': 6796, 'numbers': 4527, 'ending': 2424, '1225': 270, 'selected': 5579, '50award': 523, 'match': 4094, '08712300220': 95, 'quoting': 5155, '3100': 424, 'standard': 5984, 'rates': 5188, 'app': 960, 'today': 6453, 'accept': 749, 'brother': 1429, 'lover': 3958, 'dear1': 2067, 'best1': 1238, 'clos1': 1740, 'lvblefrnd': 3993, 'jstfrnd': 3606, 'cutefrnd': 2007, 'lifpartnr': 3833, 'belovd': 1228, 'swtheart': 6204, 'bstfrnd': 1442, 'rply': 5435, 'enemy': 2428, 'bloo': 1307, 'bowl': 1358, 'urgnt': 6691, 'wating': 6885, 'difficult': 2181, 'girls': 2931, 'companion': 1811, 'chef': 1666, 'listener': 3872, 'organizer': 4636, 'boyfriend': 1380, 'sympathetic': 6207, 'athletic': 1054, 'warm': 6864, 'courageous': 1919, 'determined': 2145, 'true': 6548, 'dependable': 2125, 'intelligent': 3457, 'psychologist': 5098, 'pest': 4802, 'exterminator': 2550, 'psychiatrist': 5096, 'healer': 3156, 'stylist': 6094, 'aaniye': 722, 'pudunga': 5105, 'venaam': 6749, 'request': 5326, 'maangalyam': 4011, 'alaipayuthe': 866, 'set': 5611, 'callertune': 1516, 'callers': 1515, 'press': 5017, 'copy': 1893, 'friends': 2801, 'tirunelvai': 6428, 'lick': 3825, 'pussy': 5123, 'inside': 3447, 'office': 4564, 'filling': 2654, 'forms': 2757, 'textin': 6327, 'bout': 1356, 'worries': 7069, 'photo': 4824, 'shoot': 5678, 'spiffing': 5930, 'workage': 7059, 'xclusive': 7119, 'clubsaisai': 1752, '2morow': 390, '28': 367, 'soiree': 5841, 'speciale': 5911, 'zouk': 7200, 'nichols': 4454, 'paris': 4718, 'roses': 5424, 'ladies': 3731, '07946746291': 40, '07880867867': 38, 'entry': 2449, 'textpod': 6330, 'chance': 1622, '40gb': 469, 'ipod': 3489, '250': 359, 'pod': 4910, '84128': 652, 'ts': 6559, 'net': 4429, 'custcare': 2000, '08712405020': 106, 'shit': 5668, 'suite': 6132, 'xavier': 7117, 'decided': 2076, 'seconds': 5559, 'warning': 6868, 'samantha': 5488, 'playing': 4878, 'jay': 3548, 'guitar': 3062, 'impress': 3392, 'doug': 2288, 'realizes': 5218, 'anymore': 940, '100': 245, 'music': 4350, 'starting': 5995, '87066': 667, 'tscs': 6560, 'ldew': 3780, 'skillgame': 5760, '1winaweek': 330, '150ppermesssubscription': 296, 'expert': 2536, 'safe': 5473, 'selfish': 5583, 'pa': 4681, 'thank': 6336, 'eat': 2369, 'spook': 5951, 'mob': 4244, 'halloween': 3094, 'collection': 1785, 'logo': 3907, 'pic': 4832, 'plus': 4893, 'eerie': 2389, 'card': 1547, '8007': 620, 'zed': 7194, '08701417012150p': 75, 'born': 1347, 'idiot': 3357, 'competition': 1815, 'knew': 3697, 'freinds': 2788, 'forever': 2743, 'belive': 1222, 'jesus': 3568, 'geeeee': 2889, 'barely': 1151, 'stand': 5983, 'weekly': 6922, '80086': 622, '18': 307, 'txttowin': 6600, 'slide': 5781, 'diet': 2175, 'everyday': 2493, 'cheat': 1650, 'fatty': 2604, 'voicemail': 6800, '08719181513': 146, 'checked': 1655, 'paper': 4706, 'note': 4505, 'exposed': 2544, 'vomiting': 6804, 'dog': 2249, 'cat': 1582, 'house': 3283, 'iouri': 3483, 'story': 6050, 'credits': 1952, 'topped': 6487, 'bubbletext': 1447, 'renewal': 5307, 'pin': 4850, 'tgxxrz': 6332, 'dorothy': 2279, 'kiefer': 3675, 'granite': 3010, 'issues': 3509, 'strong': 6068, 'explosive': 2543, 'members': 4144, '300': 413, 'nasdaq': 4383, 'symbol': 6206, 'cdgt': 1597, '00': 0, 'callon': 1520, 'friday': 2796, 'assume': 1046, 'ahhhh': 846, 'woken': 7037, 'tho': 6381, 'comedy': 1795, 'guess': 3054, 'din': 2189, 'stripes': 6065, 'skirt': 5765, 'studying': 6083, 'lazy': 3778, 'mode': 4255, 'taka': 6227, 'football': 2734, 'basketball': 1165, 'outdoors': 4654, 'announcement': 922, 'recently': 5242, 'delivery': 2109, 'unable': 6623, '07090298926': 23, 'schedule': 5526, 'ref': 5260, '9307622': 705, 'invited': 3478, 'xchat': 7118, 'final': 2661, 'attempt': 1062, 'msgrcvdhg': 4319, 'suite342': 6133, '2lands': 387, 'row': 5429, 'w1j6hl': 6817, 'ldn': 3781, 'yrs': 7181, 'worry': 7070, 'truth': 6555, 'coz': 1927, 'lead': 3784, 'unique': 6646, 'deserve': 2133, 'tight': 6411, 'escape': 2471, 'theatre': 6349, 'kavalan': 3646, 'minutes': 4203, 'explicit': 2541, 'sex': 5617, 'secs': 5564, '02073162414': 10, 'costs': 1906, '20p': 344, 'gsex': 3042, 'pobox': 4899, '2667': 364, 'wc1n': 6894, '3xx': 461, 'valentines': 6725, 'partner': 4726, 'lifetime': 3832, '83600': 647, 'rcvd': 5198, '08718720201': 129, 'rumour': 5452, 'apartment': 950, 'chennai': 1667, 'billy': 1264, 'mates': 4097, 'jogging': 3583, 'concert': 1835, 'sunny': 6146, 'california': 1507, 'weather': 6904, 'abeg': 727, 'profit': 5060, 'using': 6709, 'sponsors': 5949, 'event': 2490, 'fyi': 2845, 'taking': 6232, 'quick': 5145, 'shower': 5696, 'epsilon': 2455, 'lotr': 3941, 'sis': 5744, 'dis': 2203, 'chosen': 1705, '350': 432, 'award': 1100, '09066364311': 220, 'collect': 1782, 'valued': 6730, 'continued': 1872, 'support': 6158, 'question': 5142, 'enter': 2440, 'in2': 3396, 'president': 5014, 'ans': 926, '80082': 621, 'doctor': 2243, 'india': 3414, 'drink': 2309, 'appy': 980, 'fizz': 2687, 'contains': 1866, 'causing': 1589, 'age': 831, 'saw': 5515, 'parked': 4721, 'car': 1546, 'sunroof': 6147, 'popped': 4935, 'sux': 6176, 'bath': 1169, 'monthly': 4280, 'terrible': 6309, 'pay': 4752, 'till': 6417, '6months': 588, 'finishing': 2673, 'vikky': 6773, 'olave': 4586, 'mandara': 4060, 'kano': 3640, 'trishul': 6541, 'wit': 7013, 'listed': 3869, 'thasa': 6344, 'messed': 4167, 'yeh': 7153, 'shudvetold': 5708, 'urgran': 6693, 'neway': 4443, 'illspeak': 3371, 'u2moro': 6607, 'wen': 6937, 'asleep': 1038, 'lay': 3776, 'bimbo': 1266, 'ugo': 6611, 'appreciate': 973, 'hello': 3178, 'boytoy': 1382, 'geeee': 2888, 'tm': 6440, 'remind': 5299, 'thinking': 6371, 'loved': 3954, 'kiss': 3689, 'photos': 4825, 'useful': 6703, 'wud': 7105, 'hurt': 3321, 'ryan': 5462, 'konw': 3707, 'waht': 6833, 'rael': 5162, 'gving': 3070, 'yuo': 7187, 'exmpel': 2526, 'jsut': 3607, 'ese': 2472, 'tihs': 6414, 'evrey': 2504, 'splleing': 5944, 'wrnog': 7094, 'bt': 1443, 'sitll': 5749, 'raed': 5161, 'wihtuot': 6981, 'ayn': 1111, 'mitsake': 4226, 'goodnight': 2978, '09050001295': 157, 'a21': 719, 'valid': 6726, '12hrs': 276, 'lovely': 3956, 'wisheds': 7007, 'rock': 5404, 'early': 2359, 'hundreds': 3312, 'handsomes': 3104, 'beauties': 1195, 'aunties': 1077, 'uncles': 6627, 'remains': 5294, 'bro': 1421, 'bros': 1426, 'thout': 6387, 'bak': 1136, 'post': 4952, 'l8r': 3720, 'vodafone': 6797, '4882': 496, 'matches': 4095, '09064019014': 206, 'filthy': 2659, 'stories': 6048, 'suggest': 6129, 'stays': 6005, 'able': 734, 'ors': 4641, 'stool': 6037, 'greatest': 3021, 'courage': 1918, 'earth': 2362, 'bear': 1192, 'defeat': 2091, 'losing': 3937, 'white': 6966, 'fudge': 2826, 'oreos': 4634, 'stores': 6047, 'asked': 1034, '3mobile': 452, '0870': 69, 'chatlines': 1645, 'inclu': 3400, 'cust': 1999, 'servs': 5610, 'sed': 5569, 'l8er': 3719, 'mega': 4136, 'giv': 2933, 'bailiff': 1135, 'sec': 5556, 'works': 7064, 'gets': 2910, 'mate': 4096, 'spoke': 5947, 'mag': 4026, 'deliver': 2106, 'month': 4279, '24th': 357, 'sept': 5603, 'derek': 2130, 'discount': 2212, 'rp176781': 5433, 'regalportfolio': 5271, '08717205546': 125, 'finished': 2671, 'formatting': 2756, 'surly': 6169, 'review': 5371, '8th': 697, 'hour': 3280, 'nokia': 4483, '3510i': 433, 'deliveredtomorrow': 2108, 'camcorder': 1525, '08000930705': 49, 'pretty': 5023, 'refused': 5269, 'loan': 3894, 'secured': 5568, 'unsecured': 6662, 'credit': 1950, '0800': 45, '195': 312, '6669': 570, 'immediately': 3382, 'lesson': 3813, 'antha': 935, 'num': 4525, 'corrct': 1896, 'dane': 2029, 'clarification': 1720, 'years': 7151, 'heading': 3152, 'prediction': 4996, 'lemme': 3805, 'swing': 6199, 'basically': 1163, 'semester': 5588, 'umma': 6619, 'deepest': 2088, 'darkest': 2036, 'fantasies': 2589, '09094646631': 233, '60p': 560, 'nat': 4386, 'lmao': 3890, 'fish': 2679, 'memory': 4148, 'yahoo': 7136, 'perf': 4779, 'legal': 3799, 'comin': 1799, 'bristol': 1418, 'april': 981, 'les': 3811, 'rudi': 5444, 'eve': 2486, 'snoring': 5830, 'college': 1787, 'sends': 5593, 'ink': 3434, 'wamma': 6851, 'laid': 3735, 'doggin': 2252, 'locations': 3898, 'direct': 2197, 'join': 3585, 'uks': 6616, 'largest': 3755, 'dogging': 2253, 'network': 4435, 'dogs': 2255, '69696': 576, 'nyt': 4541, 'ec2a': 2374, '3lp': 449, 'dolls': 2263, 'patrick': 4746, 'swayze': 6188, 'stretch': 6059, 'open': 4605, 'tirunelvali': 6429, 'spend': 5924, 'dress': 2307, 'feb': 2616, 'porn': 4937, '69855': 578, '24hrs': 355, 'stopbcm': 6041, 'sf': 5623, 'wc1n3xx': 6895, 'snickering': 5828, 'tells': 6292, 'fucking': 2824, 'chords': 1703, 'stupid': 6089, 'possible': 4951, 'different': 2180, 'feeling': 2622, 'wavering': 6889, 'coping': 1891, 'individual': 3418, 'heal': 3155, 'believe': 1221, 'brainy': 1387, 'recharge': 5245, 'tau': 6257, 'piah': 4831, 'hold': 3236, 'probably': 5046, 'earlier': 2357, 'hypertension': 3331, 'knw': 3704, 'langport': 3746, 'bed': 1203, '9pm': 714, 'sucks': 6119, 'xmas': 7121, 'go2sri': 2950, 'lanka': 3748, '000': 1, 'caller': 1514, '08': 44, '03': 13, '2nd': 397, '0871': 90, '4719': 492, '523': 535, 'box95qu': 1375, 'thangam': 6335, 'mistake': 4222, 'wow': 7083, 'common': 1806, 'unless': 6654, 'chop': 1702, 'ones': 4596, 'model': 4256, 'doesn': 2247, 'youi': 7173, 'blowing': 1312, 'wet': 6952, 'gender': 2892, 'begin': 1215, '24m': 356, 'aah': 721, 'lush': 3986, 'tea': 6269, 'soup': 5891, 'kind': 3681, 'fumbling': 2830, 'romcapspam': 5416, 'responding': 5346, 'presence': 5011, 'outgoing': 4657, 'bringing': 1415, 'breath': 1402, 'available': 1086, 'bread': 1394, 'milk': 4182, 'jap': 3543, 'lect': 3796, 'daily': 2022, 'favour': 2610, 'joking': 3592, 'oni': 4597, 'fri': 2795, 'okie': 4582, 'drivin': 2315, 'den': 2114, 'shoppin': 5680, 'bw': 1491, 'chachi': 1614, 'reach': 5201, 'pl': 4861, 'cal': 1502, 'tiz': 6436, 'kanagu': 3637, 'responsibilities': 5348, 'successful': 6115, 'current': 1996, 'loads': 3893, 'ready': 5209, 'ho': 3232, 'belly': 1226, 'laugh': 3766, 'dun': 2343, 'ain': 851, 'answerin': 930, 'reasonable': 5225, 'sleepy': 5778, 'ate': 1053, 'applebees': 966, 'sending': 5592, 'greetings': 3025, 'happiness': 3119, 'evening': 2488, 'ends': 2426, 'dunno': 2345, 'lei': 3803, 'awww': 1106, 'dat': 2044, 'lonely': 3916, 'important': 3388, 'information': 3427, 'user': 6705, '0796xxxxxx': 41, 'lucky': 3980, 'log': 3903, 'urawinner': 6685, 'fantastic': 2590, 'prizeawaiting': 5044, 'campus': 1528, 'atm': 1059, '09065171142': 210, 'stopsms': 6045, 'medical': 4126, '7pm': 614, 'height': 3173, 'confidence': 1841, 'aeronautics': 814, 'professors': 5057, 'wer': 6942, 'calld': 1512, 'askd': 1033, 'sit': 5747, 'aeroplane': 815, 'aftr': 829, 'plane': 4868, 'ws': 7098, 'students': 6079, 'dey': 2154, 'hurried': 3319, 'datz': 2051, 'longer': 3918, 'syria': 6209, 'canada': 1529, 'eh': 2398, 'extra': 2551, 'grins': 3027, 'desperate': 2139, 'armand': 1006, 'wrong': 7095, 'cud': 1983, '30pm': 420, 'attending': 1064, 'talks': 6239, 'waaaat': 6825, 'lololo': 3912, 'created': 1948, 'web': 6905, 'page': 4685, 'asjesus': 1031, 'read': 5206, 'wrote': 7097, 'opinions': 4614, 'lunch': 3984, 'rdy': 5200, 'ship': 5663, 'nvm': 4535, 'wear': 6900, 'shoes': 5676, 'leh': 3802, 'wylie': 7111, 'tampa': 6244, 'sarasota': 5496, 'lets': 3816, 'exact': 2509, 'ovulate': 4672, '2u': 404, '3wks': 459, 'worried': 7068, 'past': 4739, 'history': 3215, 'mu': 4329, 'bored': 1344, 'speed': 5918, 'speedchat': 5919, '80155': 624, 'em': 2411, 'swap': 6183, 'chatter': 1646, 'chat80155': 1644, 'pobox36504w45wq': 4903, 'rcd': 5195, '16': 302, 'merry': 4160, 'christmas': 1708, 'kisses': 3690, 'double': 2283, 'txts': 6597, 'bluetooth': 1316, 'motorola': 4299, 'mobileupd8': 4250, '08000839402': 48, 'call2optout': 1509, 'n9dx': 4362, 'directly': 2198, 'rows': 5431, 'waqt': 6863, 'se': 5550, 'pehle': 4769, 'naseeb': 4384, 'zyada': 7201, 'kisi': 3688, 'ko': 3705, 'kuch': 3714, 'nahi': 4369, 'milta': 4186, 'zindgi': 7197, 'wo': 7033, 'jo': 3578, 'hum': 3309, 'sochte': 5835, 'hai': 3083, 'ham': 3095, 'jeetey': 3557, 'board': 1322, 'overheating': 4669, 'reslove': 5340, 'software': 5839, 'inst': 3449, 'clock': 1738, 'specialisation': 5912, 'slave': 5771, 'labor': 3727, 'sha': 5626, 'shakara': 5631, 'beggar': 1213, 'sch': 5525, 'rem': 5292, 'correctly': 1899, 'grinder': 3026, 'nope': 4494, 'market': 4077, 'cocksuckers': 1768, 'makes': 4043, 'better': 1242, 'ipads': 3487, 'worthless': 7075, 'garbage': 2865, 'novelty': 4516, 'items': 3513, 'wanting': 6860, 'running': 5454, 'managed': 4055, 'needed': 4414, 'oxygen': 4678, 'resort': 5342, 'roller': 5414, 'option': 4622, 'floppy': 2709, 'snappy': 5824, 'upload': 6678, '08718730666': 141, '08712402578': 101, 'detailed': 2142, 'rooms': 5422, 'visa': 6787, 'buying': 1486, 'gucci': 3049, 'bags': 1133, 'john': 3584, 'bills': 1263, 'difficulties': 2182, 'main': 4038, 'sources': 5893, 'unhappiness': 6640, 'comes': 1796, 'words': 7057, 'silence': 5725, 'include': 3401, 'slept': 5779, 'driving': 2316, 'teasing': 6278, 'yo': 7167, 'stock': 6029, 'dubsack': 2334, 'happen': 3111, 'behave': 1219, 'fighting': 2646, 'lose': 3934, 'fightng': 2647, 'some1': 5848, 'close': 1741, 'dificult': 2183, 'hmm': 3225, 'hype': 3330, 'plaza': 4880, '700': 594, 'studio': 6081, 'taken': 6229, 'bedrm': 1205, '900': 699, 'gym': 3071, 'sell': 5584, 'fast': 2597, 'mesages': 4161, 'performance': 4782, 'calculated': 1503, 'period': 4785, 'guy': 3067, 'bitching': 1279, 'acted': 771, 'looked': 3922, 'addie': 788, 'goes': 2956, 'monday': 4269, 'figure': 2649, 'sexy': 5620, 'mood': 4283, 'minuts': 4204, 'latr': 3765, 'wid': 6975, 'cake': 1501, 'funk': 2837, 'fone': 2726, 'tones2u': 6472, 'ringtones': 5391, 'original': 4639, 'tones': 6471, '3gbp': 446, 'prospects': 5085, 'bleak': 1294, 'hmmm': 3226, 'filled': 2653, 'robinson': 5403, 'pleased': 4881, 'advise': 811, 'following': 2723, 'recent': 5241, '1500': 292, '09066364589': 222, 'party': 4728, 'shadow': 5627, 'spring': 5962, 'yay': 7147, 'attracts': 1069, 'brothas': 1428, 'dependents': 2126, 'tonite': 6477, 'varunnathu': 6737, 'edukkukayee': 2386, 'raksha': 5174, 'ollu': 4588, 'sense': 5595, 'informed': 3428, 'handsome': 3103, 'finding': 2666, 'mummy': 4339, 'gotta': 2992, 'sd': 5548, 'la': 3722, 'butt': 1480, 'sore': 5874, 'write': 7089, 'pookie': 4928, 'pie': 4841, 'ammae': 900, 'takes': 6230, 'lot': 3940, 'turns': 6580, 'steering': 6013, 'wishing': 7010, 'moji': 4260, 'speechless': 5917, 'easily': 2364, 'lengths': 3807, 'behalf': 1218, 'stunning': 6088, 'befor': 1211, 'activities': 778, 'letter': 3817, 'theory': 6356, 'argument': 1000, 'wins': 6999, 'situation': 5751, 'loses': 3936, 'argue': 998, 'kick': 3667, 'correct': 1897, 'theres': 6359, 'tmrw': 6444, 'call09050000327': 1508, 'rstm': 5438, 'sw7': 6179, '3ss': 457, '150ppm': 297, 'host': 3273, 'based': 1161, 'idps': 3359, 'linux': 3860, 'systems': 6211, 'truro': 6552, 'hospital': 3271, 'ext': 2549, 'received': 5239, 'understood': 6635, 'activate': 776, 'replying': 5322, 'terms': 6307, 'conditions': 1837, '07781482378': 29, 'thankyou': 6341, '28th': 370, '06': 19, 'removal': 5304, '87239': 673, '08708034412': 87, 'na': 4363, 'ideas': 3353, 'invention': 3473, 'fly': 2715, 'cleared': 1731, 'round': 5426, 'birla': 1271, 'soft': 5838, 'girlie': 2930, 'father': 2601, '____': 718, 'ths': 6397, 'hav': 3138, 'iq': 3490, 'tis': 6431, 'ias': 3334, 'juan': 3608, 'course': 1920, 'expect': 2530, 'presents': 5013, 'nicky': 4456, 'loosu': 3931, 'careless': 1558, 'having': 3145, 'meets': 4134, 'smile': 5806, 'pleasure': 4883, 'trouble': 6543, 'pours': 4967, 'rain': 5165, 'sum1': 6137, 'becoz': 1201, 'loves': 3961, 'smiling': 5809, 'whos': 6969, 'general': 2893, 'oz': 4680, 'nauseous': 4397, 'sweets': 6195, 'pig': 4845, 'dieting': 2176, '08707509020': 85, 'ntt': 4522, 'box': 1360, '1327': 280, 'croydon': 1965, 'cr9': 1932, '5wb': 551, 'scream': 5542, 'weighed': 6925, 'woohoo': 7052, 'ou': 4649, 'mp3': 4308, '83355': 646, 'ibhltd': 3336, 'ldnw15h': 3782, 'mtmsgrcvd18': 4327, 'intro': 3470, 'pilates': 4846, 'kickboxing': 3668, 'changed': 1624, '25': 358, 'club4mobiles': 1751, 'club': 1749, '87070': 668, 'club4': 1750, 'box1146': 1361, 'mk45': 4232, '2wt': 408, 'dialogue': 2162, 'cute': 2006, 'reltnship': 5291, 'die': 2173, 'body': 1326, 'bcoz': 1186, 'hands': 3101, 'wipe': 7001, 'tears': 6276, '1000s': 247, 'wiv': 7018, 'caroline': 1566, 'favourite': 2611, 'bless': 1295, 'boy': 1377, 'ass': 1040, 'idea': 3351, 'anyplaces': 942, 'mapquest': 4068, 'usf': 6707, 'dogwood': 2256, 'tiny': 6423, 'parking': 4723, 'cartoon': 1571, 'listening': 3873, 'temple': 6299, 'download': 2289, 'clear': 1730, 'movies': 4305, 'copies': 1890, 'felt': 2628, 'conveying': 1880, '86888': 665, 'reward': 5373, 'subscribe6gbp': 6104, 'mnth': 4240, '3hrs': 447, 'txtstop': 6599, 'gamb': 2857, 'nutter': 4533, 'cutter': 2009, 'ctter': 1980, 'cttergg': 1981, 'cttargg': 1979, 'ctargg': 1977, 'ctagg': 1976, 'poop': 4930, 'looks': 3925, 'prob': 5045, 'laptop': 3750, 'fixed': 2684, 'cuz': 2011, 'gpu': 2999, 'cutest': 2008, 'agree': 841, 'thinkin': 6370, 'ipad': 3485, 'macho': 4017, 'moves': 4303, '6hrs': 585, 'business': 1477, 'alfie': 874, 'moon': 4284, 'children': 1683, 'song': 5863, 'm8s': 4007, 'charity': 1635, 'nokias': 4486, 'polys': 4923, '08701417012': 74, 'wipro': 7002, 'interview': 3465, 'ned': 4411, 'toa': 6448, 'payoh': 4759, 'return': 5364, 'cts': 1978, 'employee': 2419, 'oic': 4575, 'carlos': 1563, 'hang': 3105, 'parents': 4717, 'kidz': 3674, 'colleagues': 1781, 'screaming': 5544, 'surprise': 6171, 'sofa': 5837, 'naked': 4371, '09066612661': 226, 'landline': 3741, 'complementary': 1819, 'tenerife': 6302, 'holiday': 3239, 'await': 1097, 'sae': 5471, 'wa14': 6824, '2px': 400, 'sender': 5591, 'hol': 3235, 'aiyar': 859, 'hard': 3121, 'type': 6603, 'scold': 5530, 'asking': 1036, 'habit': 3077, 'nan': 4378, 'bari': 1152, 'hudgi': 3301, 'yorge': 7171, 'pataistha': 4740, 'ertini': 2466, 'confirmed': 1845, 'staying': 6004, 'garage': 2864, 'centre': 1608, 'exhaust': 2522, 'replacing': 5318, 'ordered': 4631, 'mentor': 4155, 'percent': 4778, 'action': 774, '80608': 628, 'movietrivia': 4306, '08712405022': 107, '1x150p': 332, 'wnt': 7032, 'bmw': 1321, 'urgently': 6689, 'vry': 6810, 'hv': 3326, 'shortage': 5684, 'lacs': 3729, 'source': 5892, 'arng': 1009, 'amt': 907, '07808726822': 35, '02': 7, '09': 150, '872': 672, '9758': 709, 'missin': 4216, 'haven': 3141, 'guilty': 3061, 'squatting': 5968, 'walking': 6844, 'aren': 992, 'imma': 3380, 'flip': 2702, 'peace': 4762, 'miracle': 4205, 'blessed': 1296, 'ahead': 844, 'sliding': 5782, 'midnight': 4176, 'invite': 3477, 'somerset': 5852, 'far': 2592, 'fills': 2655, 'complete': 1820, 'reassurance': 5227, 'knackered': 3694, 'lark': 3756, 'huh': 3306, 'parkin': 4722, 'kent': 3655, 'vale': 6723, 'seriously': 5606, 'mayb': 4110, 'forgot': 2750, 'hotel': 3277, 'excellent': 2513, 'misundrstud': 4224, 'hate': 3133, 'throws': 6396, 'gal': 2853, 'falls': 2579, 'brothers': 1430, 'head': 3149, 'ac': 744, 'sptv': 5965, 'jersey': 3566, 'devils': 2152, 'detroit': 2146, 'wings': 6995, 'ice': 3344, 'hockey': 3233, 'incorrect': 3408, 'inclusive': 3404, 'goto': 2991, 'comuk': 1832, 'login': 3906, '3qxj9': 455, 'charge': 1632, '08702840625': 80, '220': 349, 'cm2': 1755, '9ae': 712, 'germany': 2906, 'pence': 4771, 'access': 750, '0844': 62, '861': 662, '85': 655, 'prepayment': 5006, 'telediscount': 6286, 'film': 2656, 'ive': 3519, 'lift': 3834, 'outside': 4661, 'deus': 2147, 'ex': 2508, 'yr': 7180, 'discuss': 2214, 'xuhui': 7124, 'tired': 6426, 'arguing': 999, 'woodland': 7050, 'avenue': 1092, 'parish': 4719, 'magazine': 4028, 'telephone': 6287, 'nelson': 4425, 'bb': 1175, 'expecting': 2531, 'aint': 852, 'apologize': 958, 'admit': 797, 'fixes': 2686, 'spelling': 5923, 'completely': 1822, 'diff': 2177, 'surya': 6174, 'pm': 4896, 'vijay': 6771, 'pokkiri': 4916, 'mmm': 4234, 'fuck': 2821, 'battery': 1173, 'died': 2174, 'nasty': 4385, 'filthyguys': 2660, 'fancy': 2587, 'bitch': 1278, 'slo': 5787, '4msgs': 508, '08712402972': 104, 'forgets': 2747, 'costa': 1904, 'del': 2099, 'sol': 5842, '5000': 522, '09050090044': 161, 'toclaim': 6452, 'pobox334': 4902, 'stockport': 6031, 'sk38xh': 5757, 'max10mins': 4107, 'bahamas': 1134, 'callfreefone': 1517, '08081560665': 59, 'cruise': 1968, '07786200117': 30, 'rose': 5423, 'blood': 1308, 'including': 3403, 'relation': 5283, 'luvs': 3989, 'praying': 4994, 'marry': 4083, 'tirupur': 6430, 'realize': 5216, 'premier': 5001, 'freephone': 2786, '542': 541, '0578': 18, 'handle': 3100, 'victoria': 6761, 'island': 3504, 'traffic': 6509, 'infernal': 3423, 'affairs': 817, 'xy': 7132, 'impossible': 3391, 'treats': 6531, 'sub': 6095, 'released': 5288, 'necessary': 4408, 'nah': 4368, 'dub': 2333, 'je': 3554, 'buff': 1454, 'randomlly': 5180, '5min': 546, 'opening': 4609, 'bot': 1351, 'notes': 4507, 'oredi': 4632, 'save': 5511, 'stress': 6057, 'dorm': 2277, 'dudette': 2339, 'scraped': 5539, 'barrel': 1156, 'social': 5836, 'misfits': 4210, 'video': 6764, 'handset': 3102, '750': 600, 'unlimited': 6656, 'reache': 5202, 'propose': 5081, 'seing': 5577, 'bloody': 1309, 'funky': 2838, 'asssssholeeee': 1045, 'sooooo': 5872, 'short': 5683, 'prove': 5087, 'hopeing': 3263, 'wasn': 6871, 'sisters': 5746, 'arrested': 1014, 'haf': 3080, 'cam': 1524, 'intrude': 3471, 'tuition': 6571, 'budget': 1452, 'bold': 1328, 'dollars': 2262, 'representative': 5325, '169': 305, '6031': 558, '10am': 252, 'luckily': 3979, 'starring': 5990, 'role': 5411, 'sea': 5551, 'lays': 3777, 'envelope': 2452, 'technical': 6280, 'networking': 4436, 'field': 2640, 'gentle': 2898, 'lousy': 3950, 'dead': 2061, 'hee': 3170, 'mys': 4358, 'morn': 4287, 'wanna': 6855, 'vewy': 6757, 'lubly': 3977, 'cut': 2005, 'reality': 5215, 'fantasy': 2591, 'kilos': 3680, 'response': 5347, 'rays': 5194, 'cloud': 1747, 'river': 5398, 'evng': 2500, 'aiya': 857, '69669': 575, 'polyphonic': 4922, 'normal': 4499, 'gprs': 2998, 'charges': 1634, 'drugdealer': 2324, 'moan': 4243, 'ecstasy': 2378, 'ger': 2905, 'toking': 6459, 'syd': 6205, 'doesnt': 2248, 'stressful': 6058, 'grab': 3002, 'tel': 6285, 'ave': 1090, 'ams': 906, 'xx': 7125, 'whens': 6960, 'unlike': 6655, 'docs': 2242, 'patients': 4745, 'turkeys': 6576, 'swimsuit': 6198, 'allowed': 884, 'sos': 5885, 'freemsg': 2785, 'moby': 4254, 'w8in': 6822, '4utxt': 515, '82242': 636, 'hlp': 3222, '08712317606': 97, 'msg150p': 4316, '2rcv': 401, 'aids': 848, 'patent': 4741, 'library': 3824, 'point': 4913, '08712402902': 103, 'asks': 1037, 'disconnect': 2210, 'iz': 3523, 'terrorist': 6312, 'sim': 5729, 'itz': 3518, 'confirmd': 1844, 'verified': 6751, 'cnn': 1760, 'ibn': 3339, 'black': 1284, 'shirt': 5666, 'blue': 1315, 'jeans': 3556, 'romantic': 5415, 'scenery': 5524, 'sort': 5878, 'acc': 746, 'natwest': 4395, 'hint': 3211, 'forum': 2759, 'ron': 5417, 'shuhui': 5709, 'surprised': 6172, 'spent': 5926, 'french': 2790, 'fooled': 2732, 'congratulations': 1848, '08718726978': 136, 'weeks': 6923, 'accommodation': 755, 'global': 2940, 'phb1': 4811, 'ph': 4808, '08700435505150p': 70, 'askin': 1035, 'shoul': 5691, 'torture': 6492, 'linerental': 3855, 'mobiles': 4247, 'offers': 4563, 'lf56': 3820, 'sen': 5589, 'loverboy': 3959, 'sweetie': 6194, 'gang': 2861, 'grand': 3007, 'nature': 4394, 'adventure': 809, 'presnts': 5016, 'bcz': 1189, 'mis': 4207, 'jeevithathile': 3558, 'irulinae': 3500, 'neekunna': 4419, 'prakasamanu': 4986, 'sneham': 5827, 'prakasam': 4985, 'ennal': 2439, 'prabha': 4977, 'mns': 4239, '85233': 659, 'slowly': 5793, 'captain': 1544, 'jaya': 3549, 'smoothly': 5816, 'hoped': 3261, 'bother': 1352, 'settle': 5614, 'challenging': 1618, 'pound': 4964, '08712101358': 92, 'computer': 1830, 'swollen': 6201, 'glands': 2937, 'throat': 6392, 'mall': 4050, 'kaila': 3632, '08718726970': 134, 'sick': 5716, 'blank': 1290, 'miles': 4181, 'responce': 5344, 'happend': 3112, 'dropped': 2320, 'stairs': 5978, 'phews': 4813, 'omw': 4593, 'x2': 7112, '7634': 603, '7684': 604, 'workin': 7061, 'overtime': 4670, 'nigpun': 4463, 'boring': 1346, 'eldest': 2406, '08714712412': 116, 'smiles': 5807, 'mad': 4021, 'correction': 1898, 'onion': 4598, 'roast': 5401, 'shrek': 5703, '3d': 443, 'aunt': 1076, 'nike': 4464, 'atlanta': 1056, '30ish': 419, 'cd': 1596, 'tncs': 6447, 'com1win150ppmx3age16': 1792, 'zoe': 7198, 'shitin': 5669, 'il': 3368, 'defo': 2096, 'hardest': 3124, 'millions': 4185, 'lekdog': 3804, 'alert': 870, 'called': 1513, '07008009200': 21, 'lifting': 3835, '87077': 669, 'season': 5554, '2wks': 407, 'goals': 2952, 'villa': 6776, 'apo': 955, 'mokka': 4262, 'players': 4876, 'making': 4046, 'jess': 3567, 'damn': 2024, 'payback': 4754, 'amazing': 893, 'picsfree1': 4838, 'vid': 6763, '2day': 376, 'keyword': 3663, 'idc': 3350, 'weaseling': 6902, 'twice': 6584, 'barring': 1157, 'sudden': 6120, 'influx': 3424, 'panic': 4698, 'surrender': 6173, 'initiate': 3433, 'shore': 5682, 'takin': 6231, 'bucks': 1448, 'present': 5012, 'guessing': 3057, 'guessed': 3055, '4u': 514, 'dracula': 2296, 'titles': 6434, 'ghost': 2918, 'addamsfa': 785, 'munsters': 4343, 'exorcist': 2528, 'twilight': 6586, 'getzed': 2915, 'length': 3806, 'shorter': 5687, 'fringe': 2806, 'distract': 2221, 'restocked': 5354, 'pattern': 4747, 'emerging': 2417, 'fiend': 2642, 'impede': 3386, 'hesitant': 3194, 'settled': 5615, 'wishin': 7009, 'middle': 4175, 'dealing': 2064, 'block': 1300, 'breaker': 1397, 'deluxe': 2111, 'format': 2755, 'features': 2615, 'graphics': 3011, 'bbdeluxe': 1178, 'challenge': 1617, 'rcv': 5197, 'msgs': 4320, 'svc': 6178, 'hardcore': 3122, '69988': 584, 'verify': 6752, 'excuse': 2516, 'jog': 3582, 'mini': 4193, 'dai': 2021, 'downloaded': 2290, 'exe': 2519, 'file': 2652, 'installing': 3450, '08714712394': 115, 'fights': 2648, '150': 291, 'worth': 7074, 'shop': 5679, '85023': 656, 'savamob': 5510, 'pobox84': 4906, 'm263uz': 4003, 'cold': 1777, 'sad': 5470, 'bhaskar': 1252, 'deep': 2086, 'texted': 6326, 'ago': 840, 'showered': 5697, 'er': 2457, 'ything': 7182, 'shocking': 5675, 'scary': 5523, 'def': 2090, 'crash': 1938, 'taxi': 6260, 'fb': 2612, 'couple': 1917, 'rent': 5309, 'expensive': 2533, 'b4u': 1115, 'voucher': 6807, '27': 366, 'marsms': 4084, 'b4utele': 1116, '08717168528': 124, 'doors': 2276, 'dick': 2166, 'facebook': 2560, 'beautiful': 1196, 'gravity': 3016, 'carefully': 1557, 'feels': 2623, 'light': 3836, 'heavy': 3168, 'leaves': 3794, 'boss': 1349, 'kept': 3656, 'regretted': 5279, 'theoretically': 6355, 'somebody': 5849, 'gage': 2848, 'deck': 2081, 'cnupdates': 1761, 'newsletter': 4449, 'alerts': 872, 'jetton': 3570, 'tbs': 6265, 'persolvo': 4793, 'chasing': 1641, '38': 439, 'definitely': 2094, 'paying': 4757, 'ignore': 3362, 'kath': 3645, 'manchester': 4057, 'pshew': 5095, 'deleted': 2103, 'suppose': 6160, 'archive': 989, 'haiz': 3088, 'reserves': 5336, 'balance': 1138, 'mid': 4174, 'ela': 2402, 'proof': 5076, 'glad': 2936, 'rupaul': 5456, 'tool': 6481, 'iphone': 3488, '600': 557, 'anytime': 946, '400': 463, 'calls': 1521, 'downloads': 2291, 'deltomorrow': 2110, '08002888812': 52, 'coimbatore': 1772, 'shame': 5636, 'cld': 1727, 'hrs': 3296, 'seen': 5574, 'tcs': 6268, 'al': 865, 'salam': 5478, 'wahleykkum': 6832, 'sharing': 5643, 'grace': 3003, 'tayseer': 6263, 'tissco': 6432, 'joined': 3586, 'inshah': 3446, 'allah': 881, 'rakhesh': 5173, 'visitor': 6790, 'painting': 4692, 'appointments': 972, 'shoving': 5694, 'stuff': 6085, 'couldn': 1911, 'jacket': 3528, 'walked': 6843, 'ne': 4404, 'interesting': 3461, 'wrking': 7092, 'nxt': 4537, 'uni': 6641, 'thurs': 6401, 'cancelled': 1534, 'sounds': 5889, 'kate': 3643, 'hunt': 3317, 'waste': 6873, 'wonderful': 7045, 'vote': 6805, 'caring': 1560, 'losers': 3935, 'brand': 1388, 'agent': 835, 'goodies': 2975, 'mat': 4093, '87021': 666, 'child': 1680, 'afraid': 823, 'dark': 2034, 'teenager': 6283, 'guai': 3046, 'shd': 5647, 'naughty': 4396, 'hillsborough': 3209, 'turned': 6578, 'green': 3022, 'living': 3885, 'perfect': 4780, 'community': 1807, '100p': 248, 'outsider': 4662, '2morro': 391, 'wondarfull': 7043, 'freezing': 2787, 'craving': 1942, 'fml': 2717, 'mm': 4233, 'o2': 4544, 'awaiting': 1098, 'ha': 3075, 'pictures': 4840, 'picture': 4839, 'violated': 6779, 'ic': 3342, 'upgrade': 6675, '0207': 8, '153': 300, '9996': 711, '14thmarch': 289, 'availa': 1085, 'b4': 1112, 'claire': 1719, 'havin': 3144, 'borin': 1345, '09099725823': 236, 'minmoremobsemspobox45po139wa': 4197, 'high': 3206, 'duchess': 2335, 'cornwall': 1894, 'unsub': 6664, '008704050406': 2, 'icic': 3345, 'realy': 5221, 'recognise': 5249, 'confused': 1846, 'accident': 753, 'a30': 720, 'divert': 2226, 'wadebridge': 6827, 'brilliant': 1411, 'dentists': 2121, 'convincing': 1883, '9755': 708, 'score': 5532, 'motivating': 4296, 'hooch': 3255, 'walk': 6841, 'toaday': 6449, 'fell': 2626, 'splat': 5942, 'grazed': 3018, 'knees': 3696, 'stayed': 6002, 'prepare': 5004, 'water': 6882, 'poet': 4912, 'imagination': 3375, 'frndship': 2811, 'nok': 4482, 'txtin': 6594, 'hl': 3221, '4info': 507, 'happens': 3115, 'pushes': 5122, 'edge': 2380, 'underdtand': 6632, 'book': 1335, '0825': 60, 'yep': 7158, 'props': 5082, 'smaller': 5797, 'capacity': 1540, 'drinkin': 2310, 'dancin': 2027, 'old': 4587, 'yuou': 7188, 'pc': 4760, 'mom': 4264, 'spot': 5957, 'company': 1812, 'elama': 2404, 'mudyadhu': 4333, 'mumhas': 4338, 'beendropping': 1208, 'theplace': 6357, 'adress': 801, 'accenture': 748, 'melle': 4140, 'oru': 4643, 'minnaminunginte': 4198, 'nurungu': 4529, 'vettam': 6756, 'teach': 6270, 'package': 4683, 'programs': 5062, 'hassling': 3131, 'andres': 913, 'haughaighgtujhyguj': 3135, 'sign': 5721, 'roommate': 5420, 'chk': 1695, 'ms': 4314, 'dict': 2167, 'fires': 2678, 'ps': 5093, 'grown': 3037, 'pple': 4973, 'nights': 4462, 'location': 3897, 'breakfast': 1398, 'hamper': 3096, 'kitty': 3692, 'shaved': 5645, 'natural': 4393, 'ranjith': 5185, 'drpd': 2322, 'deeraj': 2089, 'deepak': 2087, 'mornin': 4288, 'thanku': 6340, 'runs': 5455, 'blame': 1289, 'goal': 2951, 'arsenal': 1018, 'henry': 3189, 'liverpool': 3883, 'scores': 5533, 'simple': 5731, 'shot': 5690, 'yards': 7143, 'bergkamp': 1236, 'margin': 4074, '78': 607, 'velusamy': 6748, 'date': 2046, 'birth': 1273, 'facilities': 2561, 'returns': 5367, 'zaher': 7191, 'ym': 7165, 'yar': 7141, 'salon': 5485, 'nt': 4520, 'entered': 2441, 'cabin': 1498, 'sipix': 5740, 'digital': 2185, '09061221061': 182, '28days': 369, 'box177': 1363, 'm221bp': 4000, '2yr': 410, 'warranty': 6869, '99': 710, 'tom': 6463, 'mentionned': 4154, 'chinese': 1690, 'babes': 1120, 'brolly': 1425, 'english': 2434, '2mrw': 395, 'franxx': 2773, '083': 61, '6089': 559, 'clarify': 1721, 'ticket': 6406, 'preponed': 5007, 'kerala': 3657, 'random': 5179, 'profile': 5058, 'bpo': 1383, 'email': 2412, 'flew': 2697, 'window': 6990, 'ukp': 6615, '09061790125': 195, '3030': 417, 'coffee': 1771, 'fren': 2789, 'drove': 2321, 'intend': 3458, 'iwas': 3521, 'marine': 4075, 'itried2tell': 3515, 'urmom': 6695, 'careabout': 1552, 'lives': 3884, 'kadeem': 3630, 'denying': 2123, 'weak': 6896, 'bottle': 1353, 'amused': 908, 'piece': 4842, 'eek': 2388, 'especially': 2475, 'singing': 5737, 'garden': 2866, 'selection': 5580, 'bulbs': 1460, 'seeds': 5570, '33': 430, 'scotsman': 5537, 'saturday': 5507, 'go2': 2949, 'notxt': 4514, 'calicut': 1506, 'puppy': 5113, 'noise': 4480, 'zac': 7190, 'id': 3349, 'james': 3536, 'farting': 2595, 'airport': 855, '630': 565, 'bugis': 1457, 'shipped': 5664, 'thinked': 6369, 'approx': 977, 'heehee': 3171, 'funny': 2839, 'dom': 2264, 'roger': 5410, 'petey': 4805, 'noi': 4478, 'avent': 1091, 'nit': 4469, 'js': 3603, 'wtc': 7100, 'weiyi': 6932, 'wonders': 7047, '7th': 615, '6th': 591, 'style': 6090, '5th': 550, '4th': 512, 'personality': 4796, '3rd': 456, '11': 257, 'months': 4282, 'entitled': 2446, '08002986030': 53, 'woman': 7038, 'likes': 3843, 'dislikes': 2217, 'pete': 4803, '2geva': 382, 'thnx': 6380, 'positive': 4946, 'negative': 4421, 'hmmmm': 3227, 'hand': 3098, 'uh': 6612, 'heads': 3153, 'result': 5359, 'tms': 6445, 'widelive': 6976, 'index': 3413, 'wml': 7029, '820554ad0a1705572711': 635, 'gei': 2890, 'tron': 6542, 'dl': 2232, 'aathi': 724, 'pandy': 4697, '4w': 516, 'technologies': 6281, 'disturb': 2222, 'ups': 6680, '3days': 444, 'shipping': 5665, 'usps': 6710, 'lag': 3733, 'bribe': 1408, 'nipost': 4468, 'en': 2421, 'chikku': 1679, 'nange': 4379, 'bakra': 1137, 'kalstiya': 3635, 'sry': 5971, 'axis': 1109, 'horrible': 3268, 'macs': 4020, 'toot': 6483, 'prepared': 5005, 'gain': 2851, 'rights': 5386, 'demand': 2113, 'husband': 3324, 'browsin': 1435, 'compulsory': 1829, 'table': 6215, 'lambda': 3737, 'caught': 1587, 'broken': 1424, 'university': 6650, 'southern': 5895, 'law': 3774, '140': 283, '180': 308, 'chicken': 1676, 'broth': 1427, 'ramen': 5177, 'low': 3966, 'hols': 3242, 'med': 4125, 'stamped': 5981, 'self': 5581, 'drinks': 2312, '113': 259, 'bray': 1391, 'wicklow': 6974, 'eire': 2401, 'starts': 5996, 'unsold': 6663, 'base': 1160, 'nitros': 4472, 'hurry': 3320, 'opinion': 4613, 'jada': 3532, 'kusruthi': 3716, 'lovable': 3952, 'spl': 5939, 'character': 1630, 'matured': 4104, 'stylish': 6093, 'lord': 3933, 'rings': 5388, 'king': 3684, 'soundtrack': 5890, 'cds': 1598, 'stdtxtrate': 6007, 'applausestore': 965, 'monthlysubscription': 4281, 'max6': 4108, 'csc': 1973, '2stop': 402, 'ar': 985, 'praveesh': 4991, 'delicious': 2105, 'cover': 1924, 'sticky': 6024, 'giving': 2935, 'woul': 7079, 'curfew': 1994, 'gibe': 2920, 'getsleep': 2911, 'studdying': 6076, 'ear': 2356, 'single': 5738, 'meaning': 4117, 'senthil': 5600, 'hsbc': 3297, 'identification': 3354, 'pocked': 4908, 'finishes': 2672, 'ignorant': 3361, 'february': 2617, 'tmr': 6443, 'problems': 5049, 'suggestion': 6130, 'lands': 3745, 'helps': 3186, 'forgt': 2751, 'previous': 5025, 'machan': 4015, 'curious': 1995, 'joanna': 3579, 'freaking': 2777, 'myspace': 4359, 'logged': 3904, 'gumby': 3063, 'cheese': 1664, '07801543489': 32, 'latests': 3764, 'llc': 3888, 'ny': 4538, 'usa': 6698, 'mt': 4321, 'msgrcvd18': 4318, 'sophas': 5873, 'secondary': 5558, 'application': 968, 'applying': 970, 'joke': 3588, 'ogunrinde': 4572, 'flavour': 2695, 'bud': 1449, 'comprehensive': 1827, 'cmon': 1757, 'turn': 6577, 'replies': 5320, 'cancel': 1532, 'vday': 6743, 'shirts': 5667, 'underwear': 6636, 'playin': 4877, 'space': 5899, 'poker': 4915, '89545': 688, 'biz': 1282, '2optout': 399, '087187262701': 133, '50gbp': 525, 'mtmsg18': 4326, 'mathews': 4100, 'tait': 6225, 'edwards': 2387, 'anderson': 911, 'reception': 5243, 'tuesday': 6569, 'lab': 3726, 'goggles': 2957, 'mila': 4180, 'age23': 833, 'blonde': 1306, 'mtalk': 4322, '69866': 579, '30pp': 421, '5free': 543, 'increments': 3411, 'help08718728876': 3182, 'fact': 2562, 'teaches': 6272, 'volcanoes': 6801, 'erupt': 2468, 'tsunamis': 6564, 'arise': 1003, 'hurricanes': 3318, 'sway': 6187, 'aroundn': 1010, 'disasters': 2208, 'liked': 3841, 'tat': 6253, 'honey': 3250, 'lately': 3761, 'spatula': 5907, 'track': 6506, 'wallet': 6846, 'gifts': 2923, 'throw': 6393, 'cliff': 1737, 'iam': 3333, 'addicted': 787, 'msging': 4317, 'bslvyl': 1439, 'mths': 4324, 'cross': 1962, 'ntwk': 4523, '08001950382': 51, '674': 571, 'north': 4501, 'carolina': 1565, 'texas': 6320, 'gre': 3019, 'site': 5748, 'results': 5360, 'gurl': 3065, 'appropriate': 974, 'stage': 5976, 'listen': 3870, 'aha': 843, 'member': 4143, '08717898035': 127, 'yijue': 7164, 'gek1510': 2891, 'professional': 5056, 'tiger': 6410, 'woods': 7051, 'noice': 4479, 'draws': 2302, '09058094565': 171, 'calculation': 1504, 'units': 6648, 'practicing': 4982, 'accent': 747, '4years': 519, 'dental': 2119, 'nmde': 4475, 'september': 5604, '1hr': 318, '8lb': 694, '7oz': 613, 'brilliantly': 1412, 'gloucesterroad': 2942, 'uup': 6716, 'fair': 2571, 'cousin': 1923, 'tiime': 6415, 'hug': 3302, 'sing': 5736, 'stars': 5991, 'karaoke': 3641, 'link': 3858, 'fav': 2606, '930': 704, 'hows': 3288, 'africa': 824, 'avin': 1093, 'silver': 5728, 'hasn': 3130, 'gently': 2900, 'wrkin': 7091, 'closer': 1743, 'idew': 3356, 'maid': 4033, 'murderer': 4347, 'murdered': 4346, 'public': 5102, 'govt': 2996, 'instituitions': 3454, 'returned': 5365, 'aiyah': 858, 'mystery': 4360, 'solved': 5847, 'opened': 4606, 'batch': 1167, 'appt': 979, 'fault': 2605, '09066649731from': 227, 'complimentary': 1825, 'ibiza': 3337, '434': 477, 'sk3': 5756, '8wp': 698, 'pride': 5029, 'shouldn': 5692, 'kid': 3671, 'deal': 2062, 'grownup': 3038, 'shld': 5673, 'gee': 2887, 'kaiez': 3631, 'jazz': 3551, 'scared': 5522, 'hiphop': 3213, 'catch': 1583, 'gonnamissu': 2971, 'postcard': 4954, 'buttheres': 1481, 'aboutas': 736, 'merememberin': 4159, 'asthere': 1048, 'ofsi': 4569, 'breakin': 1399, 'contract': 1873, 'yaxx': 7145, 'durban': 2347, 'di': 2159, 'possibility': 4950, 'sighs': 5719, 'subscription': 6108, 'management': 4056, 'puzzeles': 5127, 'auto': 1082, 'mon': 4268, 'depends': 2127, 'western': 6949, 'prefer': 4998, 'gent': 2897, 'weekends': 6921, '09064012160': 202, 'k52': 3627, 'themob': 6353, 'newest': 4444, 'games': 2859, 'gossip': 2987, 'fit': 2681, 'wap': 6862, '82468': 639, 'signal': 5722, 'unusual': 6668, 'case': 1572, 'hugs': 3305, 'snogs': 5829, 'gdeve': 2885, '09058094454': 168, 'invitation': 3476, 'apologise': 957, 'cali': 1505, 'bloke': 1304, 'weddin': 6911, 'internet': 3464, 'slow': 5791, 'image': 3374, 'learn': 3791, 'danger': 2031, 'peeps': 4768, 'comment': 1803, 'dedicated': 2084, 'dedicate': 2083, 'macha': 4014, 'upset': 6681, 'mindset': 4192, 'gautham': 2874, 'gap': 2862, 'fingers': 2669, 'gaps': 2863, 'holding': 3238, '6pm': 590, 'setting': 5612, 'lasagna': 3757, 'concentrate': 1833, 'educational': 2385, 'career': 1554, 'dock': 2240, 'boat': 1323, 'rolled': 5413, 'newscaster': 4448, 'dabbles': 2017, 'flute': 2714, 'wheel': 6957, 'isaiah': 3501, 'regular': 5280, 'burger': 1466, 'killing': 3678, 'daddy': 2019, 'mnths': 4241, 'tariffs': 6249, 'callback': 1510, 'remove': 5305, 'records': 5254, 'alive': 880, 'okors': 4584, 'cherish': 1668, 'mojibiola': 4261, 'donno': 2268, 'scorable': 5531, 'air': 853, 'talent': 6233, 'malaria': 4047, 'bani': 1145, 'lib': 3822, 'creepy': 1954, 'crazy': 1944, 'izzit': 3524, 'otside': 4648, 'le': 3783, '2morrow': 392, 'maga': 4027, '08718730555': 140, 'hop': 3259, 'muz': 4354, 'inform': 3426, 'attend': 1063, 'rounds': 5428, 'ma': 4009, 'fan': 2584, 'accordingly': 759, 'repeat': 5315, 'melody': 4141, 'dnt': 2236, 'pieces': 4843, 'cloth': 1745, 'pack': 4682, 'willing': 6985, 'local': 3896, 'strt': 6070, 'netcollex': 4430, 'ltdhelpdesk': 3975, '02085076972': 11, 'dartboard': 2042, 'condition': 1836, 'doubles': 2285, 'trebles': 6532, 'slippers': 5785, 'returning': 5366, 'eighth': 2399, 'relieved': 5290, 'westonzoyland': 6951, 'treated': 6530, '09064012103': 201, 'box334sk38ch': 1367, 'reckon': 5248, 'eightish': 2400, 'carpark': 1567, 'headache': 3150, 'stranger': 6054, 'stands': 5986, 'nitz': 4473, 'costumes': 1907, 'yowifes': 7178, 'ride': 5382, 'vpod': 6809, '81303': 633, 'register': 5275, 'port': 4939, 'step': 6014, 'raping': 5186, 'dudes': 2338, 'reaching': 5204, 'celebrate': 1602, 'blind': 1299, 'rodds1': 5407, '21': 345, 'aberdeen': 729, 'united': 6647, 'kingdom': 3685, 'img': 3378, 'icmb3cktz8r7': 3347, 'dates': 2048, 'hide': 3204, 'journey': 3599, '08714712388': 114, 'premium': 5002, 'pink': 4851, 'panther': 4702, 'sugababes': 6126, 'zebra': 7193, 'animation': 917, 'badass': 1129, 'hoody': 3256, 'wallpaper': 6847, 'worse': 7072, 'dial': 2160, 'browser': 1434, 'surf': 6167, 'neglect': 4422, 'mobsi': 4253, '391784': 441, '2stoptxt': 403, 'engagement': 2432, 'fixd': 2683, 'njan': 4474, 'vilikkam': 6774, 'sudn': 6122, 'quit': 5148, 'mids': 4177, 'winner': 6996, 'specially': 5914, '087123002209am': 96, 'wildlife': 6984, 'want2come': 6858, 'that2worzels': 6345, 'wizzle': 7019, '125gift': 274, 'tightly': 6412, 'faggot': 2566, '09095350301': 234, 'erotic': 2462, 'ecstacy': 2377, '07734396839': 26, 'ibh': 3335, 'nokia6600': 4484, 'loxahatchee': 3968, 'tree': 6533, 'burning': 1469, 'decide': 2075, 'leona': 3809, 'ben': 1231, 'planned': 4870, 'debating': 2071, 'aww': 1105, 'nearly': 4406, 'jez': 3572, 'iscoming': 3502, 'todo': 6455, 'workand': 7060, 'whilltake': 6964, 'prin': 5031, 'roomate': 5419, 'graduated': 3004, 'restrict': 5355, 'eating': 2372, 'tessy': 6315, 'favor': 2608, 'convey': 1879, 'wishes': 7008, 'nimya': 4467, 'shijas': 5657, 'probs': 5051, 'hon': 3246, 'doinat': 2258, 'closes': 1744, 'somewhat': 5856, 'laden': 3730, 'wrecked': 7085, 'fireplace': 2677, 'icon': 3348, 'sitting': 5750, '0906346330': 199, 'abta': 743, 'spanish': 5902, '47': 491, 'po19': 4898, '2ez': 379, 'juliana': 3613, 'annoying': 924, '09061221066': 183, 'fromm': 2815, 'wlcome': 7027, 'wonder': 7044, 'eaten': 2370, 'lion': 3861, 'promises': 5070, 'gotten': 2993, 'santa': 5491, '09058094583': 172, 'frm': 2807, 'matter': 4102, 'muhommad': 4334, 'penny': 4775, 'held': 3174, 'prasad': 4989, 'wendy': 6938, '3650': 434, '09066382422': 225, '3mins': 451, 'vary': 6738, '300603': 415, 'bcm4284': 1184, 'euro2004': 2482, 'kickoff': 3669, 'euro': 2481, '83222': 643, 'talking': 6238, 'nottingham': 4513, '63miles': 566, '40mph': 470, 'wun': 7109, 'videos': 6767, 'shsex': 5706, 'netun': 4433, 'fgkslpopw': 2638, 'fgkslpo': 2637, 'anthony': 936, 'fees': 2624, 'mistakes': 4223, 'prolly': 5065, 'brin': 1413, 'properly': 5079, 'sheet': 5648, '10k': 253, '09064018838': 205, 'cro1327': 1961, 'steve': 6020, 'select': 5578, 'benefits': 1234, 'trained': 6511, 'advisors': 813, 'dialling': 2161, '402': 466, 'foreign': 2742, 'stamps': 5982, 'astrology': 1050, 'solihull': 5845, 'skype': 5767, 'bsn': 1440, 'advising': 812, 'beta': 1240, 'yan': 7140, 'jiu': 3576, 'supports': 6159, 'srt': 5970, 'ps3': 5094, 'maneesha': 4061, 'satisfied': 5504, 'toll': 6462, 'yavnt': 7144, 'played': 4874, 'buzy': 1488, 't4get2text': 6212, 'lyricalladie': 3998, 'inviting': 3479, '910': 701, 'hmmross': 3228, '62468': 564, 'ummmmmaah': 6622, 'get4an18th': 2907, 'wrongly': 7096, 'christ': 1706, 'star': 5988, '09066364349': 221, 'box434sk38wp150ppm18': 1373, 'vague': 6721, 'accounting': 761, 'delayed': 2101, 'housing': 3285, 'agency': 834, 'renting': 5311, 'places': 4865, 'usc': 6700, 'crave': 1941, 'arabian': 987, 'steed': 6012, 'mmmmmm': 4237, 'yummy': 7184, 'mus': 4348, 'skateboarding': 5758, 'despite': 2140, 'thrown': 6395, 'winds': 6992, 'bandages': 1144, 'arms': 1008, 'fat': 2600, 'burgundy': 1467, 'captaining': 1545, '5k': 545, 'travel': 6524, '09064011000': 200, 'cr01327bt': 1931, 'fixedline': 2685, 'cafe': 1500, 'recharged': 5246, 'door': 2275, 'meat': 4123, 'lovers': 3960, 'supreme': 6162, 'jos': 3598, 'walls': 6848, 'hearts': 3164, 'cares': 1559, 'goodnoon': 2980, 'delete': 2102, 'tag': 6221, 'messy': 4169, 'laundry': 3770, 'bras': 1390, 'strewn': 6060, 'pillows': 4848, 'floor': 2708, 'comfort': 1798, 'luxury': 3991, 'sold': 5844, 'rs': 5437, 'petrol': 4806, 'shesil': 5653, 'doubt': 2287, 'pongal': 4924, 'force': 2739, 'iraq': 3491, 'afghanistan': 822, 'stable': 5973, 'honest': 3247, 'traveling': 6525, 'unintentionally': 6645, 'timing': 6421, 'trains': 6513, 'antibiotic': 938, 'chest': 1671, 'abdomen': 726, 'gynae': 3073, 'infections': 3422, 'bone': 1331, 'series': 5605, 'south': 5894, 'african': 825, 'soil': 5840, 'apes': 951, 'fight': 2645, 'death': 2070, 'ttyl': 6566, 'networks': 4437, 'drastic': 2300, 'dare': 2033, '09094100151': 232, 'cast': 1578, 'aom': 948, 'gbp5': 2883, 'box61': 1374, 'm60': 4005, '1er': 317, 'website': 6909, 'purpose': 5118, '75': 599, 'homeowners': 3245, 'tenants': 6300, 'previously': 5026, '1956669': 313, 'family': 2582, 'mas': 4087, 'advance': 808, 'wn': 7030, 'prsn': 5092, 'dem': 2112, 'somtimes': 5860, 'saves': 5513, 'quiet': 5147, 'nothin': 4508, 'eveb': 2487, 'blogging': 1302, 'magicalsongs': 4030, 'blogspot': 1303, 'fall': 2576, 'worlds': 7066, 'discreet': 2213, 'vip': 6782, '83110': 641, 'tee': 6282, 'lecture': 3797, 'cheery': 1663, 'total': 6497, 'quarter': 5137, 'hourish': 3281, 'cbe': 1592, '40': 462, 'thousands': 6386, 'tattoos': 6256, 'west': 6948, 'palm': 4694, 'persons': 4798, 'receiving': 5240, 'triple': 6539, 'echo': 2375, 'shortly': 5688, 'flowing': 2712, 'nevering': 4439, 'bathe': 1170, 'pure': 5116, 'hearted': 3163, 'enemies': 2427, 'smiley': 5808, 'sunday': 6144, 'gudnite': 3052, 'practice': 4981, 'valentine': 6724, 'answers': 932, 'ques': 5141, 'suits': 6135, 'digi': 2184, 'fab': 2557, 'coupla': 1916, 'wks': 7026, 'hurting': 3322, 'meaningful': 4118, 'lines': 3856, 'compromised': 1828, 'away': 1102, 'trek': 6534, 'logging': 3905, 'geoenvironmental': 2903, 'implications': 3387, 'ft': 2820, 'combination': 1793, 'fifth': 2644, 'woozles': 7054, 'weasels': 6903, 'exeter': 2521, 'inspection': 3448, 'nursery': 4528, 'registered': 5276, 'sinco': 5734, 'payee': 4756, 'icicibank': 3346, 'urn': 6696, 'beware': 1247, 'frauds': 2775, 'share': 5641, 'disclose': 2209, 'no1': 4476, 'txting': 6595, '36504': 435, 'w45wq': 6821, 'norm150p': 4498, '3g': 445, 'videophones': 6766, '09061744553': 192, 'videochat': 6765, 'java': 3547, 'dload': 2235, 'polyh': 4920, 'noline': 4487, 'rentl': 5312, 'loud': 3948, 'spontaneously': 5950, 'goodevening': 2973, 'requests': 5327, 'coins': 1775, 'factory': 2563, '88066': 676, 'ebay': 2373, 'pierre': 4844, 'cardin': 1549, '20': 334, 'reached': 5203, 'sky': 5766, 'raining': 5166, 'lennon': 3808, 'receipt': 5235, 'sound': 5887, '2003': 337, 'redeemed': 5258, '08715203685': 120, '4xx26': 518, '13': 278, '04': 14, 'searching': 5553, 'potential': 4961, '2mro': 394, 'studyn': 6084, 'steyn': 6022, 'surely': 6166, 'wicket': 6973, 'lessons': 3814, 'avo': 1094, 'flatter': 2694, 'pints': 4852, 'carlin': 1562, 'hg': 3200, 'cried': 1959, 'ikno': 3366, 'doesdiscount': 2246, 'shitinnit': 5670, '530': 539, 'mrt': 4313, 'furniture': 2840, 'spending': 5925, 'quality': 5136, 'vl': 6795, 'salary': 5479, 'replied': 5319, 'dice': 2165, 'art': 1019, 'slap': 5770, 'receivea': 5238, '09061701461': 185, 'kl341': 3693, 'telly': 6293, 'brdget': 1393, 'jones': 3595, 'pray': 4992, 'teeth': 6284, 'maintaining': 4040, 'noon': 4491, '09066358152': 216, 'prompts': 5074, 'brah': 1384, 'adding': 789, 'zeros': 7195, 'savings': 5514, 'thts': 6399, 'wright': 7088, 'evn': 2499, 'married': 4082, 'evr': 2503, 'cherthala': 1669, 'cochin': 1766, 'bfore': 1250, 'tmorow': 6441, 'engaged': 2431, 'student': 6077, 'books': 1339, 'smart': 5798, 'fo': 2718, 'senor': 5594, 'sigh': 5718, 'mention': 4152, 'served': 5607, 'vomit': 6802, 'exactly': 2510, 'chechi': 1652, '09077818151': 230, 'calls1': 1522, '50ppm': 530, '30s': 422, 'santacalling': 5492, 'awake': 1099, 'jolly': 3593, 'literally': 3877, 'wind': 6989, 'reminder': 5301, 'appeal': 962, 'fr': 2769, 'thriller': 6391, 'director': 2199, '08718723815': 130, 'harri': 3127, 'loo': 3920, 'ed': 2379, 'textand': 6323, '08002988890': 55, 'yah': 7135, 'contacted': 1864, '09111032124': 241, 'pobox12n146tf150p': 4901, 'das': 2043, 'iknow': 3367, 'wellda': 6935, 'peril': 4784, 'studentfinancial': 6078, 'atleast': 1058, 'shakespeare': 5633, 'buz': 1487, 'wedlunch': 6913, 'outsomewhere': 4663, 'adrink': 803, '2watershd': 405, 'ppl': 4972, 'fromwrk': 2816, 'bthere': 1444, 'petexxx': 4804, 'resizing': 5339, 'wifi': 6980, 'blanked': 1291, 'nw': 4536, 'breaking': 1400, 'cstore': 1975, 'flyng': 2716, 'horo': 3267, 'followed': 2721, 'aries': 1002, 'bits': 1281, 'edison': 2382, 'rightly': 5385, 'fool': 2731, 'wise': 7005, 'viva': 6793, 'gnt': 2947, 'flies': 2698, 'tog': 6456, 'mth': 4323, 'brought': 1431, 'shiny': 5662, 'warming': 6865, 'constant': 1861, 'cough': 1909, 'dry': 2330, 'housewives': 3284, '0871750': 126, '77': 605, 'landlines': 3743, 'tkts': 6437, 'cup': 1992, '09058099801': 177, 'b4190604': 1113, '7876150ppm': 609, 'lodge': 3901, 'bears': 1193, 'nick': 4455, 'types': 6604, 'strongly': 6069, 'sacrifice': 5469, 'beg': 1212, 'creativity': 1949, 'stifled': 6025, 'equally': 2456, 'uneventful': 6639, 'pesky': 4801, 'cyclists': 2013, 'dearly': 2069, 'gail': 2849, 'l8tr': 3721, 'hun': 3311, 'yaxxx': 7146, 'posted': 4956, 'sppok': 5959, 'jackson': 3530, 'rec': 5233, '7ish': 612, 'miserable': 4209, 'simpsons': 5733, 'july': 3615, '2007': 341, 'band': 1143, 'whenevr': 6959, 'gray': 3017, 'remembr': 5297, 'listn': 3875, 'watevr': 6884, 'significance': 5723, 'staff': 5975, 'earn': 2360, 'gastroenteritis': 2871, 'replace': 5316, 'loss': 3938, 'temp': 6297, 'reduce': 5259, 'limiting': 3849, 'illness': 3370, '7250i': 596, 'auction': 1071, '86021': 661, 'w1jhl': 6818, '08719181503': 145, 'castor': 1580, 'language': 3747, 'foot': 2733, 'penis': 4774, 'arun': 1023, 'transfr': 6519, 'ga': 2847, 'paining': 4691, 'pull': 5106, 'taylor': 6262, 'restrictions': 5356, 'buddys': 1451, 'placement': 4864, 'amrita': 905, 'lips': 3867, 'buns': 1465, 'rajini': 5171, 'placed': 4863, 'massive': 4090, 'involved': 3482, '80878': 630, '08715705022': 123, 'ure': 6686, 'practical': 4980, 'woot': 7053, 'stuffing': 6087, 'werethe': 6945, 'monkeespeople': 4271, 'monkeyaround': 4273, 'howdy': 3287, 'gorgeous': 2985, 'howu': 3289, 'foundurself': 2764, 'jobyet': 3581, 'sausage': 5509, 'flight': 2699, '69101': 574, 'rtf': 5439, 'sphosting': 5927, 'licks': 3826, 'tootsie': 6484, 'pop': 4933, 'huiming': 3308, 'erutupalam': 2469, 'thandiyachu': 6334, 'sane': 5490, 'constantly': 1862, 'helping': 3184, 'smokes': 5813, 'begging': 1214, '08700621170150p': 72, 'lambu': 3738, 'ji': 3573, 'batchlor': 1168, 'uploaded': 6679, 'fridge': 2798, 'meal': 4115, 'coast': 1763, 'randomly': 5181, 'picked': 4834, 'loyal': 3969, 'customers': 2003, '09066380611': 224, 'supply': 6157, 'subs16': 6102, '1win150ppmx3': 329, 'rules': 5449, 'showing': 5699, 'responsibility': 5349, 'bend': 1232, 'rule': 5448, 'thia': 6365, 'inlude': 3435, 'previews': 5024, 'farm': 2593, 'flood': 2707, 'tomarrow': 6464, 'hearing': 3161, 'entertain': 2442, 'google': 2983, 'maps': 4069, 'train': 6510, 'worc': 7055, 'foregate': 2741, 'shrub': 5705, 'hill': 3208, 'form': 2752, 'clark': 1722, 'utter': 6714, 'relatives': 5285, 'risks': 5395, 'sports': 5955, 'lyk': 3997, 'footbl': 2735, 'crckt': 1946, 'superb': 6152, 'grateful': 3013, 'opportunity': 4616, 'happier': 3116, 'telugu': 6295, 'remain': 5293, 'unconvinced': 6631, 'elaborate': 2403, 'willpower': 6986, 'spun': 5966, 'wrld': 7093, 'nytho': 4542, 'tx': 6589, 'fonin': 2729, '2mwen': 396, 'bk': 1283, 'frmcloud': 2808, 'lou': 3947, 'lancaster': 3739, 'evenings': 2489, 'treasure': 6528, 'wined': 6994, 'dined': 2191, 'fones': 2728, 'wild': 6983, 'stop2stop': 6040, 'aunty': 1079, 'urgh': 6690, 'coach': 1762, 'smells': 5804, 'chip': 1693, 'duvet': 2349, 'predictive': 4997, 'holder': 3237, 'tlp': 6439, 'expressoffer': 2548, '80062': 619, 'brings': 1416, 'friendships': 2804, 'grow': 3035, '09066361921': 218, 'partnership': 4727, 'purity': 5117, 'forwarded': 2762, 'seeing': 5571, 'maturity': 4105, 'understanding': 6634, 'quickly': 5146, 'hex': 3197, 'explain': 2540, '08718726971': 135, 'keeps': 3652, 'queen': 5139, 'ache': 764, 'desparately': 2138, 'va': 6719, '0789xxxxxxx': 39, '2find': 380, 'downstem': 2293, 'mental': 4151, 'lookin': 3923, 'desires': 2135, 'liver': 3882, 'sickness': 5717, 'qatar': 5129, 'add': 784, 'prayers': 4993, 'leads': 3787, 'passionate': 4736, 'gsoh': 3043, 'spam': 5901, 'gigolo': 2924, 'fastest': 2599, 'growing': 3036, 'mens': 4150, 'oncall': 4595, 'mjzgroup': 4230, '08714342399': 112, '50rcvd': 531, '09050000878': 155, 'pobox45w2tg150p': 4905, 'super': 6151, 'virgin': 6784, '09061104283': 179, 'smsco': 5818, '50pm': 529, 'catching': 1585, 'bffs': 1249, 'carly': 1564, 'apples': 967, 'pairs': 4693, 'malarky': 4048, 'howz': 3290, 'sabarish': 5465, 'crowd': 1964, 'advice': 810, 'cardiff': 1548, 'someonone': 5850, '09064015307': 203, 'blake': 1288, 'answering': 931, '2marrow': 388, 'converter': 1878, 'occasion': 4551, 'celebrated': 1603, 'reflection': 5265, 'values': 6731, 'affections': 819, 'traditions': 6508, 'ideal': 3352, '09061701939': 186, 's89': 5464, 'worrying': 7071, 'quizzes': 5153, 'popcorn': 4934, 'wondering': 7046, 'ing': 3431, 'laughs': 3769, 'passable': 4732, 'phd': 4812, '5years': 555, 'crab': 1933, 'waves': 6890, 'footprints': 2737, 'fox': 2768, 'frndsship': 2812, 'dwn': 2352, 'jordan': 3597, '88600': 679, 'celeb': 1601, 'pocketbabe': 4909, '087016248': 77, 'unni': 6659, 'gamestar': 2860, 'active': 777, '250k': 360, 'scoring': 5534, '88088': 677, 'cramps': 1936, 'operate': 4611, 'priya': 5042, 'vava': 6742, 'railway': 5164, 'lipo': 3866, 'pages': 4686, 'figures': 2650, 'jaykwon': 3550, 'thuglyfe': 6400, 'falconerf': 2575, 'cock': 1767, 'hubby': 3300, 'satisfy': 5505, '89938': 691, 'strings': 6063, '50ea': 524, 'otbox': 4646, '731': 598, 'la1': 3723, '7ws': 616, 'unconscious': 6630, 'adults': 807, 'abnormally': 735, 'olowoyey': 4590, 'edu': 2383, 'argentina': 996, 'secretary': 5561, 'blessing': 1297, 'lightly': 3838, 'custom': 2001, 'checkboxes': 1654, 'lasting': 3759, 'maximize': 4109, 'cc': 1593, '114': 261, '14': 282, 'tcr': 6267, 'w1': 6813, '078': 31, 'jolt': 3594, 'screamed': 5543, 'ahmad': 847, 'hallaq': 3093, 'owned': 4677, 'possessive': 4948, 'ding': 2192, 'fassyole': 2596, 'blacko': 1286, 'londn': 3913, 'investigate': 3475, 'motivate': 4295, 'darkness': 2037, 'shining': 5661, 'trust': 6553, 'ryder': 5463, 'gibbs': 2919, '123': 271, '1450': 287, '09050002311': 159, 'b4280703': 1114, '08718727868': 137, 'sarcasm': 5497, 'scarcasim': 5521, '44': 478, '7732584351': 606, 'sian': 5714, 'consensus': 1854, 'phone750': 4819, '08000776320': 47, 'blackberry': 1285, 'torch': 6490, 'nigeria': 4458, 'buyer': 1484, '4a': 500, 'italian': 3511, 'stone': 6035, 'murder': 4345, 'crickiting': 1958, 'okies': 4583, 'skip': 5764, 'cine': 1712, 'blah': 1287, 'possession': 4947, 'wouldn': 7081, 'jerk': 3564, 'collapsed': 1780, '0808': 57, '145': 286, '4742': 493, '9am': 713, '11pm': 265, 'screwd': 5546, 'snowboarding': 5833, 'affair': 816, 'cheers': 1662, 'massages': 4089, 'oil': 4576, 'fave': 2607, 'position': 4944, 'subpoly': 6100, '81618': 634, '08718727870': 138, 'bag': 1132, 'priscilla': 5038, 'flights': 2700, '0871277810810': 110, 'inperialmusic': 3441, 'listening2the': 3874, 'weirdest': 6929, 'leafcutter': 3789, 'insects': 3444, 'molested': 4263, 'plumbing': 4891, 'remixed': 5303, 'evil': 2498, 'men': 4149, 'acid': 766, 'playng': 4879, 'racing': 5158, 'preferably': 4999, 'kegger': 3653, 'hmph': 3229, 'baller': 1140, '09061213237': 181, 'canary': 1531, 'islands': 3505, '177': 306, 'm227xy': 4001, 'yest': 7161, 'sumthin': 6141, 'cuddling': 1986, 'sleeps': 5776, 'tp': 6505, 'ouch': 4650, 'tues': 6568, 'wed': 6910, 'heaven': 3166, 'prince': 5032, 'audrey': 1073, 'status': 6000, 'mca': 4113, 'error': 2464, 'thanx4': 6343, 'cer': 1609, 'stuck': 6075, 'casualty': 1581, 'stuff42moro': 6086, 'includes': 3402, 'switch': 6200, 'dammit': 2023, 'chart': 1638, 'heroes': 3191, 'tips': 6425, 'fundamentals': 2835, 'grumble': 3040, 'meetin': 4131, 'guoyang': 3064, 'sapna': 5494, 'manege': 4062, 'hogidhe': 3234, 'chinnu': 1692, 'swalpa': 6181, 'agidhane': 838, 'mmmm': 4235, 'bec': 1198, 'cl': 1717, 'key': 3660, 'hectic': 3169, 'swoop': 6202, 'gals': 2855, 'patty': 4748, 'haul': 3136, 'heater': 3165, 'degrees': 2097, 'stalking': 5980, 'galileo': 2854, '15': 290, 'apart': 949, 'appointment': 971, '07973788240': 42, '08715203649': 118, '40533': 468, '31': 423, 'frequently': 2792, 'wesley': 6946, 'infront': 3430, 'dance': 2026, 'permission': 4788, 'eastenders': 2366, 'dot': 2282, 'compare': 1813, 'violet': 6781, 'tulip': 6573, 'lily': 3846, '84025': 650, 'wkent': 7022, '150p16': 294, 'radiator': 5159, 'allday': 882, 'piss': 4854, 'limit': 3847, 'measure': 4122, 'power': 4969, 'boundaries': 1355, 'endless': 2425, 'blessings': 1298, 'mushy': 4349, 'embarrassed': 2415, 'jan': 3538, 'whn': 6967, 'ofice': 4568, 'cn': 1758, 'duffer': 2340, 'knowing': 3701, 'dirty': 2202, 'fellow': 2627, 'stoners': 6036, 'shijutta': 5658, 'xam': 7116, '1thing': 327, 'answr': 933, 'linear': 3853, 'algebra': 876, 'nri': 4519, 'masters': 4092, 'bf': 1248, 'arm': 1005, 'impression': 3393, 'ow': 4674, 'upgrdcentre': 6677, '9153': 702, '26th': 365, 'apps': 978, '08715203652': 119, '42810': 475, '29': 372, '09061790121': 194, 'coco': 1769, 'twins': 6587, 'lighters': 3837, 'apnt': 954, '5pm': 549, 'perform': 4781, 'shola': 5677, 'medicine': 4127, 'academic': 745, 'department': 2124, 'transfer': 6517, 'sagamu': 5474, 'lautech': 3772, 'vital': 6792, 'completes': 1823, 'education': 2384, 'citizen': 1714, 'zealand': 7192, 'mobs': 4252, 'breathe1': 1404, 'crazyin': 1945, 'sleepingwith': 5775, 'finest': 2668, 'ymca': 7166, 'pobox365o4w45wq': 4904, '300p': 416, 'capital': 1541, 'babyjontet': 1123, 'sweetheart': 6193, 'darling': 2039, 'sugar': 6128, 'plum': 4889, 'smacks': 5795, '2waxsto': 406, 'insurance': 3456, 'basic': 1162, 'major': 4041, 'guide': 3059, 'argh': 997, 'spotty': 5958, 'province': 5091, 'sterling': 6018, 'gona': 2967, 'l8': 3718, 'buses': 1475, 'gon': 2966, 'waitin': 6836, 'walsall': 6850, 'tue': 6567, 'terry': 6313, 'sorts': 5882, 'texting': 6328, 'ish': 3503, 'divorce': 2228, 'barbie': 1149, 'ken': 3654, 'cps': 1929, 'outages': 4652, 'conserve': 1856, 'energy': 2429, 'freaky': 2778, 'strange': 6053, 'mmmmm': 4236, 'dawns': 2053, 'refreshed': 5266, 'steak': 6008, 'gnarls': 2946, 'barkleys': 1153, 'financial': 2665, 'wither': 7014, '23f': 352, '23g': 353, 'dobby': 2238, 'nalla': 4372, 'payment': 4758, 'portal': 4940, 'abroad': 737, 'xxsp': 7126, 'visionsms': 6788, 'stopcost': 6042, '08712400603': 99, '09064017295': 204, 'honestly': 3248, 'promptly': 5073, 'keys': 3662, 'burnt': 1471, 'rayman': 5193, 'golf': 2965, 'arcade': 988, 'settings': 5613, 'activ8': 775, 'termsapply': 6308, 'hitter': 3219, 'chez': 1673, 'jules': 3612, 'normally': 4500, 'bar': 1148, 'satsgettin': 5506, '47per': 494, 'lie': 3828, 'saeed': 5472, 'sonyericsson': 5866, 'hf8': 3199, 'madam': 4024, 'cleaning': 1729, 'snap': 5823, 'quizclub': 5152, '80122300p': 623, 'rwm': 5461, '08704050406': 81, 'slaaaaave': 5769, 'summon': 6140, '09050003091': 160, 'c52': 1496, 'expression': 2547, 'depression': 2129, 'arranging': 1013, 'fetch': 2631, 'dogbreath': 2250, 'sounding': 5888, 'reasons': 5226, 'bbd': 1177, 'dvg': 2351, 'vinobanagar': 6778, 'violence': 6780, 'ru': 5441, 'complaining': 1817, 'amanda': 892, 'regard': 5272, 'renewing': 5308, 'upgrading': 6676, '0845': 64, '021': 12, '3680': 436, 'subject': 6096, 'subscriber': 6106, 'elvis': 2410, 'presleys': 5015, 'olympics': 4591, 'birthdate': 1274, 'certificate': 1612, 'publish': 5103, 'rebooting': 5231, 'indicate': 3417, '3750': 437, 'china': 1687, 'noisy': 4481, 'natalja': 4390, '440': 479, 'nat27081980': 4387, 'lined': 3854, 'exams': 2512, 'improve': 3394, 'essential': 2477, 'gods': 2955, 'ba': 1117, 'gua': 3045, 'faber': 2558, 'chit': 1694, 'logon': 3908, '8883': 681, 'cm': 1754, '4217': 474, 'w1a': 6816, '6zf': 593, '118p': 263, 'flow': 2710, 'developed': 2149, 'ovarian': 4666, 'cysts': 2014, 'bc': 1180, 'shrink': 5704, 'honeymoon': 3252, 'outfit': 4655, 'olol': 4589, 'replacement': 5317, 'hopefully': 3262, 'scotland': 5536, 'smoking': 5815, 'forgiven': 2748, 'woulda': 7080, 'realized': 5217, 'obviously': 4550, 'eggs': 2396, 'pert': 4800, 'potato': 4960, 'sac': 5466, 'carry': 1568, 'occurs': 4555, 'bluray': 1320, 'ducking': 2336, 'chinchillas': 1689, 'funeral': 2836, 'ditto': 2225, 'bike': 1260, 'esplanade': 2476, 'totes': 6499, 'hmv1': 3231, 'bday': 1190, 'anybody': 939, 'cultures': 1988, 'module': 4257, 'unsubscribed': 6666, 'tons': 6478, 'hunks': 3315, 'straight': 6052, 'gotbabes': 2990, 'subscriptions': 6109, 'mmmmmmm': 4238, 'snuggles': 5834, 'contented': 1868, 'whispers': 6965, 'cab': 1497, 'steps': 6015, 'absolutely': 739, 'cosign': 1902, 'hme': 3224, 'dats': 2050, 'dogg': 2251, 'spare': 5903, 'supplies': 6156, 'yalrigu': 7137, 'heltini': 3187, 'iyo': 3522, 'kothi': 3712, 'shared': 5642, 'uttered': 6715, 'trusting': 6554, 'jamster': 3537, 'videosound': 6768, 'gold': 2961, 'videosounds': 6769, 'logos': 3909, 'musicnews': 4352, '09701213186': 242, 'speaking': 5909, 'childish': 1681, 'sentiment': 5601, 'rowdy': 5430, 'ful': 2828, 'attitude': 1066, 'shy': 5712, 'attractive': 1068, 'irritating': 3498, 'guides': 3060, 'hanger': 3106, 'inches': 3398, 'hesitate': 3195, 'weakness': 6897, 'notebook': 4506, 'dearer': 2068, 'useless': 6704, 'refilled': 5264, 'successfully': 6116, 'inr': 3443, 'keralacircle': 3658, 'prepaid': 5003, 'kr': 3713, 'booking': 1337, 'broke': 1423, 'sarcastic': 5498, 'faggy': 2567, 'hell': 3176, 'slob': 5788, 'invaders': 3472, 'orig': 4638, 'console': 1860, 'purchase': 5114, 'daaaaa': 2016, 'eachother': 2355, 'regards': 5274, 'buffet': 1455, 'fever': 2633, 'vomitin': 6803, 'jontin': 3596, 'grocers': 3029, 'harish': 3126, 'transfred': 6520, 'acnt': 768, '330': 431, 'hm': 3223, '1120': 258, '1205': 267, 'suzy': 6177, 'relaxing': 5287, '7am': 610, '5ish': 544, 'gmw': 2944, 'connected': 1850, 'poyyarikatur': 4971, 'kolathupalayam': 3706, 'unjalur': 6651, 'erode': 2461, 'transfered': 6518, 'wewa': 6954, '130': 279, 'iriver': 3493, '255': 361, '128': 275, 'mb': 4112, 'tmorrow': 6442, 'accomodate': 756, 'timings': 6422, '8am': 692, 'bhaji': 1251, 'kallis': 3634, 'cricketer': 1957, 'sachin': 5467, 'dresser': 2308, 'bat': 1166, 'feelin': 2621, 'wuld': 7107, 'nuther': 4532, 'stalk': 5979, 'profiles': 5059, 'fetching': 2632, 'difference': 2178, 'versus': 6755, 'rofl': 5409, 'betta': 1241, 'invest': 3474, 'anti': 937, 'aging': 839, 'products': 5055, 'tape': 6248, 'pooja': 4927, 'pimples': 4849, 'wearing': 6901, 'sweatter': 6190, 'haiyoh': 3087, 'hamster': 3097, 'jealous': 3555, 'million': 4184, 'somethin': 5854, 'flaky': 2690, 'parent': 4716, 'snot': 5831, 'unintentional': 6644, 'nonetheless': 4489, 'smoked': 5812, 'rgent': 5376, '1250': 273, '09071512433': 229, '050703': 17, 'csbcm4235wc1n3xx': 1972, 'callcost': 1511, 'mobilesvary': 4249, 'dine': 2190, 'receipts': 5236, '09065174042': 211, 'recd': 5234, '07821230901': 37, '1b6a5ecef91ff9': 315, '37819': 438, 'true18': 6549, '0430': 15, 'jul': 3611, '05': 16, 'peach': 4764, 'tasts': 6252, 'sum': 6136, 'lucyxx': 3983, 'frying': 2819, 'egg': 2395, 'dippeditinadew': 2196, 'lovingly': 3964, 'touched': 6501, 'itwhichturnedinto': 3516, 'gifted': 2922, 'tomeandsaid': 6466, 'snatch': 5825, 'purse': 5119, 'missionary': 4218, 'doggy': 2254, 'standing': 5985, 'vegas': 6745, 'isnt': 3507, 'gained': 2852, 'kg': 3664, 'tests': 6318, 'pressure': 5019, 'limits': 3850, 'yelling': 7154, 'scrappy': 5540, 'forwarding': 2763, 'rr': 5436, 'monkey': 4272, 'asshole': 1042, 'db': 2058, 'changes': 1625, 'report': 5323, 'poo': 4926, 'chad': 1615, 'gymnastics': 3072, 'christians': 1707, 'sao': 5493, 'gary': 2869, 'haunt': 3137, 'sorted': 5880, 'promoting': 5072, '08718727870150ppm': 139, 'noooooooo': 4493, 'gram': 3006, 'entirely': 2445, 'uncomfortable': 6628, 'complain': 1816, 'bettr': 1244, 'bsnl': 1441, 'offc': 4559, 'nd': 4402, 'supose': 6154, 'babysit': 1124, 'needing': 4415, 'falling': 2578, 'smeone': 5805, 'matthew': 4103, '09063440451': 197, 'lux': 3990, 'ppm150': 4975, 'box334': 1366, 'thanks2': 6338, 'compass': 1814, 'map': 4067, 'soul': 5886, 'loose': 3929, 'gnun': 2948, 'way2sms': 6892, 'hangin': 3107, 'mr': 4310, 'enuff': 2451, 'gate': 2872, 'charles': 1636, 'juicy': 3610, 'booty': 1342, 'dizzamn': 2230, 'suitemates': 6134, 'tactful': 6220, 'rewarding': 5374, 'nigh': 4459, 'welp': 6936, 'sts': 6072, 'ended': 2423, 'bay': 1174, 'youphone': 7174, 'athome': 1055, 'youwanna': 7177, 'hu': 3299, 'female': 2629, 'navigate': 4399, 'choosing': 1701, 'require': 5328, 'guidance': 3058, '88800': 680, '89034': 684, '08718711108': 128, 'marriage': 4081, 'function': 2832, 'sexiest': 5618, 'dirtiest': 2201, '89070': 685, 'cruisin': 1969, 'jenny': 3560, 'convince': 1881, 'witot': 7016, 'punish': 5109, 'gimmi': 2926, 'goss': 2986, '2006': 340, 'fifa': 2643, 'vibrate': 6758, 'acting': 773, 'dao': 2032, 'marandratha': 4071, '26': 363, 'stagwood': 5977, 'winterstone': 7000, 'victors': 6762, 'specific': 5915, 'swatch': 6186, 'swhrt': 6196, 'grinule': 3028, 'gimme': 2925, 'completed': 1821, 'grooved': 3030, 'reg': 5270, 'ciao': 1711, 'dual': 2332, '87131': 671, '2814032': 368, '3x': 460, '150pw': 298, 'tensed': 6303, 'real1': 5211, 'pushbutton': 5121, 'dontcha': 2270, 'babygoodbye': 1122, 'golddigger': 2962, 'webeburnin': 6908, '730': 597, 'warwick': 6870, 'tmw': 6446, 'canceled': 1533, 'havn': 3146, 'tacos': 6219, 'rajas': 5169, 'burrito': 1472, 'panasonic': 4696, 'bluetoothhdset': 1317, 'doublemins': 2284, 'doubletxt': 2286, 'sterm': 6019, 'resolved': 5341, 'cupboard': 1993, 'headin': 3151, 'busetop': 1476, '4d': 501, '1405': 284, '1680': 304, '1843': 309, 'pendent': 4772, 'vijaykanth': 6772, 'drunken': 2328, 'angry': 915, 'misbehaved': 4208, 'thursday': 6402, 'submitting': 6099, 'billed': 1261, 'shortcode': 5686, '83332': 644, '08081263000': 58, 'refunded': 5268, 'huge': 3303, 'marking': 4079, 'epi': 2454, 'barred': 1155, 'twat': 6583, 'dungerees': 2344, 'decking': 2082, 'punch': 5108, 'clever': 1735, 'pears': 4766, 'tension': 6304, 'machi': 4016, 'fuckin': 2823, 'pre': 4995, 'sacked': 5468, 'remembered': 5296, 'cooked': 1885, 'salmon': 5484, 'infact': 3421, 'owe': 4675, '21870000': 346, 'mailbox': 4035, 'messaging': 4166, '09056242159': 164, 'retrieve': 5363, 'cc100p': 1594, 'hadn': 3079, 'clocks': 1739, 'shouted': 5693, 'realised': 5213, 'wahay': 6829, 'lip': 3865, 'synced': 6208, 'shangela': 5638, 'pleassssssseeeeee': 4882, 'sportsx': 5956, 'data': 2045, 'analysis': 909, 'thesis': 6360, 'topic': 6485, 'wesleys': 6947, 'bet': 1239, 'ummma': 6621, 'uniform': 6643, 'str': 6051, 'ijust': 3364, 'talked': 6236, 'dang': 2030, 'yck': 7148, 'arguments': 1001, 'fed': 2618, 'himso': 3210, '2go': 383, 'soryda': 5884, 'sory': 5883, 'opener': 4607, 'memorable': 4146, 'musthu': 4353, '09066350750': 215, 'ppm': 4974, 'jeremiah': 3562, 'testing': 6317, 'sayy': 5519, 'jd': 3553, 'accounts': 762, 'executive': 2520, 'weird': 6928, 'shitstorm': 5672, 'attributed': 1070, 'raji': 5170, 'outta': 4665, 'skint': 5763, 'fancied': 2585, 'bevies': 1246, 'waz': 6893, 'othrs': 4647, 'spoon': 5952, 'bin': 1267, 'watchng': 6881, 'planet': 4869, 'comfey': 1797, 'innocent': 3439, 'yunny': 7186, 'citylink': 1716, 'faster': 2598, 'collected': 1783, 'simply': 5732, 'mix': 4229, '85069': 657, 'usher': 6708, 'britney': 1420, '5249': 536, 'mk17': 4231, '92h': 703, '450ppw': 488, 'rocking': 5405, 'ashes': 1026, 'disturbing': 2224, 'juswoke': 3625, 'boatin': 1324, 'docks': 2241, 'spinout': 5933, 'spiritual': 5936, 'jokin': 3591, 'lanre': 3749, 'fakeye': 2573, 'eckankar': 2376, 'excuses': 2518, 'restaurant': 5352, 'coccooning': 1765, 'delay': 2100, 'anand': 910, 'aunts': 1078, 'anniversary': 920, 'tarpon': 6250, 'springs': 5963, 'needy': 4418, 'pouts': 4968, 'stomps': 6034, 'feet': 2625, 'watever': 6883, 'spoons': 5953, 'fffff': 2634, '3000': 414, '08712402050': 100, '10ppm': 255, 'ag': 830, 'promo': 5071, 'forced': 2740, 'slice': 5780, 'knows': 3703, 'papers': 4707, 'generally': 2894, 'smokin': 5814, 'lucy': 3982, 'meetins': 4133, 'cumin': 1990, '09099726395': 237, 'minmobsmorelkpobox177hp51fl': 4196, 'roles': 5412, 'outreach': 4659, 'mel': 4139, 'cards': 1550, 'airtel': 856, '116': 262, 'shaking': 5634, 'ritten': 5397, 'fold': 2719, 'sez': 5622, 'arab': 986, 'evry1': 2505, 'eshxxxxxxxxxxx': 2473, 'mary': 4086, 'jane': 3539, 'lions': 3864, 'lionm': 3862, 'mono': 4275, 'lionp': 3863, 'orchard': 4629, 'laready': 3753, 'color': 1788, 'musical': 4351, 'peaceful': 4763, 'drizzling': 2317, 'strike': 6062, 'bird': 1269, 'antelope': 934, 'toplay': 6486, 'fieldof': 2641, 'selfindependence': 5582, 'contention': 1869, '22': 348, 'removed': 5306, 'ericsson': 2459, 'salesman': 5482, 'considering': 1858, '945': 706, 'pool': 4929, 'bunch': 1463, 'lotto': 3945, 'resent': 5333, 'failed': 2569, 'queries': 5140, 'customersqueries': 2004, 'netvision': 4434, 'saucy': 5508, 'daytime': 2056, 'busty': 1478, '09099726429': 238, 'janinexx': 3540, '515': 533, 'update_now': 6674, '12mths': 277, '400mins': 464, 'j5q': 3525, 'thx': 6403, 'virtual': 6786, 'decades': 2072, 'goverment': 2995, 'expects': 2532, 'sathya': 5503, 'dint': 2194, 'disagreeable': 2204, 'classmates': 1725, 'buzzzz': 1490, 'buzz': 1489, 'vibrator': 6759, 'shake': 5632, 'merely': 4158, 'relationship': 5284, 'wherevr': 6962, 'forevr': 2744, 'gudnyt': 3053, 'tescos': 6314, 'zhong': 7196, 'qing': 5133, 'act': 770, 'donate': 2267, 'unicef': 6642, 'asian': 1030, 'tsunami': 6563, 'disaster': 2207, 'fund': 2834, '864233': 663, 'notice': 4509, 'slower': 5792, 'maniac': 4064, 'jjc': 3577, 'tendencies': 6301, 'lov': 3951, 'nevr': 4441, 'unrecognized': 6660, 'somone': 5859, 'valuing': 6732, 'definitly': 2095, 'undrstnd': 6637, '08718738001': 142, '49557': 499, 'gentleman': 2899, 'dignity': 2186, 'unmits': 6657, 'tonights': 6476, 'optout': 4623, 'yetunde': 7163, 'sura': 6164, 'hont': 3253, 'sheffield': 5650, 'categories': 1586, 'ethnicity': 2480, 'census': 1606, 'transcribing': 6516, 'wknd': 7025, 'quote': 5154, 'wah': 6828, 't91': 6213, '09057039994': 165, '420': 473, 'bathroom': 1172, 'orh': 4637, 'reserve': 5335, 'thirunelvali': 6375, 'tackle': 6218, 'dictionary': 2168, 'screen': 5545, 'wtlp': 7104, 'resubbing': 5357, 'neshanth': 4428, 'thinl': 6373, 'tomorro': 6468, 'term': 6305, 'passion': 4735, '09099726481': 239, 'dena': 2115, 'british': 1419, 'hotels': 3278, '02072069400': 9, 'bx': 1492, '526': 537, 'sw73ss': 6180, 'alcohol': 868, 'varaya': 6733, 'elaya': 2405, 'panties': 4703, 'hack': 3078, 'backdoor': 1126, '121': 269, 'fraction': 2770, 'neo69': 4426, '09050280520': 162, 'subscribe': 6103, 'dps': 2294, 'bcm': 1183, '8027': 626, 'lara': 3752, '5226': 534, 'hava': 3140, '1131': 260, '447801259231': 483, '09058094597': 174, 'lovin': 3962, 'spjanuary': 5937, '09050000928': 156, 'pouch': 4963, 'reboot': 5230, '15pm': 301, 'taunton': 6259, 'path': 4742, 'appear': 963, 'paths': 4744, 'payed': 4755, 'suganya': 6127, 'plm': 4886, 'supervisor': 6153, 'sometext': 5853, 'increase': 3409, 'winning': 6998, 'jack': 3527, 'helpful': 3183, 'pretend': 5020, 'hypotheticalhuagauahahuagahyuhagga': 3332, 'tallahassee': 6241, 'names': 4376, 'name1': 4373, 'name2': 4374, 'mobno': 4251, 'adam': 783, '07123456789': 24, 'txtno': 6596, 'ads': 804, 'dumb': 2342, 'drinking': 2311, 'bluff': 1318, 'soz': 5896, 'imat': 3377, 'mums': 4340, '2moro': 389, 'vivek': 6794, 'ay': 1110, 'wkg': 7023, 'subs': 6101, 'expired': 2537, 'monoc': 4276, 'monos': 4277, 'polyc': 4919, 'stream': 6055, '0871212025016': 94, 'gravel': 3015, '69888': 580, '31p': 426, 'disappeared': 2205, 'inner': 3437, 'tigress': 6413, 'showers': 5698, 'possessiveness': 4949, 'poured': 4966, 'lies': 3829, 'golden': 2963, 'btw': 1445, '08712103738': 93, 'rounder': 5427, 'required': 5329, 'ability': 731, '09063458130': 198, 'polyph': 4921, 'suffering': 6124, 'dysentry': 2353, 'smith': 5810, 'gayle': 2878, 'range': 5184, 'interfued': 3462, 'styles': 6091, 'nationwide': 4392, 'newport': 4445, '1mega': 321, 'pixels': 4859, '3optical': 453, '5digital': 542, 'dooms': 2274, 'millers': 4183, 'hvae': 3327, '09061701444': 184, '24': 354, 'acl03530150pm': 767, 'regarding': 5273, 'commit': 1805, 'tip': 6424, 'boo': 1333, 'enjoyin': 2437, 'yourjob': 7176, 'llspeak': 3889, 'soonlots': 5870, 'loveme': 3957, 'woah': 7034, 'realising': 5214, 'tick': 6405, 'genus': 2902, 'begun': 1217, 'registration': 5277, 'permanent': 4787, 'residency': 5338, 'ccna': 1595, 'strict': 6061, 'teacher': 6271, 'conducts': 1838, 'pract': 4979, 'flung': 2713, 'humanities': 3310, 'sem': 5587, 'modules': 4258, 'ffffffffff': 2635, '449050000301': 485, '09050000301': 151, 'dose': 2280, 'tablet': 6216, 'proper': 5078, 'tongued': 6474, 'ploughing': 4887, 'pile': 4847, 'ironing': 3495, 'chinky': 1691, 'err': 2463, '8pm': 696, 'bare': 1150, 'dentist': 2120, 'stereo': 6016, 'mi': 4172, 'unknown': 6653, 'onwards': 4600, 'administrator': 794, 'goodnite': 2979, 'gailxx': 2850, 'kb': 3649, 'earliest': 2358, 'recorder': 5253, 'canname': 1538, 'australia': 1081, 'mquiz': 4309, 'bcaz': 1181, 'cann': 1537, 'badrith': 1131, '60': 556, '400thousad': 465, 'fix': 2682, 'ceiling': 1600, 'intrepid': 3469, 'duo': 2346, 'rightio': 5384, '48': 495, 'arent': 993, 'breathing': 1405, 'neck': 4410, 'messaged': 4164, '09058091854': 166, 'revealed': 5369, 'box385': 1368, 'm6': 4004, '6wu': 592, 'jerry': 3565, 'irritates': 3497, 'fails': 2570, 'express': 2546, 'callin': 1518, 'sozi': 5897, 'culdnt': 1987, 'talkbut': 6235, 'wannatell': 6856, 'wenwecan': 6941, 'corporation': 1895, 'compliments': 1826, 'tunde': 6574, 'coveragd': 1925, 'vasai': 6739, 'whore': 6968, 'unbelievable': 6624, 'feathery': 2614, 'bowa': 1357, 'realise': 5212, '32000': 428, 'legitimat': 3800, 'efreefone': 2393, 'police': 4917, 'toilet': 6457, 'stolen': 6032, 'cops': 1892, 'pt2': 5099, '87575': 674, 'wenever': 6939, 'lik': 3839, 'goodmate': 2976, 'sary': 5500, 'asusual': 1052, 'cheered': 1661, 'franyxxxxx': 2774, '1pm': 323, 'toshiba': 6494, 'portege': 4941, 'm100': 3999, 'chase': 1640, 'crossing': 1963, 'physics': 4830, 'webadres': 6907, 'geting': 2909, 'slip': 5784, 'watchin': 6879, 'lido': 3827, 'gobi': 2953, 'arts': 1020, 'seperated': 5602, '〨ud': 7203, 'pity': 4857, 'suggestions': 6131, 'finance': 2664, 'anna': 918, 'nagar': 4367, 'scratching': 5541, 'catches': 1584, 'missy': 4220, 'leading': 3786, 'bid': 1255, '151': 299, 'pause': 4750, '08718726270': 132, 'vat': 6740, 'headset': 3154, 'adp': 800, 'aldrine': 869, 'rtm': 5440, 'checkmate': 1657, 'chess': 1670, 'persian': 4792, 'phrase': 4828, 'shah': 5629, 'maat': 4012, 'resend': 5332, 'smartcall': 5799, '68866': 573, 'subscriptn3gbp': 6110, '08448714184': 63, 'landlineonly': 3742, 'idk': 3358, 'moved': 4302, 'butting': 1482, 'freedom': 2782, 'vs': 6811, 'actual': 780, 'ffffuuuuuuu': 2636, 'hahaha': 3082, 'brain': 1385, 'starshine': 5992, 'sips': 5741, 'cappuccino': 1542, 'bishan': 1276, 'oooh': 4603, 'ridden': 5381, 'selling': 5585, 'paranoid': 4713, 'disconnected': 2211, 'sized': 5755, 'yoga': 7168, 'adjustable': 792, 'cooperative': 1889, 'allows': 885, 'workout': 7063, 'fats': 2603, 'blu': 1314, 'november': 4517, '09061104276': 178, '75max': 601, 'unnecessarily': 6658, 'hostile': 3275, 'spice': 5928, 'audrie': 1074, 'autocorrect': 1083, 'hearin': 3160, 'gist': 2932, 'gotto': 2994, '220cm2': 350, 'neighbors': 4423, '087104711148': 91, 'nowadays': 4518, 'showrooms': 5700, 'shaping': 5640, 'ultimately': 6618, 'tor': 6489, 'motive': 4297, 'tui': 6570, 'achieve': 765, 'korli': 3709, 'web2mobile': 6906, 'txt250': 6591, 'box139': 1362, 'la32wu': 3725, 'txtx': 6601, 'rob': 5402, 'mack': 4018, 'gf': 2916, 'theater': 6348, 'notified': 4511, 'marketing': 4078, '84122': 651, '08450542832': 65, 'tok': 6458, 'habba': 3076, 'joys': 3601, 'lifeis': 3831, 'daywith': 2057, 'thoughts': 6385, 'somewheresomeone': 5857, 'tosend': 6493, 'greeting': 3024, 'balloon': 1141, 'nighters': 4461, 'persevered': 4791, 'warned': 6866, 'sprint': 5964, 'kit': 3691, 'strip': 6064, '1013': 250, 'ig11': 3360, 'oja': 4577, 'smell': 5803, 'tobacco': 6450, 'loooooool': 3927, 'couch': 1908, 'celebration': 1604, 'rents': 5313, 'bigger': 1258, 'tops': 6488, 'studies': 6080, 'anyones': 941, 'ashley': 1027, 'flaked': 2689, 'hui': 3307, 'xin': 7120, '09050000332': 152, 'sun0819': 6143, 'ello': 2409, 'rub': 5442, 'avatar': 1088, 'subtoitles': 6113, 'accordin': 758, 'discussed': 2215, '69698': 577, 'improved': 3395, 'fwiw': 2844, 'afford': 821, 'indians': 3416, 'sall': 5483, 'hehe': 3172, 'shexy': 5654, 'record': 5251, 'refund': 5267, 'r836': 5156, '09065069154': 209, 'kills': 3679, 'qet': 5131, 'jsco': 3604, '2channel': 375, 'leadership': 3785, 'skills': 5761, 'psychic': 5097, 'annie': 919, 'didntgive': 2172, 'bellearlier': 1224, 'bedbut': 1204, 'mite': 4225, 'thepub': 6358, 'uwana': 6717, 'jenxxx': 3561, 'math': 4098, 'gower': 2997, 'wales': 6840, 'morrow': 4291, 'notixiquating': 4512, 'laxinorficated': 3775, 'bambling': 1142, 'entropication': 2448, 'oblisingately': 4548, 'opted': 4619, 'masteriastering': 4091, 'amplikater': 904, 'fidalfication': 2639, 'champlaxigating': 1620, 'atrocious': 1060, 'wotz': 7078, 'junna': 3620, 'printer': 5037, 'groovy': 3031, 'groovying': 3032, 'level': 3819, 'crucify': 1966, 'tallent': 6242, 'wasting': 6875, 'smarter': 5800, '09061790126': 196, 'tagged': 6222, 'count': 1912, 'infra': 3429, 'yogasana': 7169, 'steam': 6010, 'suntec': 6149, 'steamboat': 6011, 'champ': 1619, 'glasgow': 2938, 'punto': 5112, 'shindig': 5660, 'avoid': 1095, 'missunderstding': 4219, 'beloved': 1229, 'signing': 5724, 'science': 5529, 'chocolate': 1697, 'melt': 4142, 'sunlight': 6145, 'ground': 3033, 'amla': 898, 'pansy': 4701, 'jungle': 3619, 'version': 6754, 'stil': 6026, 'fucked': 2822, 'tobed': 6451, '430': 476, 'accomodations': 757, 'cave': 1590, 'offered': 4561, 'embarassing': 2414, 'accessible': 751, '08709501522': 89, '139': 281, 'la3': 3724, '2wu': 409, 'adsense': 805, 'approved': 976, 'worms': 7067, 'specify': 5916, 'domain': 2265, 'nusstu': 4531, 'miiiiiiissssssssss': 4178, 'nimbomsons': 4466, 'rebtel': 5232, 'firefox': 2676, 'lower': 3967, 'display': 2219, 'rearrange': 5223, 'letters': 3818, 'gives': 2934, 'dormitory': 2278, 'astronomer': 1051, 'starer': 5989, 'election': 2407, 'recount': 5255, 'hitler': 3217, 'perpetual': 4790, 'dd': 2060, 'onam': 4594, 'sirji': 5743, 'insha': 3445, 'tata': 6254, 'aig': 849, 'recieve': 5247, 'channel': 1627, 'teletext': 6288, 'pg': 4807, 'kay': 3647, 'gauti': 2875, 'sehwag': 5576, 'odi': 4557, 'lodging': 3902, 'uworld': 6718, 'qbank': 5130, 'assessment': 1041, 'likely': 3842, 'mittelschmertz': 4227, 'paracetamol': 4709, 'ikea': 3365, 'spelled': 5922, 'caps': 1543, 'mess': 4162, 'bullshit': 1462, 'hanks': 3109, 'lotsly': 3943, '09058091870': 167, 'm26': 4002, '3uz': 458, 'weirdo': 6930, 'woo': 7049, 'hoo': 3254, 'hppnss': 3293, 'sorrow': 5875, 'goodfriend': 2974, 'stubborn': 6074, 'sucker': 6117, 'hospitals': 3272, 'suckers': 6118, 'fans': 2588, '0870141701216': 76, 'norm': 4497, '4txt': 513, '120p': 268, 'bbq': 1179, '6ish': 586, '09058094455': 169, 'jurong': 3621, 'amore': 902, '09096102316': 235, 'seat': 5555, 'impatient': 3385, 'belligerent': 1225, 'splash': 5940, 'dessert': 2141, 'warner': 6867, 'village': 6777, '83118': 642, 'colin': 1778, 'farrell': 2594, 'swat': 6185, 'kiosk': 3687, 'mre': 4311, 'achan': 763, 'amma': 899, 'taught': 6258, 'becaus': 1199, 'hes': 3193, 'verifying': 6753, 'prabu': 4978, 'connect': 1849, 'waheed': 6830, 'fathima': 2602, 'meg': 4135, 'reverse': 5370, 'cheating': 1651, 'mathematics': 4099, 'solve': 5846, 'questioned': 5143, 'cook': 1884, 'gardener': 2867, 'vegetables': 6746, 'neighbour': 4424, 'sections': 5566, 'clearer': 1732, '1million': 322, 'ppt150x3': 4976, 'box403': 1370, 'w1t1jy': 6819, '0870737910216yrs': 84, 'tiring': 6427, 'concentrating': 1834, 'throwing': 6394, 'deciding': 2077, 'cashto': 1576, '08000407165': 46, 'getstop': 2912, '88222': 678, 'php': 4827, 'wedding': 6912, 'performed': 4783, 'plumbers': 4890, 'wrench': 7086, 'borrow': 1348, 'arestaurant': 994, 'squid': 5969, 'dosomething': 2281, 'wall': 6845, '08712402779': 102, 'fujitsu': 2827, 'ibm': 3338, 'hp': 3291, 'kicks': 3670, 'yalru': 7138, 'lyfu': 3995, 'astne': 1049, 'innu': 3440, 'mundhe': 4342, 'lyf': 3994, 'ali': 877, 'halla': 3092, 'ke': 3650, 'bilo': 1265, 'program': 5061, 'edhae': 2381, 'ovr': 4671, 'vargu': 6734, 'meow': 4157, 'velachery': 6747, 'natalie': 4388, '165': 303, 'natalie2k9': 4389, 'nordstrom': 4496, 'qi': 5132, 'suddenly': 6121, 'holy': 3243, 'weren': 6944, '95': 707, 'pax': 4751, 'deposit': 2128, 'sq825': 5967, 'arrival': 1015, 'figuring': 2651, 'favorite': 2609, 'oyster': 4679, 'sashimi': 5501, 'stomach': 6033, 'rumbling': 5451, 'outbid': 4653, 'simonwatson5120': 5730, 'shinco': 5659, 'plyr': 4894, 'smsrewards': 5820, 'notifications': 4510, 'ndship': 4403, 'needle': 4416, '4few': 503, 'conected': 1839, '9t': 715, 'checkup': 1658, 'aka': 863, 'pap': 4704, 'smear': 5802, 'attention': 1065, 'spreadsheet': 5960, 'determine': 2144, 'entire': 2444, 'mirror': 4206, 'youre': 7175, 'apeshit': 952, 'swimming': 6197, 'jacuzzi': 3531, 'dismissial': 2218, 'joining': 3587, 'formally': 2754, 'delivered': 2107, 'sufficient': 6125, 'accidant': 752, 'tookplace': 6480, 'ghodbandar': 2917, 'slovely': 5790, '80488': 627, '07xxxxxxxxx': 43, '09066362231': 219, 'box97n7qp': 1376, 'excited': 2514, '7cfca1a': 611, '07090201529': 22, 'helens': 3175, 'princes': 5033, 'tb': 6264, 'garments': 2868, 'elections': 2408, 'restock': 5353, 'thanksgiving': 6339, 'scrounge': 5547, 'rhythm': 5377, 'establish': 2478, 'attraction': 1067, 'named': 4375, 'sorrows': 5876, 'craziest': 1943, 'proove': 5077, 'praises': 4984, 'curry': 1998, 'makiing': 4044, 'sambar': 5489, '07815296484': 36, '41782': 472, 'lingo': 3857, 'women': 7040, 'instantly': 3452, '69969': 583, 'bcmsfwc1n3xx': 1185, 'free2day': 2781, 'george': 2904, '89080': 686, '0870241182716': 79, 'sometme': 5855, 'andrews': 914, 'costing': 1905, 'offering': 4562, '09066368470': 223, 'shb': 5646, '7250': 595, 'chapel': 1628, 'frontierville': 2817, 'progress': 5063, 'continue': 1871, 'non': 4488, 'cantdo': 1539, 'anythingtomorrow': 945, 'myparents': 4357, 'aretaking': 995, 'outfor': 4656, 'katexxx': 3644, '08700469649': 71, 'box420': 1371, 'virgins': 6785, '4fil': 504, 'sexual': 5619, 'theirs': 6351, '69911': 582, 'leanne': 3790, 'cutting': 2010, 'ooh': 4602, '4got': 506, 'dancing': 2028, 'moseley': 4292, 'weds': 6915, 'bruv': 1438, '09053750005': 163, '310303': 425, '08718725756': 131, '140ppm': 285, 'billion': 1262, 'dan': 2025, 'reminded': 5300, 'tease': 6277, 'grave': 3014, 'saved': 5512, 'cme': 1756, 'hos': 3270, 'occupied': 4552, 'armenia': 1007, 'swann': 6182, 'howard': 3286, 'abbey': 725, '09066660100': 228, '2309': 351, 'harry': 3128, 'potter': 4962, 'phoenix': 4817, 'readers': 5207, 'inconsiderate': 3406, 'nag': 4366, 'recession': 5244, 'genes': 2895, 'prakesh': 4987, 'beauty': 1197, 'hides': 3205, 'secrets': 5563, 'n8': 4361, 'clothes': 1746, 'jewelry': 3571, 'trips': 6540, 'related': 5282, 'trade': 6507, 'arul': 1022, 'adore': 798, 'bx526': 1494, 'wherre': 6963, 'needa': 4413, 'mcat': 4114, 'orno': 4640, 'handed': 3099, 'asda': 1025, 'counts': 1915, 'diwali': 2229, 'genius': 2896, 'consent': 1855, 'forfeit': 2745, 'prescribed': 5008, 'morphine': 4290, 'spoiled': 5945, 'dave': 2052, '09061743806': 189, 'box326': 1365, 'cw25wx': 2012, 'aptitude': 983, 'comingdown': 1801, 'rang': 5183, 'guessin': 3056, 'membership': 4145, 'jackpot': 3529, '81010': 631, 'dbuk': 2059, 'lccltd': 3779, '4403ldnw1a7rw18': 480, 'revision': 5372, 'fran': 2771, 'boyf': 1379, 'interviw': 3467, 'value': 6729, 'absence': 738, 'connections': 1852, 'bull': 1461, 'floating': 2706, 'flat': 2693, '50s': 532, 'alot': 886, 'success': 6114, 'raise': 5167, 'terror': 6311, 'cruel': 1967, 'decent': 2074, 'joker': 3589, 'prometazine': 5066, 'syrup': 6210, '5mls': 547, 'feed': 2619, 'jaklin': 3534, 'buffy': 1456, 'randy': 5182, 'qlynnbv': 5135, 'help08700621170150p': 3181, 'posting': 4957, 'maaaan': 4010, '69888nyt': 581, 'drug': 2323, 'dealer': 2063, 'mandan': 4059, 'errors': 2465, 'subscribers': 6107, 'taj': 6226, 'lesser': 3812, 'known': 3702, 'facts': 2564, 'mumtaz': 4341, 'shahjahan': 5630, 'wifes': 6979, 'killed': 3677, 'arises': 1004, 'hari': 3125, 'ax': 1107, 'chinatown': 1688, 'porridge': 4938, 'claypot': 1726, 'rice': 5378, 'yam': 7139, 'fishhead': 2680, 'beehoon': 1207, 'nydc': 4540, 'resuming': 5362, 'minimum': 4194, 'reapply': 5222, 'prix': 5041, '1030': 251, 'absolutly': 740, 'ahhh': 845, 'vaguely': 6722, 'stayin': 6003, 'rugby': 5445, 'colours': 1790, '3lions': 448, 'click': 1736, 'hep': 3190, 'immunisation': 3383, 'goldviking': 2964, '762': 602, '07808': 33, 'xxxxxx': 7131, '08719899217': 147, '41685': 471, '07': 20, 'nhs': 4450, 'yor': 7170, '2b': 373, 'terminated': 6306, 'inconvenience': 3407, 'conference': 1840, 'mw': 4355, 'tuth': 6581, 'ola': 4585, 'bids': 1256, 'arrange': 1012, 'reliant': 5289, 'yeesh': 7152, 'ashwini': 1028, 'blanket': 1292, 'hidden': 3203, 'appendix': 964, 'chill': 1685, 'knickers': 3698, '01223585236': 4, 'nikiyu4': 4465, '1apple': 314, '1tulsi': 328, 'leaf': 3788, '1lemon': 320, '1cup': 316, 'problms': 5050, 'litres': 3878, 'watr': 6886, 'diseases': 2216, 'snd': 5826, 'paragon': 4711, 'fa': 2556, '21st': 347, '2005': 339, '87121': 670, '08452810075over18': 68, 'siva': 5753, 'tats': 6255, 'flirting': 2705, 'chatting': 1647, 'fried': 2799, 'spares': 5904, 'roommates': 5421, 'looovvve': 3928, 'storming': 6049, 'phne': 4816, 'wt': 7099, 'margaret': 4073, 'girlfrnd': 2929, 'grahmbell': 3005, 'invnted': 3480, 'telphone': 6294, '4get': 505, 'powerful': 4970, 'weapon': 6899, 'occupy': 4553, 'thread': 6388, 'wishlist': 7011, 'section': 5565, 'forums': 2760, 'nitro': 4471, 'bookshelf': 1340, 'fring': 2805, '09090204448': 231, 'minded': 4191, 'minapn': 4189, 'ls278bb': 3972, 'desparate': 2137, 'recorded': 5252, 'textcomp': 6325, 'jumpers': 3617, 'hat': 3132, 'belt': 1230, 'cribbs': 1956, 'lounge': 3949, 'passes': 4734, '08704439680': 82, 'abstract': 741, 'allow': 883, 'grandmas': 3009, 'hungover': 3313, 'limited': 3848, 'uses': 6706, 'hyde': 3329, 'opps': 4617, 'sdryb8i': 5549, 'dollar': 2261, 'oga': 4571, 'okey': 4581, 'dokey': 2260, 'swashbuckling': 6184, 'jb': 3552, 'upto': 6683, '9061100010': 700, 'wire3': 7003, '1st4terms': 325, 'mobcudb': 4245, 'hottest': 3279, '89555': 689, 'textoperator': 6329, 'g696ga': 2846, 'kanji': 3639, 'attached': 1061, 'horse': 3269, 'convenience': 1875, 'aaooooright': 723, 'famamus': 2581, 'maggi': 4029, 'mee': 4129, 'yun': 7185, 'ubi': 6609, '67441233': 572, 'irene': 3492, 'ere': 2458, 'bus8': 1474, '65': 568, '61': 561, '66': 569, '382': 440, 'cres': 1955, '6ph': 589, '5wkg': 553, 'èn': 7202, 'rahul': 5163, 'dengra': 2116, 'avalarr': 1087, 'hollalater': 3241, 'shhhhh': 5655, 'distance': 2220, 'que': 5138, 'pases': 4730, 'buen': 1453, 'tiempo': 6409, 'providing': 5090, 'assistance': 1043, 'wtf': 7101, 'wondar': 7042, 'flim': 2701, 'delhi': 2104, 'teaching': 6273, '2hrs': 385, 'khelate': 3665, 'kintu': 3686, 'opponenter': 4615, 'dhorte': 2158, 'lage': 3734, 'justify': 3624, 'ruining': 5447, 'darker': 2035, 'styling': 6092, 'protect': 5086, 'threats': 6389, 'sib': 5715, 'sensitive': 5597, 'passwords': 4738, 'thet': 6361, 'skinny': 5762, 'casting': 1579, 'lunsford': 3985, 'knocking': 3699, 'arty': 1021, 'collages': 1779, 'tryin': 6557, 'bruce': 1436, 'fowler': 2767, 'asia': 1029, 'temales': 6296, '09061743810': 190, '326': 429, 'hall': 3091, 'manage': 4053, 'hesitation': 3196, 'silently': 5727, 'intha': 3468, 'ponnungale': 4925, 'ipaditan': 3486, 'openings': 4610, 'upcharge': 6670, 'stink': 6027, 'purchases': 5115, 'w4': 6820, '5wq': 554, '89105': 687, 'films': 2657, 'misplaced': 4212, 'rayan': 5192, 'macleran': 4019, 'kindly': 3683, 'documents': 2244, 'submitted': 6098, 'stapati': 5987, 'nooooooo': 4492, 'cable': 1499, 'outage': 4651, 'built': 1459, 'atlast': 1057, 'lonlines': 3919, 'lotz': 3946, 'memories': 4147, 'wnevr': 7031, 'fal': 2574, 'vth': 6812, 'fals': 2580, 'yen': 7156, 'madodu': 4025, 'nav': 4398, 'pretsorginta': 5021, 'nammanna': 4377, 'pretsovru': 5022, 'alwa': 890, 'phony': 4823, 'pai': 4687, 'seh': 5575, 'oi': 4574, 'ami': 896, 'parchi': 4714, 'kicchu': 3666, 'kaaj': 3629, 'korte': 3710, 'iccha': 3343, 'korche': 3708, 'tul': 6572, 'lovly': 3965, 'hip': 3212, 'zoom': 7199, 'obey': 4547, 'cashbin': 1574, 'biggest': 1259, 'collecting': 1784, 'configure': 1842, 'theyre': 6363, 'pee': 4767, 'burns': 1470, 'propsd': 5083, 'gv': 3069, 'lv': 3992, 'lttrs': 3976, 'threw': 6390, 'thm': 6377, 'aproach': 982, 'dt': 2331, 'truck': 6547, 'speeding': 5920, 'ran': 5178, 'boost': 1341, 'thy': 6404, 'lived': 3881, 'happily': 3118, '2gthr': 384, 'evrydy': 2506, 'photoshop': 4826, 'backwards': 1127, 'soo': 5867, 'weaknesses': 6898, 'knee': 3695, 'exposes': 2545, 'pulls': 5107, 'wicked': 6972, 'breadstick': 1395, 'transport': 6521, 'priest': 5030, 'jiayin': 3575, 'quitting': 5150, 'least5times': 3792, 'wudn': 7106, 'lotta': 3944, 'corvettes': 1900, 'burial': 1468, 'tex': 6319, 'mecause': 4124, 'werebored': 6943, 'okden': 4580, 'uin': 6613, 'likeyour': 3844, 'gr8fun': 3001, 'updat': 6672, 'countinlots': 1913, 'xxxxx': 7130, '80182': 625, '08452810073': 67, 'cha': 1613, 'lil': 3845, 'beverage': 1245, 'pist': 4856, 'bold2': 1329, 'taste': 6251, 'drama': 2297, 'struggling': 6071, 'ego': 2397, 'necessity': 4409, 'reppurcussions': 5324, 'gokila': 2960, 'tram': 6514, 'vic': 6760, '0871277810910p': 111, 'oral': 4625, 'prescription': 5010, 'importantly': 3389, 'parachute': 4710, 'trash': 6522, 'cumming': 1991, 'requirements': 5330, 'ammo': 901, 'ak': 862, 'alertfrom': 871, 'jeri': 3563, 'stewartsize': 6021, '2kbsubject': 386, 'prescripiton': 5009, 'drvgsto': 2329, '08714712379': 113, 'effects': 2391, 'control': 1874, 'gut': 3066, 'wrenching': 7087, 'deny': 2122, 'sales': 5481, 'converted': 1877, 'tscs08714740323': 6561, '1winawk': 331, '50perweeksub': 527, 'smsing': 5819, 'animal': 916, 'reminding': 5302, 'adoring': 799, 'easter': 2367, 'choices': 1699, 'toss': 6495, 'coin': 1773, 'gudni8': 3051, 'punj': 5111, 'tiwary': 6435, 'lavender': 3773, 'involve': 3481, 'imposed': 3390, 'eurodisinc': 2483, 'trav': 6523, 'aco': 769, 'entry41': 2450, 'morefrmmob': 4286, 'shracomorsglsuplt': 5702, 'ls1': 3971, '3aj': 442, 'bootydelious': 1343, '32': 427, 'foward': 2766, 'ruin': 5446, 'gota': 2989, 'mising': 4211, 'bowls': 1359, 'crap': 1937, 'loans': 3895, 'coulda': 1910, 'hdd': 3148, 'casing': 1577, 'alibi': 879, 'cheetos': 1665, 'completing': 1824, 'chik': 1678, 'filth': 2658, 'saristar': 5499, 'e14': 2354, '9yt': 717, '08701752560': 78, '450p': 487, 'stop2': 6039, 'hanging': 3108, 'somewhr': 5858, 'crushes': 1970, 'karnan': 3642, 'effect': 2390, 'irritation': 3499, 'lock': 3900, 'keypad': 3661, 'peoples': 4777, 'happiest': 3117, 'characters': 1631, 'differences': 2179, 'spell': 5921, 'pubs': 5104, 'frankie': 2772, 'bennys': 1235, '08452810071': 66, 'miwa': 4228, 'consistently': 1859, 'practicum': 4983, 'links': 3859, 'ears': 2361, 'explicitly': 2542, 'nora': 4495, '09064019788': 207, 'box42wr29c': 1372, 'muchxxlove': 4332, 'locaxx': 3899, 'wrc': 7084, 'rally': 5175, 'lucozade': 3981, '61200': 562, 'packs': 4684, 'itcould': 3512, 'credited': 1951, 'tamilnadu': 6243, 'adewale': 791, 'egbon': 2394, 'rich': 5379, 'postponed': 4958, 'stocked': 6030, 'apologetic': 956, 'fallen': 2577, 'actin': 772, 'spoilt': 5946, 'badly': 1130, 'netflix': 4431, 'optin': 4621, 'bbc': 1176, 'charts': 1639, 'ajith': 861, 'bcum': 1187, 'property': 5080, 'dusk': 2348, 'puzzles': 5128, 'exorcism': 2527, 'emily': 2418, 'incredible': 3410, 'blow': 1311, 'o2fwd': 4545, '18p': 310, 'sight': 5720, 'maintain': 4039, 'cr': 1930, 'grr': 3039, 'pharmacy': 4809, 'lolnice': 3911, 'multiply': 4335, 'independently': 3412, 'division': 2227, 'push': 5120, 'showed': 5695, 'whereare': 6961, 'friendsare': 2802, 'thekingshead': 6352, 'canlove': 1536, 'nic': 4452, 'manageable': 4054, 'wrk': 7090, 'lst': 3973, 'foned': 2727, 'chuck': 1709, 'laughing': 3768, 'tooo': 6482, 'seekers': 5572, 'yellow': 7155, 'misscall': 4214, 'frndz': 2813, '6missed': 587, 'marvel': 4085, 'ultimate': 6617, 'spider': 5929, '83338': 645, '8ball': 693, 'brison': 1417, 'frog': 2814, 'mad1': 4022, 'mad2': 4023, '88888': 683, 'sonathaya': 5861, 'soladha': 5843, 'nannys': 4380, 'disturbance': 2223, 'dlf': 2234, 'premarica': 5000, 'rgds': 5375, 'treadmill': 6527, 'ad': 782, 'craigslist': 1935, 'landmark': 3744, 'bob': 1325, 'barry': 1158, '83738': 648, 'meaningless': 4119, 'moments': 4266, 'repairs': 5314, 'followin': 2722, 'xafter': 7115, 'cst': 1974, 'chg': 1674, 'shorts': 5689, 'aust': 1080, '0776xxxxxxx': 28, '18yrs': 311, 'deduct': 2085, '54': 540, 'resubmit': 5358, 'expiry': 2539, 'alian': 878, 'secretly': 5562, 'fancies': 2586, '09065394514': 212, 'datebox1282essexcm61xn': 2047, 'iron': 3494, 'splashmobile': 5941, 'subscrition': 6111, 'finalise': 2662, 'december': 2073, '08002986906': 54, 'judgemental': 3609, 'fridays': 2797, 'inpersonation': 3442, 'flea': 2696, 'positions': 4945, 'kama': 3636, 'sutra': 6175, '07808247860': 34, '08719899229': 148, '40411': 467, 'nachos': 4365, 'eta': 2479, 'tlk': 6438, 'ratio': 5189, 'tortilla': 6491, 'popping': 4936, 'ibuprofens': 3341, 'luton': 3987, '0125698789': 6, 'dip': 2195, 'respond': 5345, 'btwn': 1446, 'legs': 3801, 'loneliness': 3915, 'chloe': 1696, 'court': 1921, 'sonetimes': 5862, 'rough': 5425, 'ofcourse': 4558, 'songs': 5864, 'drms': 2318, 'reassuring': 5228, 'everyso': 2495, 'panicks': 4699, 'kvb': 3717, 'text82228': 6322, 'txt82228': 6592, 'menu': 4156, 'hen': 3188, 'manky': 4065, 'scouse': 5538, 'travelling': 6526, 'inmind': 3436, 'recreation': 5256, '09061743386': 188, 'shun': 5710, 'bian': 1254, 'glass': 2939, 'exhibition': 2524, 'taxt': 6261, 'massage': 4088, 'tie': 6408, 'pos': 4942, 'lool': 3926, 'denis': 2117, 'mina': 4188, 'weekdays': 6919, 'nails': 4370, 'oranges': 4627, 'upd8': 6671, 'pen': 4770, 'biro': 1272, 'sorting': 5881, 'narcotics': 4382, 'incomm': 3405, 'shant': 5639, 'jia': 3574, 'abi': 730, 'grasp': 3012, 'prominent': 5067, 'bite': 1280, 'cheek': 1659, 'chastity': 1642, 'device': 2151, 'beatings': 1194, '08701213186': 73, 'affidavit': 820, 'twiggs': 6585, 'courtroom': 1922, 'afternon': 827, 'interviews': 3466, 'ibored': 3340, 'crashing': 1940, '3pound': 454, 'nus': 4530, 'sg': 5624, 'phyhcmk': 4829, 'pc1323': 4761, 'wi': 6971, 'nz': 4543, 'arrow': 1017, 'x29': 7113, '09065989180': 213, 'horniest': 3265, 'follow': 2720, 'instructions': 3455, 'ball': 1139, 'moving': 4307, 'spin': 5932, 'building': 1458, 'slightly': 5783, 'ingredients': 3432, 'roads': 5400, 'slippery': 5786, '09066358361': 217, 'y87': 7133, 'watched': 6878, 'exp': 2529, '30apr': 418, 'spark': 5905, 'flame': 2691, 'rawring': 5191, 'xoxo': 7122, 'tunji': 6575, '4qf2': 510, 'optimistic': 4620, 'wetherspoons': 6953, '3miles': 450, 'amk': 897, 'fink': 2674, '09099726553': 240, 'promised': 5069, 'carlie': 1561, 'minmobsmore': 4195, 'lkpobox177hp51fl': 3886, 'chile': 1684, 'subletting': 6097, 'sexychat': 5621, 'surname': 6170, 'clue': 1753, 'begins': 1216, '09061749602': 193, '528': 538, 'hp20': 3292, '1yf': 333, 'pathaya': 4743, 'enketa': 2438, 'maraikara': 4070, 'evaporated': 2485, 'privacy': 5039, 'stealing': 6009, 'employer': 2420, 'paperwork': 4708, 'tall': 6240, '28thfeb': 371, 'jam': 3535, 'hannaford': 3110, 'wheat': 6956, 'chex': 1672, 'forgiveness': 2749, 'fruit': 2818, 'lindsay': 3851, 'bars': 1159, 'ptbo': 5100, 'heron': 3192, 'cashed': 1575, 'announced': 921, 'blog': 1301, 'footy': 2738, 'stadium': 5974, 'large': 3754, 'coca': 1764, 'cola': 1776, 'pisces': 4853, 'aquarius': 984, 'healthy': 3157, 'bathing': 1171, 'associate': 1044, 'flippin': 2703, 'kane': 3638, 'shud': 5707, '125': 272, 'freeentry': 2783, 'xt': 7123, 'julianaland': 3614, 'oblivious': 4549, 'win150ppmx3age16': 6988, 'walmart': 6849, 'mouse': 4300, 'desk': 2136, 'entertaining': 2443, 'hugh': 3304, 'laurie': 3771, 'stick': 6023, 'phasing': 4810, 'fourth': 2765, 'dimension': 2188, 'buyers': 1485, 'mike': 4179, 'hussey': 3325, 'typical': 6605, '85222': 658, 'winnersclub': 6997, '84': 649, 'gbp1': 2882, 'philosophy': 4815, 'nte': 4521, '07732584351': 25, 'rodger': 5408, 'europe': 2484, '10th': 256, '09050000555': 154, 'ba128nnfwfly150ppm': 1118, 'onwords': 4601, 'mtnl': 4328, 'mumbai': 4337, 'bomb': 1330, 'wasted': 6874, 'chick': 1675, 'boobs': 1334, 'sorta': 5879, 'blown': 1313, 'gong': 2969, 'kaypoh': 3648, 'lastest': 3758, 'stereophonics': 6017, 'marley': 4080, 'dizzee': 2231, 'racal': 5157, 'libertines': 3823, 'strokes': 6067, 'nookii': 4490, 'flirt': 2704, 'bookmark': 1338, 'weightloss': 6927, 'instant': 3451, '08715203028': 117, '9th': 716, 'sweater': 6189, 'mango': 4063, 'size': 5754, 'problematic': 5048, 'definite': 2093, 'nos': 4503, 'defer': 2092, 'admission': 796, '0a': 243, 'companies': 1810, 'responsible': 5350, 'suppliers': 6155, 'guarantee': 3047, 'command': 1802, 'univ': 6649, 'payasam': 4753, 'rinu': 5392, 'shifad': 5656, 'raised': 5168, 'complaint': 1818, 'risk': 5394, 'wld': 7028, 'nosh': 4504, 'whr': 6970, '2getha': 381, 'dr': 2295, 'apology': 959, '08719899230': 149, 'haircut': 3086, 'breezy': 1407, 'japanese': 3544, 'proverb': 5088, 'indian': 3415, 'sc': 5520, 'specialise': 5913, 'wad': 6826, 'pressies': 5018, 'someplace': 5851, 'kotees': 3711, 'hhahhaahahah': 3201, 'nig': 4457, 'leonardo': 3810, 'environment': 2453, 'terrific': 6310, 'view': 6770, 'gays': 2879, 'remembrs': 5298, 'everytime': 2496, 'mailed': 4036, 'varma': 6736, 'lit': 3876, 'charming': 1637, '8077': 629, 'fortune': 2758, 'secure': 5567, 'fake': 2572, 'reffering': 5263, 'getiing': 2908, 'ortxt': 4642, 'prone': 5075, 'waheeda': 6831, 'toledo': 6461, 'tahan': 6223, 'anot': 925, 'lo': 3892, 'neft': 4420, 'beneficiary': 1233, 'inever': 3420, 'naal': 4364, 'eruku': 2467, 'tantrum': 6246, 'abj': 733, 'becausethey': 1200, '09058098002': 176, 'pobox1': 4900, 'w14rg': 6815, 'blastin': 1293, 'occur': 4554, 'rajnikant': 5172, 'stopped': 6043, 'ocean': 4556, 'resume': 5361, 'spaces': 5900, 'embassy': 2416, 'dled': 2233, 'imp': 3384, 'footie': 2736, 'phil': 4814, 'neville': 4440, 'biola': 1268, '0871277810710p': 109, 'efficient': 2392, 'sindu': 5735, 'walkabout': 6842, 'officially': 4567, 'sumfing': 6138, 'beads': 1191, 'nver': 4534, '09058094594': 173, 'dull': 2341, 'follows': 2724, 'subsequent': 6112, 'imin': 3379, 'dontmatter': 2272, 'urgoin': 6692, 'outl8r': 4658, 'reallyneed': 5220, '2docd': 377, 'dontplease': 2273, 'dontignore': 2271, 'mycalls': 4356, 'thecd': 6350, 'isv': 3510, 'tome': 6465, 'childporn': 1682, 'slots': 5789, 'shock': 5674, 'minus': 4201, 'paragraphs': 4712, '448712404000': 484, '08712404000': 105, 'sells': 5586, 'rct': 5196, 'thnq': 6379, 'adrian': 802, 'vatian': 6741, '20m12aq': 343, 'darlings': 2040, '146tf150p': 288, 'dileep': 2187, 'muchand': 4331, 'contacts': 1865, 'venugopal': 6750, 'mentioned': 4153, 'nervous': 4427, 'fired': 2675, 'poorly': 4932, 'punishment': 5110, 'worst': 7073, 'brb': 1392, 'kill': 3676, 'shitload': 5671, 'diamonds': 2163, '8000930705': 618, 'grandfather': 3008, 'consider': 1857, 'excused': 2517, 'waited': 6835, 'develop': 2148, 'cozy': 1928, 'wheellock': 6958, '1stchoice': 326, '08707808226': 86, 'sleepwell': 5777, '2yrs': 411, 'messenger': 4168, 'rv': 5459, 'rvx': 5460, '08718738002': 143, '48922': 497, 'hire': 3214, 'hitman': 3218, 'grumpy': 3041, 'lying': 3996, 'stu': 6073, 'truble': 6546, 'evone': 2502, 'hates': 3134, 'bck': 1182, 'spirit': 5935, 'lakhs': 3736, 'salt': 5486, 'wounds': 7082, 'witin': 7015, 'anythiing': 943, 'prashanthettan': 4990, 'passed': 4733, 'certainly': 1611, 'puts': 5124, 'perspective': 4799, 'continent': 1870, 'axel': 1108, 'akon': 864, 'eyed': 2554, 'answered': 929, 'crashed': 1939, 'cuddled': 1985, '88877': 682, 'posh': 4943, 'chaps': 1629, 'trial': 6536, 'prods': 5054, 'champneys': 1621, 'dob': 2237, '09061702893': 187, 'entrepreneurs': 2447, 'rip': 5393, 'uterus': 6713, '49': 498, 'bundle': 1464, 'deals': 2065, 'avble': 1089, 'mf': 4171, 'clover': 1748, 'everyones': 2494, 'babysitting': 1125, 'gyno': 3074, 'belong': 1227, 'obedient': 4546, 'ringtoneking': 5390, '84484': 654, 'cartons': 1570, 'shelves': 5651, 'k718': 3628, '09065069120': 208, 'raviyog': 5190, 'peripherals': 4786, 'bhayandar': 1253, 'east': 2365, 'dhanush': 2155, 'rocks': 5406, 'referin': 5262, 'mei': 4138, 'monster': 4278, 'sparkling': 5906, 'breaks': 1401, '45': 486, '0121': 3, '2025050': 342, 'shortbreaks': 5685, 'org': 4635, 'boye': 1378, 'faded': 2565, 'glory': 2941, 'ralphs': 5176, 'newquay': 4446, '1im': 319, 'talkin': 6237, 'faglord': 2568, 'evo': 2501, 'alto18': 889, 'wave': 6888, 'asp': 1039, '44345': 481, '09058094507': 170, 'kalainar': 3633, 'thenampet': 6354, 'awkward': 1104, 'thgt': 6364, 'clash': 1723, 'esaplanade': 2470, 'disappointment': 2206, 'sh': 5625, 'fredericksburg': 2779, 'heavily': 3167, 'creep': 1953, 'ilol': 3372, 'personally': 4797, 'wuldnt': 7108, 'jas': 3545, 'shattered': 5644, '08715203694': 121, 'tai': 6224, 'feng': 2630, 'reservations': 5334, 'convinced': 1882, 'conversations': 1876, 'senses': 5596, 'overemphasise': 4668, 'dirt': 2200, 'windows': 6991, 'mouth': 4301, 'chores': 1704, 'exist': 2525, 'hail': 3084, 'mist': 4221, 'janx': 3542, 'dads': 2020, 'tank': 6245, 'lnly': 3891, 'designation': 2134, 'developer': 2150, 'monkeys': 4274, 'annoyin': 923, 'yummmm': 7183, 'xxxmobilemovieclub': 7128, 'qjkgighjjgcbl': 5134, 'devouring': 2153, 'jade': 3533, 'paul': 4749, 'barmed': 1154, 'becz': 1202, 'undrstndng': 6638, 'avoids': 1096, 'chain': 1616, 'suffer': 6123, 'murali': 4344, 'jp': 3602, 'mofo': 4259, '645': 567, 'ambitious': 894, 'plenty': 4885, 'famous': 2583, 'unconditionally': 6629, 'temper': 6298, 'indyarocks': 3419, 'phonebook': 4820, 'harder': 3123, 'nbme': 4401, 'half8th': 3090, 'dreading': 2303, 'thou': 6383, 'internal': 3463, 'extract': 2552, 'goods': 2982, 'gauge': 2873, 'voted': 6806, 'cedar': 1599, 'immed': 3381, '09061743811': 191, 'sooo': 5871, 'caveboy': 1591, 'lacking': 3728, 'particular': 4725, 'dramastorm': 2298, 'brownie': 1432, 'pleasured': 4884, 'banneduk': 1147, 'bcums': 1188, 'affection': 818, 'kettoda': 3659, 'manda': 4058, 'bognor': 1327, 'splendid': 5943, 'covers': 1926, 'trends': 6535, 'pros': 5084, 'cons': 1853, 'brief': 1409, 'description': 2131, 'nuclear': 4524, 'fusion': 2841, 'iter': 3514, 'jet': 3569, 'dehydrated': 2098, 'officer': 4565, 'vill': 6775, 'parco': 4715, 'nb': 4400, 'orc': 4628, 'eviction': 2497, 'spiral': 5934, 'michael': 4173, 'riddance': 5380, 'northampton': 4502, 'skyving': 5768, 'arr': 1011, 'oscar': 4644, 'assumed': 1047, 'ceri': 1610, 'rebel': 5229, 'dreamz': 2306, 'buddy': 1450, 'blokes': 1305, 'thirtyeight': 6374}\n"
     ]
    }
   ],
   "source": [
    "print(vec.vocabulary_)"
   ]
  },
  {
   "cell_type": "code",
   "execution_count": 144,
   "metadata": {},
   "outputs": [
    {
     "data": {
      "text/plain": [
       "['00',\n",
       " '000',\n",
       " '008704050406',\n",
       " '0121',\n",
       " '01223585236',\n",
       " '01223585334',\n",
       " '0125698789',\n",
       " '02',\n",
       " '0207',\n",
       " '02072069400',\n",
       " '02073162414',\n",
       " '02085076972',\n",
       " '021',\n",
       " '03',\n",
       " '04',\n",
       " '0430',\n",
       " '05',\n",
       " '050703',\n",
       " '0578',\n",
       " '06',\n",
       " '07',\n",
       " '07008009200',\n",
       " '07090201529',\n",
       " '07090298926',\n",
       " '07123456789',\n",
       " '07732584351',\n",
       " '07734396839',\n",
       " '07742676969',\n",
       " '0776xxxxxxx',\n",
       " '07781482378',\n",
       " '07786200117',\n",
       " '078',\n",
       " '07801543489',\n",
       " '07808',\n",
       " '07808247860',\n",
       " '07808726822',\n",
       " '07815296484',\n",
       " '07821230901',\n",
       " '07880867867',\n",
       " '0789xxxxxxx',\n",
       " '07946746291',\n",
       " '0796xxxxxx',\n",
       " '07973788240',\n",
       " '07xxxxxxxxx',\n",
       " '08',\n",
       " '0800',\n",
       " '08000407165',\n",
       " '08000776320',\n",
       " '08000839402',\n",
       " '08000930705',\n",
       " '08000938767',\n",
       " '08001950382',\n",
       " '08002888812',\n",
       " '08002986030',\n",
       " '08002986906',\n",
       " '08002988890',\n",
       " '08006344447',\n",
       " '0808',\n",
       " '08081263000',\n",
       " '08081560665',\n",
       " '0825',\n",
       " '083',\n",
       " '0844',\n",
       " '08448714184',\n",
       " '0845',\n",
       " '08450542832',\n",
       " '08452810071',\n",
       " '08452810073',\n",
       " '08452810075over18',\n",
       " '0870',\n",
       " '08700435505150p',\n",
       " '08700469649',\n",
       " '08700621170150p',\n",
       " '08701213186',\n",
       " '08701417012',\n",
       " '08701417012150p',\n",
       " '0870141701216',\n",
       " '087016248',\n",
       " '08701752560',\n",
       " '0870241182716',\n",
       " '08702840625',\n",
       " '08704050406',\n",
       " '08704439680',\n",
       " '08706091795',\n",
       " '0870737910216yrs',\n",
       " '08707509020',\n",
       " '08707808226',\n",
       " '08708034412',\n",
       " '08709222922',\n",
       " '08709501522',\n",
       " '0871',\n",
       " '087104711148',\n",
       " '08712101358',\n",
       " '08712103738',\n",
       " '0871212025016',\n",
       " '08712300220',\n",
       " '087123002209am',\n",
       " '08712317606',\n",
       " '08712400602450p',\n",
       " '08712400603',\n",
       " '08712402050',\n",
       " '08712402578',\n",
       " '08712402779',\n",
       " '08712402902',\n",
       " '08712402972',\n",
       " '08712404000',\n",
       " '08712405020',\n",
       " '08712405022',\n",
       " '08712460324',\n",
       " '0871277810710p',\n",
       " '0871277810810',\n",
       " '0871277810910p',\n",
       " '08714342399',\n",
       " '08714712379',\n",
       " '08714712388',\n",
       " '08714712394',\n",
       " '08714712412',\n",
       " '08715203028',\n",
       " '08715203649',\n",
       " '08715203652',\n",
       " '08715203685',\n",
       " '08715203694',\n",
       " '08715500022',\n",
       " '08715705022',\n",
       " '08717168528',\n",
       " '08717205546',\n",
       " '0871750',\n",
       " '08717898035',\n",
       " '08718711108',\n",
       " '08718720201',\n",
       " '08718723815',\n",
       " '08718725756',\n",
       " '08718726270',\n",
       " '087187262701',\n",
       " '08718726970',\n",
       " '08718726971',\n",
       " '08718726978',\n",
       " '08718727868',\n",
       " '08718727870',\n",
       " '08718727870150ppm',\n",
       " '08718730555',\n",
       " '08718730666',\n",
       " '08718738001',\n",
       " '08718738002',\n",
       " '08719180248',\n",
       " '08719181503',\n",
       " '08719181513',\n",
       " '08719899217',\n",
       " '08719899229',\n",
       " '08719899230',\n",
       " '09',\n",
       " '09050000301',\n",
       " '09050000332',\n",
       " '09050000460',\n",
       " '09050000555',\n",
       " '09050000878',\n",
       " '09050000928',\n",
       " '09050001295',\n",
       " '09050001808',\n",
       " '09050002311',\n",
       " '09050003091',\n",
       " '09050090044',\n",
       " '09050280520',\n",
       " '09053750005',\n",
       " '09056242159',\n",
       " '09057039994',\n",
       " '09058091854',\n",
       " '09058091870',\n",
       " '09058094454',\n",
       " '09058094455',\n",
       " '09058094507',\n",
       " '09058094565',\n",
       " '09058094583',\n",
       " '09058094594',\n",
       " '09058094597',\n",
       " '09058094599',\n",
       " '09058098002',\n",
       " '09058099801',\n",
       " '09061104276',\n",
       " '09061104283',\n",
       " '09061209465',\n",
       " '09061213237',\n",
       " '09061221061',\n",
       " '09061221066',\n",
       " '09061701444',\n",
       " '09061701461',\n",
       " '09061701939',\n",
       " '09061702893',\n",
       " '09061743386',\n",
       " '09061743806',\n",
       " '09061743810',\n",
       " '09061743811',\n",
       " '09061744553',\n",
       " '09061749602',\n",
       " '09061790121',\n",
       " '09061790125',\n",
       " '09061790126',\n",
       " '09063440451',\n",
       " '09063458130',\n",
       " '0906346330',\n",
       " '09064011000',\n",
       " '09064012103',\n",
       " '09064012160',\n",
       " '09064015307',\n",
       " '09064017295',\n",
       " '09064018838',\n",
       " '09064019014',\n",
       " '09064019788',\n",
       " '09065069120',\n",
       " '09065069154',\n",
       " '09065171142',\n",
       " '09065174042',\n",
       " '09065394514',\n",
       " '09065989180',\n",
       " '09065989182',\n",
       " '09066350750',\n",
       " '09066358152',\n",
       " '09066358361',\n",
       " '09066361921',\n",
       " '09066362231',\n",
       " '09066364311',\n",
       " '09066364349',\n",
       " '09066364589',\n",
       " '09066368470',\n",
       " '09066380611',\n",
       " '09066382422',\n",
       " '09066612661',\n",
       " '09066649731from',\n",
       " '09066660100',\n",
       " '09071512433',\n",
       " '09077818151',\n",
       " '09090204448',\n",
       " '09094100151',\n",
       " '09094646631',\n",
       " '09095350301',\n",
       " '09096102316',\n",
       " '09099725823',\n",
       " '09099726395',\n",
       " '09099726429',\n",
       " '09099726481',\n",
       " '09099726553',\n",
       " '09111032124',\n",
       " '09701213186',\n",
       " '0a',\n",
       " '10',\n",
       " '100',\n",
       " '1000',\n",
       " '1000s',\n",
       " '100p',\n",
       " '100percent',\n",
       " '1013',\n",
       " '1030',\n",
       " '10am',\n",
       " '10k',\n",
       " '10p',\n",
       " '10ppm',\n",
       " '10th',\n",
       " '11',\n",
       " '1120',\n",
       " '113',\n",
       " '1131',\n",
       " '114',\n",
       " '116',\n",
       " '118p',\n",
       " '11mths',\n",
       " '11pm',\n",
       " '12',\n",
       " '1205',\n",
       " '120p',\n",
       " '121',\n",
       " '1225',\n",
       " '123',\n",
       " '125',\n",
       " '1250',\n",
       " '125gift',\n",
       " '128',\n",
       " '12hrs',\n",
       " '12mths',\n",
       " '13',\n",
       " '130',\n",
       " '1327',\n",
       " '139',\n",
       " '14',\n",
       " '140',\n",
       " '1405',\n",
       " '140ppm',\n",
       " '145',\n",
       " '1450',\n",
       " '146tf150p',\n",
       " '14thmarch',\n",
       " '15',\n",
       " '150',\n",
       " '1500',\n",
       " '150p',\n",
       " '150p16',\n",
       " '150pm',\n",
       " '150ppermesssubscription',\n",
       " '150ppm',\n",
       " '150pw',\n",
       " '151',\n",
       " '153',\n",
       " '15pm',\n",
       " '16',\n",
       " '165',\n",
       " '1680',\n",
       " '169',\n",
       " '177',\n",
       " '18',\n",
       " '180',\n",
       " '1843',\n",
       " '18p',\n",
       " '18yrs',\n",
       " '195',\n",
       " '1956669',\n",
       " '1apple',\n",
       " '1b6a5ecef91ff9',\n",
       " '1cup',\n",
       " '1er',\n",
       " '1hr',\n",
       " '1im',\n",
       " '1lemon',\n",
       " '1mega',\n",
       " '1million',\n",
       " '1pm',\n",
       " '1st',\n",
       " '1st4terms',\n",
       " '1stchoice',\n",
       " '1thing',\n",
       " '1tulsi',\n",
       " '1win150ppmx3',\n",
       " '1winaweek',\n",
       " '1winawk',\n",
       " '1x150p',\n",
       " '1yf',\n",
       " '20',\n",
       " '200',\n",
       " '2000',\n",
       " '2003',\n",
       " '2004',\n",
       " '2005',\n",
       " '2006',\n",
       " '2007',\n",
       " '2025050',\n",
       " '20m12aq',\n",
       " '20p',\n",
       " '21',\n",
       " '21870000',\n",
       " '21st',\n",
       " '22',\n",
       " '220',\n",
       " '220cm2',\n",
       " '2309',\n",
       " '23f',\n",
       " '23g',\n",
       " '24',\n",
       " '24hrs',\n",
       " '24m',\n",
       " '24th',\n",
       " '25',\n",
       " '250',\n",
       " '250k',\n",
       " '255',\n",
       " '25p',\n",
       " '26',\n",
       " '2667',\n",
       " '26th',\n",
       " '27',\n",
       " '28',\n",
       " '2814032',\n",
       " '28days',\n",
       " '28th',\n",
       " '28thfeb',\n",
       " '29',\n",
       " '2b',\n",
       " '2c',\n",
       " '2channel',\n",
       " '2day',\n",
       " '2docd',\n",
       " '2end',\n",
       " '2ez',\n",
       " '2find',\n",
       " '2getha',\n",
       " '2geva',\n",
       " '2go',\n",
       " '2gthr',\n",
       " '2hrs',\n",
       " '2kbsubject',\n",
       " '2lands',\n",
       " '2marrow',\n",
       " '2moro',\n",
       " '2morow',\n",
       " '2morro',\n",
       " '2morrow',\n",
       " '2morrowxxxx',\n",
       " '2mro',\n",
       " '2mrw',\n",
       " '2mwen',\n",
       " '2nd',\n",
       " '2nite',\n",
       " '2optout',\n",
       " '2px',\n",
       " '2rcv',\n",
       " '2stop',\n",
       " '2stoptxt',\n",
       " '2u',\n",
       " '2watershd',\n",
       " '2waxsto',\n",
       " '2wks',\n",
       " '2wt',\n",
       " '2wu',\n",
       " '2yr',\n",
       " '2yrs',\n",
       " '30',\n",
       " '300',\n",
       " '3000',\n",
       " '300603',\n",
       " '300p',\n",
       " '3030',\n",
       " '30apr',\n",
       " '30ish',\n",
       " '30pm',\n",
       " '30pp',\n",
       " '30s',\n",
       " '31',\n",
       " '3100',\n",
       " '310303',\n",
       " '31p',\n",
       " '32',\n",
       " '32000',\n",
       " '326',\n",
       " '33',\n",
       " '330',\n",
       " '350',\n",
       " '3510i',\n",
       " '3650',\n",
       " '36504',\n",
       " '3680',\n",
       " '3750',\n",
       " '37819',\n",
       " '38',\n",
       " '382',\n",
       " '391784',\n",
       " '3aj',\n",
       " '3d',\n",
       " '3days',\n",
       " '3g',\n",
       " '3gbp',\n",
       " '3hrs',\n",
       " '3lions',\n",
       " '3lp',\n",
       " '3miles',\n",
       " '3mins',\n",
       " '3mobile',\n",
       " '3optical',\n",
       " '3pound',\n",
       " '3qxj9',\n",
       " '3rd',\n",
       " '3ss',\n",
       " '3uz',\n",
       " '3wks',\n",
       " '3x',\n",
       " '3xx',\n",
       " '40',\n",
       " '400',\n",
       " '400mins',\n",
       " '400thousad',\n",
       " '402',\n",
       " '40411',\n",
       " '40533',\n",
       " '40gb',\n",
       " '40mph',\n",
       " '41685',\n",
       " '41782',\n",
       " '420',\n",
       " '4217',\n",
       " '42810',\n",
       " '430',\n",
       " '434',\n",
       " '44',\n",
       " '440',\n",
       " '4403ldnw1a7rw18',\n",
       " '44345',\n",
       " '447797706009',\n",
       " '447801259231',\n",
       " '448712404000',\n",
       " '449050000301',\n",
       " '45',\n",
       " '450p',\n",
       " '450ppw',\n",
       " '45239',\n",
       " '45pm',\n",
       " '47',\n",
       " '4719',\n",
       " '4742',\n",
       " '47per',\n",
       " '48',\n",
       " '4882',\n",
       " '48922',\n",
       " '49',\n",
       " '49557',\n",
       " '4a',\n",
       " '4d',\n",
       " '4eva',\n",
       " '4few',\n",
       " '4fil',\n",
       " '4get',\n",
       " '4got',\n",
       " '4info',\n",
       " '4msgs',\n",
       " '4mths',\n",
       " '4qf2',\n",
       " '4t',\n",
       " '4th',\n",
       " '4txt',\n",
       " '4u',\n",
       " '4utxt',\n",
       " '4w',\n",
       " '4wrd',\n",
       " '4xx26',\n",
       " '4years',\n",
       " '50',\n",
       " '500',\n",
       " '5000',\n",
       " '50award',\n",
       " '50ea',\n",
       " '50gbp',\n",
       " '50p',\n",
       " '50perweeksub',\n",
       " '50perwksub',\n",
       " '50pm',\n",
       " '50ppm',\n",
       " '50rcvd',\n",
       " '50s',\n",
       " '515',\n",
       " '5226',\n",
       " '523',\n",
       " '5249',\n",
       " '526',\n",
       " '528',\n",
       " '530',\n",
       " '54',\n",
       " '542',\n",
       " '5digital',\n",
       " '5free',\n",
       " '5ish',\n",
       " '5k',\n",
       " '5min',\n",
       " '5mls',\n",
       " '5p',\n",
       " '5pm',\n",
       " '5th',\n",
       " '5wb',\n",
       " '5we',\n",
       " '5wkg',\n",
       " '5wq',\n",
       " '5years',\n",
       " '60',\n",
       " '600',\n",
       " '6031',\n",
       " '6089',\n",
       " '60p',\n",
       " '61',\n",
       " '61200',\n",
       " '61610',\n",
       " '62468',\n",
       " '630',\n",
       " '63miles',\n",
       " '645',\n",
       " '65',\n",
       " '66',\n",
       " '6669',\n",
       " '674',\n",
       " '67441233',\n",
       " '68866',\n",
       " '69101',\n",
       " '69669',\n",
       " '69696',\n",
       " '69698',\n",
       " '69855',\n",
       " '69866',\n",
       " '69888',\n",
       " '69888nyt',\n",
       " '69911',\n",
       " '69969',\n",
       " '69988',\n",
       " '6hrs',\n",
       " '6ish',\n",
       " '6missed',\n",
       " '6months',\n",
       " '6ph',\n",
       " '6pm',\n",
       " '6th',\n",
       " '6wu',\n",
       " '6zf',\n",
       " '700',\n",
       " '7250',\n",
       " '7250i',\n",
       " '730',\n",
       " '731',\n",
       " '75',\n",
       " '750',\n",
       " '75max',\n",
       " '762',\n",
       " '7634',\n",
       " '7684',\n",
       " '77',\n",
       " '7732584351',\n",
       " '78',\n",
       " '786',\n",
       " '7876150ppm',\n",
       " '7am',\n",
       " '7cfca1a',\n",
       " '7ish',\n",
       " '7oz',\n",
       " '7pm',\n",
       " '7th',\n",
       " '7ws',\n",
       " '800',\n",
       " '8000930705',\n",
       " '80062',\n",
       " '8007',\n",
       " '80082',\n",
       " '80086',\n",
       " '80122300p',\n",
       " '80155',\n",
       " '80182',\n",
       " '8027',\n",
       " '80488',\n",
       " '80608',\n",
       " '8077',\n",
       " '80878',\n",
       " '81010',\n",
       " '81151',\n",
       " '81303',\n",
       " '81618',\n",
       " '820554ad0a1705572711',\n",
       " '82242',\n",
       " '82277',\n",
       " '82324',\n",
       " '82468',\n",
       " '83049',\n",
       " '83110',\n",
       " '83118',\n",
       " '83222',\n",
       " '83332',\n",
       " '83338',\n",
       " '83355',\n",
       " '83600',\n",
       " '83738',\n",
       " '84',\n",
       " '84025',\n",
       " '84122',\n",
       " '84128',\n",
       " '84199',\n",
       " '84484',\n",
       " '85',\n",
       " '85023',\n",
       " '85069',\n",
       " '85222',\n",
       " '85233',\n",
       " '8552',\n",
       " '86021',\n",
       " '861',\n",
       " '864233',\n",
       " '86688',\n",
       " '86888',\n",
       " '87021',\n",
       " '87066',\n",
       " '87070',\n",
       " '87077',\n",
       " '87121',\n",
       " '87131',\n",
       " '872',\n",
       " '87239',\n",
       " '87575',\n",
       " '88039',\n",
       " '88066',\n",
       " '88088',\n",
       " '88222',\n",
       " '88600',\n",
       " '88800',\n",
       " '8883',\n",
       " '88877',\n",
       " '88888',\n",
       " '89034',\n",
       " '89070',\n",
       " '89080',\n",
       " '89105',\n",
       " '89545',\n",
       " '89555',\n",
       " '89693',\n",
       " '89938',\n",
       " '8am',\n",
       " '8ball',\n",
       " '8lb',\n",
       " '8p',\n",
       " '8pm',\n",
       " '8th',\n",
       " '8wp',\n",
       " '900',\n",
       " '9061100010',\n",
       " '910',\n",
       " '9153',\n",
       " '92h',\n",
       " '930',\n",
       " '9307622',\n",
       " '945',\n",
       " '95',\n",
       " '9755',\n",
       " '9758',\n",
       " '99',\n",
       " '9996',\n",
       " '9ae',\n",
       " '9am',\n",
       " '9pm',\n",
       " '9t',\n",
       " '9th',\n",
       " '9yt',\n",
       " '____',\n",
       " 'a21',\n",
       " 'a30',\n",
       " 'aah',\n",
       " 'aaniye',\n",
       " 'aaooooright',\n",
       " 'aathi',\n",
       " 'abbey',\n",
       " 'abdomen',\n",
       " 'abeg',\n",
       " 'abel',\n",
       " 'aberdeen',\n",
       " 'abi',\n",
       " 'ability',\n",
       " 'abiola',\n",
       " 'abj',\n",
       " 'able',\n",
       " 'abnormally',\n",
       " 'aboutas',\n",
       " 'abroad',\n",
       " 'absence',\n",
       " 'absolutely',\n",
       " 'absolutly',\n",
       " 'abstract',\n",
       " 'abt',\n",
       " 'abta',\n",
       " 'ac',\n",
       " 'academic',\n",
       " 'acc',\n",
       " 'accent',\n",
       " 'accenture',\n",
       " 'accept',\n",
       " 'access',\n",
       " 'accessible',\n",
       " 'accidant',\n",
       " 'accident',\n",
       " 'accidentally',\n",
       " 'accommodation',\n",
       " 'accomodate',\n",
       " 'accomodations',\n",
       " 'accordin',\n",
       " 'accordingly',\n",
       " 'account',\n",
       " 'accounting',\n",
       " 'accounts',\n",
       " 'achan',\n",
       " 'ache',\n",
       " 'achieve',\n",
       " 'acid',\n",
       " 'acl03530150pm',\n",
       " 'acnt',\n",
       " 'aco',\n",
       " 'act',\n",
       " 'acted',\n",
       " 'actin',\n",
       " 'acting',\n",
       " 'action',\n",
       " 'activ8',\n",
       " 'activate',\n",
       " 'active',\n",
       " 'activities',\n",
       " 'actor',\n",
       " 'actual',\n",
       " 'actually',\n",
       " 'ad',\n",
       " 'adam',\n",
       " 'add',\n",
       " 'addamsfa',\n",
       " 'added',\n",
       " 'addicted',\n",
       " 'addie',\n",
       " 'adding',\n",
       " 'address',\n",
       " 'adewale',\n",
       " 'adjustable',\n",
       " 'admin',\n",
       " 'administrator',\n",
       " 'admirer',\n",
       " 'admission',\n",
       " 'admit',\n",
       " 'adore',\n",
       " 'adoring',\n",
       " 'adp',\n",
       " 'adress',\n",
       " 'adrian',\n",
       " 'adrink',\n",
       " 'ads',\n",
       " 'adsense',\n",
       " 'adult',\n",
       " 'adults',\n",
       " 'advance',\n",
       " 'adventure',\n",
       " 'advice',\n",
       " 'advise',\n",
       " 'advising',\n",
       " 'advisors',\n",
       " 'aeronautics',\n",
       " 'aeroplane',\n",
       " 'affair',\n",
       " 'affairs',\n",
       " 'affection',\n",
       " 'affections',\n",
       " 'affidavit',\n",
       " 'afford',\n",
       " 'afghanistan',\n",
       " 'afraid',\n",
       " 'africa',\n",
       " 'african',\n",
       " 'aft',\n",
       " 'afternon',\n",
       " 'afternoon',\n",
       " 'aftr',\n",
       " 'ag',\n",
       " 'age',\n",
       " 'age16',\n",
       " 'age23',\n",
       " 'agency',\n",
       " 'agent',\n",
       " 'agents',\n",
       " 'ages',\n",
       " 'agidhane',\n",
       " 'aging',\n",
       " 'ago',\n",
       " 'agree',\n",
       " 'ah',\n",
       " 'aha',\n",
       " 'ahead',\n",
       " 'ahhh',\n",
       " 'ahhhh',\n",
       " 'ahmad',\n",
       " 'aids',\n",
       " 'aig',\n",
       " 'aight',\n",
       " 'ain',\n",
       " 'aint',\n",
       " 'air',\n",
       " 'air1',\n",
       " 'airport',\n",
       " 'airtel',\n",
       " 'aiya',\n",
       " 'aiyah',\n",
       " 'aiyar',\n",
       " 'aiyo',\n",
       " 'ajith',\n",
       " 'ak',\n",
       " 'aka',\n",
       " 'akon',\n",
       " 'al',\n",
       " 'alaipayuthe',\n",
       " 'album',\n",
       " 'alcohol',\n",
       " 'aldrine',\n",
       " 'alert',\n",
       " 'alertfrom',\n",
       " 'alerts',\n",
       " 'alex',\n",
       " 'alfie',\n",
       " 'algarve',\n",
       " 'algebra',\n",
       " 'ali',\n",
       " 'alian',\n",
       " 'alibi',\n",
       " 'alive',\n",
       " 'allah',\n",
       " 'allday',\n",
       " 'allow',\n",
       " 'allowed',\n",
       " 'allows',\n",
       " 'alot',\n",
       " 'alright',\n",
       " 'alrite',\n",
       " 'alto18',\n",
       " 'alwa',\n",
       " 'alwys',\n",
       " 'amanda',\n",
       " 'amazing',\n",
       " 'ambitious',\n",
       " 'american',\n",
       " 'ami',\n",
       " 'amk',\n",
       " 'amla',\n",
       " 'amma',\n",
       " 'ammae',\n",
       " 'ammo',\n",
       " 'amore',\n",
       " 'amp',\n",
       " 'amplikater',\n",
       " 'amrita',\n",
       " 'ams',\n",
       " 'amt',\n",
       " 'amused',\n",
       " 'analysis',\n",
       " 'anand',\n",
       " 'anderson',\n",
       " 'andre',\n",
       " 'andres',\n",
       " 'andrews',\n",
       " 'angry',\n",
       " 'animal',\n",
       " 'animation',\n",
       " 'anna',\n",
       " 'annie',\n",
       " 'anniversary',\n",
       " 'announced',\n",
       " 'announcement',\n",
       " 'annoyin',\n",
       " 'annoying',\n",
       " 'anot',\n",
       " 'ans',\n",
       " 'ansr',\n",
       " 'answer',\n",
       " 'answered',\n",
       " 'answerin',\n",
       " 'answering',\n",
       " 'answers',\n",
       " 'answr',\n",
       " 'antelope',\n",
       " 'antha',\n",
       " 'anthony',\n",
       " 'anti',\n",
       " 'antibiotic',\n",
       " 'anybody',\n",
       " 'anymore',\n",
       " 'anyones',\n",
       " 'anyplaces',\n",
       " 'anythiing',\n",
       " 'anythin',\n",
       " 'anythingtomorrow',\n",
       " 'anytime',\n",
       " 'anyways',\n",
       " 'aom',\n",
       " 'apart',\n",
       " 'apartment',\n",
       " 'apes',\n",
       " 'apeshit',\n",
       " 'aphex',\n",
       " 'apnt',\n",
       " 'apo',\n",
       " 'apologetic',\n",
       " 'apologise',\n",
       " 'apologize',\n",
       " 'apology',\n",
       " 'app',\n",
       " 'apparently',\n",
       " 'appeal',\n",
       " 'appear',\n",
       " 'appendix',\n",
       " 'applausestore',\n",
       " 'applebees',\n",
       " 'apples',\n",
       " 'application',\n",
       " 'apply',\n",
       " 'applying',\n",
       " 'appointment',\n",
       " 'appointments',\n",
       " 'appreciate',\n",
       " 'appropriate',\n",
       " 'approve',\n",
       " 'approved',\n",
       " 'approx',\n",
       " 'apps',\n",
       " 'appt',\n",
       " 'appy',\n",
       " 'april',\n",
       " 'aproach',\n",
       " 'aptitude',\n",
       " 'aquarius',\n",
       " 'ar',\n",
       " 'arab',\n",
       " 'arabian',\n",
       " 'arcade',\n",
       " 'archive',\n",
       " 'ard',\n",
       " 'area',\n",
       " 'aren',\n",
       " 'arent',\n",
       " 'arestaurant',\n",
       " 'aretaking',\n",
       " 'argentina',\n",
       " 'argh',\n",
       " 'argue',\n",
       " 'arguing',\n",
       " ...]"
      ]
     },
     "execution_count": 144,
     "metadata": {},
     "output_type": "execute_result"
    }
   ],
   "source": [
    "vec.get_feature_names()"
   ]
  },
  {
   "cell_type": "code",
   "execution_count": 145,
   "metadata": {},
   "outputs": [
    {
     "data": {
      "text/plain": [
       "7204"
      ]
     },
     "execution_count": 145,
     "metadata": {},
     "output_type": "execute_result"
    }
   ],
   "source": [
    "len(vec.vocabulary_.keys())"
   ]
  },
  {
   "cell_type": "code",
   "execution_count": 175,
   "metadata": {
    "scrolled": true
   },
   "outputs": [
    {
     "name": "stdout",
     "output_type": "stream",
     "text": [
      "  (0, 5023)\t1\n",
      "  (0, 7158)\t1\n",
      "  (1, 2959)\t1\n",
      "  (1, 4042)\t1\n",
      "  (1, 4243)\t1\n",
      "  (1, 5034)\t1\n",
      "  (1, 7160)\t1\n",
      "  (2, 961)\t1\n",
      "  (2, 6936)\t1\n",
      "  (3, 3142)\t1\n",
      "  (4, 1032)\t1\n",
      "  (4, 1547)\t1\n",
      "  (4, 2015)\t1\n",
      "  (4, 2750)\t1\n",
      "  (4, 3803)\t1\n",
      "  (4, 5012)\t1\n",
      "  (4, 5721)\t1\n",
      "  (4, 5821)\t2\n",
      "  (4, 6857)\t1\n",
      "  (4, 7089)\t1\n",
      "  (5, 1794)\t1\n",
      "  (5, 2988)\t1\n",
      "  (5, 4578)\t1\n",
      "  (5, 6376)\t1\n",
      "  (5, 6852)\t1\n",
      "  :\t:\n",
      "  (1390, 4526)\t1\n",
      "  (1390, 5591)\t1\n",
      "  (1390, 5598)\t2\n",
      "  (1390, 6321)\t1\n",
      "  (1390, 6346)\t1\n",
      "  (1391, 2515)\t1\n",
      "  (1391, 3489)\t1\n",
      "  (1391, 4246)\t1\n",
      "  (1391, 4310)\t1\n",
      "  (1391, 5868)\t1\n",
      "  (1391, 6614)\t1\n",
      "  (1391, 6684)\t1\n",
      "  (1391, 6789)\t1\n",
      "  (1391, 6987)\t2\n",
      "  (1391, 6996)\t1\n",
      "  (1391, 7041)\t1\n",
      "  (1391, 7110)\t1\n",
      "  (1392, 842)\t1\n",
      "  (1392, 2343)\t1\n",
      "  (1392, 2789)\t1\n",
      "  (1392, 3067)\t1\n",
      "  (1392, 4130)\t2\n",
      "  (1392, 4354)\t1\n",
      "  (1392, 5396)\t1\n",
      "  (1392, 6852)\t1\n"
     ]
    }
   ],
   "source": [
    "# transforming \n",
    "X_train_transformed = vec.transform(X_train)\n",
    "X_test_transformed = vec.transform(X_test)\n",
    "print(X_test_transformed)"
   ]
  },
  {
   "cell_type": "code",
   "execution_count": 154,
   "metadata": {},
   "outputs": [],
   "source": [
    "# Building model \n",
    "from sklearn.naive_bayes import MultinomialNB\n",
    "\n",
    "mnb = MultinomialNB()\n",
    "mnb.fit(X_train_transformed  ,y_train)\n",
    "\n",
    "y_test_pred_prob =mnb.predict_proba(X_test_transformed)\n",
    "y_test_pred_class =mnb.predict(X_test_transformed)"
   ]
  },
  {
   "cell_type": "code",
   "execution_count": 155,
   "metadata": {},
   "outputs": [
    {
     "data": {
      "text/plain": [
       "MultinomialNB(alpha=1.0, class_prior=None, fit_prior=True)"
      ]
     },
     "execution_count": 155,
     "metadata": {},
     "output_type": "execute_result"
    }
   ],
   "source": [
    "mnb"
   ]
  },
  {
   "cell_type": "markdown",
   "metadata": {},
   "source": [
    "# Model  EValuation"
   ]
  },
  {
   "cell_type": "code",
   "execution_count": 156,
   "metadata": {},
   "outputs": [
    {
     "data": {
      "text/plain": [
       "0.9877961234745154"
      ]
     },
     "execution_count": 156,
     "metadata": {},
     "output_type": "execute_result"
    }
   ],
   "source": [
    "from sklearn import metrics\n",
    "metrics.accuracy_score(y_test , y_test_pred_class)"
   ]
  },
  {
   "cell_type": "code",
   "execution_count": 159,
   "metadata": {},
   "outputs": [],
   "source": [
    "confusion = metrics.confusion_matrix(y_test, y_test_pred_class)"
   ]
  },
  {
   "cell_type": "code",
   "execution_count": 158,
   "metadata": {
    "scrolled": true
   },
   "outputs": [
    {
     "name": "stdout",
     "output_type": "stream",
     "text": [
      "Help on function confusion_matrix in module sklearn.metrics.classification:\n",
      "\n",
      "confusion_matrix(y_true, y_pred, labels=None, sample_weight=None)\n",
      "    Compute confusion matrix to evaluate the accuracy of a classification\n",
      "    \n",
      "    By definition a confusion matrix :math:`C` is such that :math:`C_{i, j}`\n",
      "    is equal to the number of observations known to be in group :math:`i` but\n",
      "    predicted to be in group :math:`j`.\n",
      "    \n",
      "    Thus in binary classification, the count of true negatives is\n",
      "    :math:`C_{0,0}`, false negatives is :math:`C_{1,0}`, true positives is\n",
      "    :math:`C_{1,1}` and false positives is :math:`C_{0,1}`.\n",
      "    \n",
      "    Read more in the :ref:`User Guide <confusion_matrix>`.\n",
      "    \n",
      "    Parameters\n",
      "    ----------\n",
      "    y_true : array, shape = [n_samples]\n",
      "        Ground truth (correct) target values.\n",
      "    \n",
      "    y_pred : array, shape = [n_samples]\n",
      "        Estimated targets as returned by a classifier.\n",
      "    \n",
      "    labels : array, shape = [n_classes], optional\n",
      "        List of labels to index the matrix. This may be used to reorder\n",
      "        or select a subset of labels.\n",
      "        If none is given, those that appear at least once\n",
      "        in ``y_true`` or ``y_pred`` are used in sorted order.\n",
      "    \n",
      "    sample_weight : array-like of shape = [n_samples], optional\n",
      "        Sample weights.\n",
      "    \n",
      "    Returns\n",
      "    -------\n",
      "    C : array, shape = [n_classes, n_classes]\n",
      "        Confusion matrix\n",
      "    \n",
      "    References\n",
      "    ----------\n",
      "    .. [1] `Wikipedia entry for the Confusion matrix\n",
      "           <https://en.wikipedia.org/wiki/Confusion_matrix>`_\n",
      "           (Wikipedia and other references may use a different\n",
      "           convention for axes)\n",
      "    \n",
      "    Examples\n",
      "    --------\n",
      "    >>> from sklearn.metrics import confusion_matrix\n",
      "    >>> y_true = [2, 0, 2, 2, 0, 1]\n",
      "    >>> y_pred = [0, 0, 2, 2, 0, 2]\n",
      "    >>> confusion_matrix(y_true, y_pred)\n",
      "    array([[2, 0, 0],\n",
      "           [0, 0, 1],\n",
      "           [1, 0, 2]])\n",
      "    \n",
      "    >>> y_true = [\"cat\", \"ant\", \"cat\", \"cat\", \"ant\", \"bird\"]\n",
      "    >>> y_pred = [\"ant\", \"ant\", \"cat\", \"cat\", \"ant\", \"cat\"]\n",
      "    >>> confusion_matrix(y_true, y_pred, labels=[\"ant\", \"bird\", \"cat\"])\n",
      "    array([[2, 0, 0],\n",
      "           [0, 0, 1],\n",
      "           [1, 0, 2]])\n",
      "    \n",
      "    In the binary case, we can extract true positives, etc as follows:\n",
      "    \n",
      "    >>> tn, fp, fn, tp = confusion_matrix([0, 1, 0, 1], [1, 1, 1, 0]).ravel()\n",
      "    >>> (tn, fp, fn, tp)\n",
      "    (0, 2, 1, 1)\n",
      "\n"
     ]
    }
   ],
   "source": [
    "help(metrics.confusion_matrix)"
   ]
  },
  {
   "cell_type": "code",
   "execution_count": null,
   "metadata": {},
   "outputs": [],
   "source": [
    "# In binary classification , you have go back to business problem and decide which class of target you want to focus more\n",
    "# spam is 1 and ham is zero --> important would be not classifying the ham as spam \n",
    "\n",
    "# Type 1 error --> classifying spam as ham .. that is most of the time fine --> if you select lower cutoff\n",
    "# Type 2 error --> classifying ham as spam --> so this we have to reduced more --> if you select higher cutoff\n",
    "\n",
    "# so we have to choose some cutoff \n",
    "\n"
   ]
  },
  {
   "cell_type": "code",
   "execution_count": 162,
   "metadata": {},
   "outputs": [
    {
     "name": "stdout",
     "output_type": "stream",
     "text": [
      "sesitivity  0.9459459459459459\n",
      "specificity  0.9942052980132451\n",
      "True positive Rate  0.9615384615384616\n",
      "Precession  0.9615384615384616\n",
      "Recall  0.9459459459459459\n"
     ]
    }
   ],
   "source": [
    "#sensitivity and specificity\n",
    "TN = confusion[0,0]\n",
    "FP = confusion[0,1]\n",
    "FN = confusion[1,0]\n",
    "TP = confusion[1,1]\n",
    "\n",
    "senstivity = TP/(TP+FN)\n",
    "specificity = TN/(TN+FP)\n",
    "TPR = TP/(TP+FP)\n",
    "Precesion =  TPR \n",
    "Recall = senstivity\n",
    "\n",
    "print(\"sesitivity \" ,senstivity)\n",
    "print(\"specificity \" ,specificity)\n",
    "print(\"True positive Rate \", TPR)\n",
    "\n",
    "print(\"Precession \", Precesion)\n",
    "print(\"Recall \", Recall)"
   ]
  },
  {
   "cell_type": "markdown",
   "metadata": {},
   "source": [
    "### so when we say type 2 error means that we want to increase the specificity --> as it means correctly predicted ham true negative rate, so we want to increase the specificity here"
   ]
  },
  {
   "cell_type": "code",
   "execution_count": 163,
   "metadata": {},
   "outputs": [
    {
     "name": "stdout",
     "output_type": "stream",
     "text": [
      "Precision score 0.9615384615384616\n",
      "Recall score 0.9459459459459459\n",
      "F1 score 0.9536784741144414\n"
     ]
    }
   ],
   "source": [
    "# cal the score by metrics\n",
    "print('Precision score', metrics.precision_score(y_test, y_test_pred_class))\n",
    "print('Recall score', metrics.recall_score(y_test, y_test_pred_class))\n",
    "print('F1 score', metrics.f1_score(y_test, y_test_pred_class))"
   ]
  },
  {
   "cell_type": "code",
   "execution_count": 166,
   "metadata": {
    "scrolled": false
   },
   "outputs": [
    {
     "data": {
      "text/plain": [
       "1078    0\n",
       "4028    0\n",
       "958     0\n",
       "4642    0\n",
       "4674    0\n",
       "       ..\n",
       "3207    0\n",
       "4655    0\n",
       "1140    0\n",
       "1793    1\n",
       "1710    0\n",
       "Name: labels, Length: 1393, dtype: int64"
      ]
     },
     "execution_count": 166,
     "metadata": {},
     "output_type": "execute_result"
    }
   ],
   "source": [
    "y_test"
   ]
  },
  {
   "cell_type": "code",
   "execution_count": 174,
   "metadata": {},
   "outputs": [
    {
     "name": "stdout",
     "output_type": "stream",
     "text": [
      "[[9.95239557e-01 4.76044325e-03]\n",
      " [9.99852357e-01 1.47642544e-04]\n",
      " [9.27878579e-01 7.21214213e-02]\n",
      " ...\n",
      " [9.99999671e-01 3.28799076e-07]\n",
      " [3.72703622e-09 9.99999996e-01]\n",
      " [9.99999985e-01 1.46852511e-08]]\n"
     ]
    },
    {
     "data": {
      "text/plain": [
       "(1393, 2)"
      ]
     },
     "execution_count": 174,
     "metadata": {},
     "output_type": "execute_result"
    }
   ],
   "source": [
    "print(y_test_pred_prob)\n",
    "y_test_pred_prob.shape\n"
   ]
  },
  {
   "cell_type": "code",
   "execution_count": 168,
   "metadata": {},
   "outputs": [
    {
     "data": {
      "text/plain": [
       "array([4.76044325e-03, 1.47642544e-04, 7.21214213e-02, ...,\n",
       "       3.28799076e-07, 9.99999996e-01, 1.46852511e-08])"
      ]
     },
     "execution_count": 168,
     "metadata": {},
     "output_type": "execute_result"
    }
   ],
   "source": [
    "y_test_pred_prob[:,1]"
   ]
  },
  {
   "cell_type": "code",
   "execution_count": 176,
   "metadata": {},
   "outputs": [
    {
     "name": "stdout",
     "output_type": "stream",
     "text": [
      "roc_auc 0.9921872203329157\n"
     ]
    }
   ],
   "source": [
    "# Creating the ROC Curve \n",
    "from sklearn.metrics import confusion_matrix as sk_confusion_matrix\n",
    "from sklearn.metrics import roc_curve , auc\n",
    "\n",
    "# returns 3 things\n",
    "false_positive_rate , true_positive_rate , threshold =   roc_curve(y_test , y_test_pred_prob[:,1])\n",
    "roc_auc= auc(false_positive_rate,true_positive_rate )\n",
    "print('roc_auc' ,roc_auc)"
   ]
  },
  {
   "cell_type": "code",
   "execution_count": 181,
   "metadata": {},
   "outputs": [
    {
     "data": {
      "text/html": [
       "<div>\n",
       "<style scoped>\n",
       "    .dataframe tbody tr th:only-of-type {\n",
       "        vertical-align: middle;\n",
       "    }\n",
       "\n",
       "    .dataframe tbody tr th {\n",
       "        vertical-align: top;\n",
       "    }\n",
       "\n",
       "    .dataframe thead th {\n",
       "        text-align: right;\n",
       "    }\n",
       "</style>\n",
       "<table border=\"1\" class=\"dataframe\">\n",
       "  <thead>\n",
       "    <tr style=\"text-align: right;\">\n",
       "      <th></th>\n",
       "      <th>FPR</th>\n",
       "      <th>TPR</th>\n",
       "      <th>Threshold</th>\n",
       "    </tr>\n",
       "  </thead>\n",
       "  <tbody>\n",
       "    <tr>\n",
       "      <th>0</th>\n",
       "      <td>0.000000</td>\n",
       "      <td>0.000000</td>\n",
       "      <td>2.000000e+00</td>\n",
       "    </tr>\n",
       "    <tr>\n",
       "      <th>1</th>\n",
       "      <td>0.000000</td>\n",
       "      <td>0.308108</td>\n",
       "      <td>1.000000e+00</td>\n",
       "    </tr>\n",
       "    <tr>\n",
       "      <th>2</th>\n",
       "      <td>0.000000</td>\n",
       "      <td>0.313514</td>\n",
       "      <td>1.000000e+00</td>\n",
       "    </tr>\n",
       "    <tr>\n",
       "      <th>3</th>\n",
       "      <td>0.000000</td>\n",
       "      <td>0.335135</td>\n",
       "      <td>1.000000e+00</td>\n",
       "    </tr>\n",
       "    <tr>\n",
       "      <th>4</th>\n",
       "      <td>0.000000</td>\n",
       "      <td>0.340541</td>\n",
       "      <td>1.000000e+00</td>\n",
       "    </tr>\n",
       "    <tr>\n",
       "      <th>5</th>\n",
       "      <td>0.000000</td>\n",
       "      <td>0.351351</td>\n",
       "      <td>1.000000e+00</td>\n",
       "    </tr>\n",
       "    <tr>\n",
       "      <th>6</th>\n",
       "      <td>0.000000</td>\n",
       "      <td>0.367568</td>\n",
       "      <td>1.000000e+00</td>\n",
       "    </tr>\n",
       "    <tr>\n",
       "      <th>7</th>\n",
       "      <td>0.000000</td>\n",
       "      <td>0.400000</td>\n",
       "      <td>1.000000e+00</td>\n",
       "    </tr>\n",
       "    <tr>\n",
       "      <th>8</th>\n",
       "      <td>0.000000</td>\n",
       "      <td>0.410811</td>\n",
       "      <td>1.000000e+00</td>\n",
       "    </tr>\n",
       "    <tr>\n",
       "      <th>9</th>\n",
       "      <td>0.000000</td>\n",
       "      <td>0.594595</td>\n",
       "      <td>1.000000e+00</td>\n",
       "    </tr>\n",
       "    <tr>\n",
       "      <th>10</th>\n",
       "      <td>0.000000</td>\n",
       "      <td>0.605405</td>\n",
       "      <td>1.000000e+00</td>\n",
       "    </tr>\n",
       "    <tr>\n",
       "      <th>11</th>\n",
       "      <td>0.000000</td>\n",
       "      <td>0.616216</td>\n",
       "      <td>1.000000e+00</td>\n",
       "    </tr>\n",
       "    <tr>\n",
       "      <th>12</th>\n",
       "      <td>0.000000</td>\n",
       "      <td>0.627027</td>\n",
       "      <td>1.000000e+00</td>\n",
       "    </tr>\n",
       "    <tr>\n",
       "      <th>13</th>\n",
       "      <td>0.000000</td>\n",
       "      <td>0.675676</td>\n",
       "      <td>9.999999e-01</td>\n",
       "    </tr>\n",
       "    <tr>\n",
       "      <th>14</th>\n",
       "      <td>0.000000</td>\n",
       "      <td>0.686486</td>\n",
       "      <td>9.999995e-01</td>\n",
       "    </tr>\n",
       "    <tr>\n",
       "      <th>15</th>\n",
       "      <td>0.000000</td>\n",
       "      <td>0.718919</td>\n",
       "      <td>9.999985e-01</td>\n",
       "    </tr>\n",
       "    <tr>\n",
       "      <th>16</th>\n",
       "      <td>0.000000</td>\n",
       "      <td>0.729730</td>\n",
       "      <td>9.999979e-01</td>\n",
       "    </tr>\n",
       "    <tr>\n",
       "      <th>17</th>\n",
       "      <td>0.000000</td>\n",
       "      <td>0.945946</td>\n",
       "      <td>8.232595e-01</td>\n",
       "    </tr>\n",
       "    <tr>\n",
       "      <th>18</th>\n",
       "      <td>0.001656</td>\n",
       "      <td>0.945946</td>\n",
       "      <td>6.035141e-01</td>\n",
       "    </tr>\n",
       "    <tr>\n",
       "      <th>19</th>\n",
       "      <td>0.003311</td>\n",
       "      <td>0.945946</td>\n",
       "      <td>5.574840e-01</td>\n",
       "    </tr>\n",
       "    <tr>\n",
       "      <th>20</th>\n",
       "      <td>0.011589</td>\n",
       "      <td>0.945946</td>\n",
       "      <td>2.930076e-01</td>\n",
       "    </tr>\n",
       "    <tr>\n",
       "      <th>21</th>\n",
       "      <td>0.011589</td>\n",
       "      <td>0.951351</td>\n",
       "      <td>2.832433e-01</td>\n",
       "    </tr>\n",
       "    <tr>\n",
       "      <th>22</th>\n",
       "      <td>0.013245</td>\n",
       "      <td>0.951351</td>\n",
       "      <td>2.567566e-01</td>\n",
       "    </tr>\n",
       "    <tr>\n",
       "      <th>23</th>\n",
       "      <td>0.013245</td>\n",
       "      <td>0.967568</td>\n",
       "      <td>2.534251e-01</td>\n",
       "    </tr>\n",
       "    <tr>\n",
       "      <th>24</th>\n",
       "      <td>0.022351</td>\n",
       "      <td>0.967568</td>\n",
       "      <td>1.345685e-01</td>\n",
       "    </tr>\n",
       "    <tr>\n",
       "      <th>25</th>\n",
       "      <td>0.024007</td>\n",
       "      <td>0.967568</td>\n",
       "      <td>1.345397e-01</td>\n",
       "    </tr>\n",
       "    <tr>\n",
       "      <th>26</th>\n",
       "      <td>0.028146</td>\n",
       "      <td>0.967568</td>\n",
       "      <td>1.345108e-01</td>\n",
       "    </tr>\n",
       "    <tr>\n",
       "      <th>27</th>\n",
       "      <td>0.038907</td>\n",
       "      <td>0.967568</td>\n",
       "      <td>1.344819e-01</td>\n",
       "    </tr>\n",
       "    <tr>\n",
       "      <th>28</th>\n",
       "      <td>0.044702</td>\n",
       "      <td>0.967568</td>\n",
       "      <td>1.015514e-01</td>\n",
       "    </tr>\n",
       "    <tr>\n",
       "      <th>29</th>\n",
       "      <td>0.046358</td>\n",
       "      <td>0.967568</td>\n",
       "      <td>9.392548e-02</td>\n",
       "    </tr>\n",
       "    <tr>\n",
       "      <th>30</th>\n",
       "      <td>0.049669</td>\n",
       "      <td>0.967568</td>\n",
       "      <td>9.388330e-02</td>\n",
       "    </tr>\n",
       "    <tr>\n",
       "      <th>31</th>\n",
       "      <td>0.057119</td>\n",
       "      <td>0.967568</td>\n",
       "      <td>7.383415e-02</td>\n",
       "    </tr>\n",
       "    <tr>\n",
       "      <th>32</th>\n",
       "      <td>0.060430</td>\n",
       "      <td>0.967568</td>\n",
       "      <td>7.210483e-02</td>\n",
       "    </tr>\n",
       "    <tr>\n",
       "      <th>33</th>\n",
       "      <td>0.061258</td>\n",
       "      <td>0.967568</td>\n",
       "      <td>7.101720e-02</td>\n",
       "    </tr>\n",
       "    <tr>\n",
       "      <th>34</th>\n",
       "      <td>0.061258</td>\n",
       "      <td>0.972973</td>\n",
       "      <td>7.048861e-02</td>\n",
       "    </tr>\n",
       "    <tr>\n",
       "      <th>35</th>\n",
       "      <td>0.063742</td>\n",
       "      <td>0.972973</td>\n",
       "      <td>6.890787e-02</td>\n",
       "    </tr>\n",
       "    <tr>\n",
       "      <th>36</th>\n",
       "      <td>0.068709</td>\n",
       "      <td>0.972973</td>\n",
       "      <td>6.086179e-02</td>\n",
       "    </tr>\n",
       "    <tr>\n",
       "      <th>37</th>\n",
       "      <td>0.070364</td>\n",
       "      <td>0.972973</td>\n",
       "      <td>6.027393e-02</td>\n",
       "    </tr>\n",
       "    <tr>\n",
       "      <th>38</th>\n",
       "      <td>0.073675</td>\n",
       "      <td>0.972973</td>\n",
       "      <td>5.854156e-02</td>\n",
       "    </tr>\n",
       "    <tr>\n",
       "      <th>39</th>\n",
       "      <td>0.075331</td>\n",
       "      <td>0.972973</td>\n",
       "      <td>5.852790e-02</td>\n",
       "    </tr>\n",
       "    <tr>\n",
       "      <th>40</th>\n",
       "      <td>0.083609</td>\n",
       "      <td>0.972973</td>\n",
       "      <td>4.927692e-02</td>\n",
       "    </tr>\n",
       "    <tr>\n",
       "      <th>41</th>\n",
       "      <td>0.088576</td>\n",
       "      <td>0.972973</td>\n",
       "      <td>4.925370e-02</td>\n",
       "    </tr>\n",
       "    <tr>\n",
       "      <th>42</th>\n",
       "      <td>0.095199</td>\n",
       "      <td>0.972973</td>\n",
       "      <td>3.981392e-02</td>\n",
       "    </tr>\n",
       "    <tr>\n",
       "      <th>43</th>\n",
       "      <td>0.096854</td>\n",
       "      <td>0.972973</td>\n",
       "      <td>3.979497e-02</td>\n",
       "    </tr>\n",
       "    <tr>\n",
       "      <th>44</th>\n",
       "      <td>0.100993</td>\n",
       "      <td>0.972973</td>\n",
       "      <td>3.740973e-02</td>\n",
       "    </tr>\n",
       "    <tr>\n",
       "      <th>45</th>\n",
       "      <td>0.102649</td>\n",
       "      <td>0.972973</td>\n",
       "      <td>3.740973e-02</td>\n",
       "    </tr>\n",
       "    <tr>\n",
       "      <th>46</th>\n",
       "      <td>0.116722</td>\n",
       "      <td>0.972973</td>\n",
       "      <td>2.882229e-02</td>\n",
       "    </tr>\n",
       "    <tr>\n",
       "      <th>47</th>\n",
       "      <td>0.118377</td>\n",
       "      <td>0.972973</td>\n",
       "      <td>2.875881e-02</td>\n",
       "    </tr>\n",
       "    <tr>\n",
       "      <th>48</th>\n",
       "      <td>0.126656</td>\n",
       "      <td>0.972973</td>\n",
       "      <td>2.526085e-02</td>\n",
       "    </tr>\n",
       "    <tr>\n",
       "      <th>49</th>\n",
       "      <td>0.128311</td>\n",
       "      <td>0.972973</td>\n",
       "      <td>2.525475e-02</td>\n",
       "    </tr>\n",
       "    <tr>\n",
       "      <th>50</th>\n",
       "      <td>0.131623</td>\n",
       "      <td>0.972973</td>\n",
       "      <td>2.251729e-02</td>\n",
       "    </tr>\n",
       "    <tr>\n",
       "      <th>51</th>\n",
       "      <td>0.133278</td>\n",
       "      <td>0.972973</td>\n",
       "      <td>2.172004e-02</td>\n",
       "    </tr>\n",
       "    <tr>\n",
       "      <th>52</th>\n",
       "      <td>0.140728</td>\n",
       "      <td>0.972973</td>\n",
       "      <td>1.914837e-02</td>\n",
       "    </tr>\n",
       "    <tr>\n",
       "      <th>53</th>\n",
       "      <td>0.142384</td>\n",
       "      <td>0.972973</td>\n",
       "      <td>1.906141e-02</td>\n",
       "    </tr>\n",
       "    <tr>\n",
       "      <th>54</th>\n",
       "      <td>0.146523</td>\n",
       "      <td>0.972973</td>\n",
       "      <td>1.905677e-02</td>\n",
       "    </tr>\n",
       "    <tr>\n",
       "      <th>55</th>\n",
       "      <td>0.153146</td>\n",
       "      <td>0.972973</td>\n",
       "      <td>1.658204e-02</td>\n",
       "    </tr>\n",
       "    <tr>\n",
       "      <th>56</th>\n",
       "      <td>0.153146</td>\n",
       "      <td>0.978378</td>\n",
       "      <td>1.633271e-02</td>\n",
       "    </tr>\n",
       "    <tr>\n",
       "      <th>57</th>\n",
       "      <td>0.158940</td>\n",
       "      <td>0.978378</td>\n",
       "      <td>1.531122e-02</td>\n",
       "    </tr>\n",
       "    <tr>\n",
       "      <th>58</th>\n",
       "      <td>0.160596</td>\n",
       "      <td>0.978378</td>\n",
       "      <td>1.530375e-02</td>\n",
       "    </tr>\n",
       "    <tr>\n",
       "      <th>59</th>\n",
       "      <td>0.163079</td>\n",
       "      <td>0.978378</td>\n",
       "      <td>1.477867e-02</td>\n",
       "    </tr>\n",
       "    <tr>\n",
       "      <th>60</th>\n",
       "      <td>0.164735</td>\n",
       "      <td>0.978378</td>\n",
       "      <td>1.458563e-02</td>\n",
       "    </tr>\n",
       "    <tr>\n",
       "      <th>61</th>\n",
       "      <td>0.209437</td>\n",
       "      <td>0.978378</td>\n",
       "      <td>7.976609e-03</td>\n",
       "    </tr>\n",
       "    <tr>\n",
       "      <th>62</th>\n",
       "      <td>0.211093</td>\n",
       "      <td>0.978378</td>\n",
       "      <td>7.907027e-03</td>\n",
       "    </tr>\n",
       "    <tr>\n",
       "      <th>63</th>\n",
       "      <td>0.229305</td>\n",
       "      <td>0.978378</td>\n",
       "      <td>6.198706e-03</td>\n",
       "    </tr>\n",
       "    <tr>\n",
       "      <th>64</th>\n",
       "      <td>0.230960</td>\n",
       "      <td>0.978378</td>\n",
       "      <td>6.179751e-03</td>\n",
       "    </tr>\n",
       "    <tr>\n",
       "      <th>65</th>\n",
       "      <td>0.235927</td>\n",
       "      <td>0.978378</td>\n",
       "      <td>5.621113e-03</td>\n",
       "    </tr>\n",
       "    <tr>\n",
       "      <th>66</th>\n",
       "      <td>0.238411</td>\n",
       "      <td>0.978378</td>\n",
       "      <td>5.594441e-03</td>\n",
       "    </tr>\n",
       "    <tr>\n",
       "      <th>67</th>\n",
       "      <td>0.266556</td>\n",
       "      <td>0.978378</td>\n",
       "      <td>3.881939e-03</td>\n",
       "    </tr>\n",
       "    <tr>\n",
       "      <th>68</th>\n",
       "      <td>0.266556</td>\n",
       "      <td>0.983784</td>\n",
       "      <td>3.847924e-03</td>\n",
       "    </tr>\n",
       "    <tr>\n",
       "      <th>69</th>\n",
       "      <td>0.274007</td>\n",
       "      <td>0.983784</td>\n",
       "      <td>3.442650e-03</td>\n",
       "    </tr>\n",
       "    <tr>\n",
       "      <th>70</th>\n",
       "      <td>0.275662</td>\n",
       "      <td>0.983784</td>\n",
       "      <td>3.398346e-03</td>\n",
       "    </tr>\n",
       "    <tr>\n",
       "      <th>71</th>\n",
       "      <td>0.293046</td>\n",
       "      <td>0.983784</td>\n",
       "      <td>2.605871e-03</td>\n",
       "    </tr>\n",
       "    <tr>\n",
       "      <th>72</th>\n",
       "      <td>0.293046</td>\n",
       "      <td>0.989189</td>\n",
       "      <td>2.594210e-03</td>\n",
       "    </tr>\n",
       "    <tr>\n",
       "      <th>73</th>\n",
       "      <td>0.302152</td>\n",
       "      <td>0.989189</td>\n",
       "      <td>2.328739e-03</td>\n",
       "    </tr>\n",
       "    <tr>\n",
       "      <th>74</th>\n",
       "      <td>0.303808</td>\n",
       "      <td>0.989189</td>\n",
       "      <td>2.322836e-03</td>\n",
       "    </tr>\n",
       "    <tr>\n",
       "      <th>75</th>\n",
       "      <td>0.307119</td>\n",
       "      <td>0.989189</td>\n",
       "      <td>2.245869e-03</td>\n",
       "    </tr>\n",
       "    <tr>\n",
       "      <th>76</th>\n",
       "      <td>0.307119</td>\n",
       "      <td>0.994595</td>\n",
       "      <td>2.232354e-03</td>\n",
       "    </tr>\n",
       "    <tr>\n",
       "      <th>77</th>\n",
       "      <td>0.312914</td>\n",
       "      <td>0.994595</td>\n",
       "      <td>2.117902e-03</td>\n",
       "    </tr>\n",
       "    <tr>\n",
       "      <th>78</th>\n",
       "      <td>0.312914</td>\n",
       "      <td>1.000000</td>\n",
       "      <td>2.109244e-03</td>\n",
       "    </tr>\n",
       "    <tr>\n",
       "      <th>79</th>\n",
       "      <td>0.320364</td>\n",
       "      <td>1.000000</td>\n",
       "      <td>1.928953e-03</td>\n",
       "    </tr>\n",
       "    <tr>\n",
       "      <th>80</th>\n",
       "      <td>0.322020</td>\n",
       "      <td>1.000000</td>\n",
       "      <td>1.812409e-03</td>\n",
       "    </tr>\n",
       "    <tr>\n",
       "      <th>81</th>\n",
       "      <td>0.370861</td>\n",
       "      <td>1.000000</td>\n",
       "      <td>7.269237e-04</td>\n",
       "    </tr>\n",
       "    <tr>\n",
       "      <th>82</th>\n",
       "      <td>0.372517</td>\n",
       "      <td>1.000000</td>\n",
       "      <td>7.259448e-04</td>\n",
       "    </tr>\n",
       "    <tr>\n",
       "      <th>83</th>\n",
       "      <td>0.384934</td>\n",
       "      <td>1.000000</td>\n",
       "      <td>5.958465e-04</td>\n",
       "    </tr>\n",
       "    <tr>\n",
       "      <th>84</th>\n",
       "      <td>0.386589</td>\n",
       "      <td>1.000000</td>\n",
       "      <td>5.943177e-04</td>\n",
       "    </tr>\n",
       "    <tr>\n",
       "      <th>85</th>\n",
       "      <td>0.437086</td>\n",
       "      <td>1.000000</td>\n",
       "      <td>3.038344e-04</td>\n",
       "    </tr>\n",
       "    <tr>\n",
       "      <th>86</th>\n",
       "      <td>0.439570</td>\n",
       "      <td>1.000000</td>\n",
       "      <td>2.982017e-04</td>\n",
       "    </tr>\n",
       "    <tr>\n",
       "      <th>87</th>\n",
       "      <td>0.468543</td>\n",
       "      <td>1.000000</td>\n",
       "      <td>1.801308e-04</td>\n",
       "    </tr>\n",
       "    <tr>\n",
       "      <th>88</th>\n",
       "      <td>0.470199</td>\n",
       "      <td>1.000000</td>\n",
       "      <td>1.791812e-04</td>\n",
       "    </tr>\n",
       "    <tr>\n",
       "      <th>89</th>\n",
       "      <td>0.592715</td>\n",
       "      <td>1.000000</td>\n",
       "      <td>2.597581e-05</td>\n",
       "    </tr>\n",
       "    <tr>\n",
       "      <th>90</th>\n",
       "      <td>0.594371</td>\n",
       "      <td>1.000000</td>\n",
       "      <td>2.531364e-05</td>\n",
       "    </tr>\n",
       "    <tr>\n",
       "      <th>91</th>\n",
       "      <td>0.644040</td>\n",
       "      <td>1.000000</td>\n",
       "      <td>8.393958e-06</td>\n",
       "    </tr>\n",
       "    <tr>\n",
       "      <th>92</th>\n",
       "      <td>0.652318</td>\n",
       "      <td>1.000000</td>\n",
       "      <td>8.206213e-06</td>\n",
       "    </tr>\n",
       "    <tr>\n",
       "      <th>93</th>\n",
       "      <td>0.698675</td>\n",
       "      <td>1.000000</td>\n",
       "      <td>3.224466e-06</td>\n",
       "    </tr>\n",
       "    <tr>\n",
       "      <th>94</th>\n",
       "      <td>0.700331</td>\n",
       "      <td>1.000000</td>\n",
       "      <td>3.209868e-06</td>\n",
       "    </tr>\n",
       "    <tr>\n",
       "      <th>95</th>\n",
       "      <td>0.780629</td>\n",
       "      <td>1.000000</td>\n",
       "      <td>1.884950e-07</td>\n",
       "    </tr>\n",
       "    <tr>\n",
       "      <th>96</th>\n",
       "      <td>0.782285</td>\n",
       "      <td>1.000000</td>\n",
       "      <td>1.873539e-07</td>\n",
       "    </tr>\n",
       "    <tr>\n",
       "      <th>97</th>\n",
       "      <td>0.802980</td>\n",
       "      <td>1.000000</td>\n",
       "      <td>6.411598e-08</td>\n",
       "    </tr>\n",
       "    <tr>\n",
       "      <th>98</th>\n",
       "      <td>0.804636</td>\n",
       "      <td>1.000000</td>\n",
       "      <td>6.357147e-08</td>\n",
       "    </tr>\n",
       "    <tr>\n",
       "      <th>99</th>\n",
       "      <td>0.853477</td>\n",
       "      <td>1.000000</td>\n",
       "      <td>6.439797e-09</td>\n",
       "    </tr>\n",
       "    <tr>\n",
       "      <th>100</th>\n",
       "      <td>0.855132</td>\n",
       "      <td>1.000000</td>\n",
       "      <td>6.354992e-09</td>\n",
       "    </tr>\n",
       "    <tr>\n",
       "      <th>101</th>\n",
       "      <td>0.865894</td>\n",
       "      <td>1.000000</td>\n",
       "      <td>4.003403e-09</td>\n",
       "    </tr>\n",
       "    <tr>\n",
       "      <th>102</th>\n",
       "      <td>0.867550</td>\n",
       "      <td>1.000000</td>\n",
       "      <td>3.870068e-09</td>\n",
       "    </tr>\n",
       "    <tr>\n",
       "      <th>103</th>\n",
       "      <td>0.940397</td>\n",
       "      <td>1.000000</td>\n",
       "      <td>2.323773e-11</td>\n",
       "    </tr>\n",
       "    <tr>\n",
       "      <th>104</th>\n",
       "      <td>0.942053</td>\n",
       "      <td>1.000000</td>\n",
       "      <td>2.233382e-11</td>\n",
       "    </tr>\n",
       "    <tr>\n",
       "      <th>105</th>\n",
       "      <td>0.959437</td>\n",
       "      <td>1.000000</td>\n",
       "      <td>6.325596e-13</td>\n",
       "    </tr>\n",
       "    <tr>\n",
       "      <th>106</th>\n",
       "      <td>0.961093</td>\n",
       "      <td>1.000000</td>\n",
       "      <td>6.086604e-13</td>\n",
       "    </tr>\n",
       "    <tr>\n",
       "      <th>107</th>\n",
       "      <td>0.970199</td>\n",
       "      <td>1.000000</td>\n",
       "      <td>4.174215e-14</td>\n",
       "    </tr>\n",
       "    <tr>\n",
       "      <th>108</th>\n",
       "      <td>0.972682</td>\n",
       "      <td>1.000000</td>\n",
       "      <td>3.968331e-14</td>\n",
       "    </tr>\n",
       "    <tr>\n",
       "      <th>109</th>\n",
       "      <td>1.000000</td>\n",
       "      <td>1.000000</td>\n",
       "      <td>6.227131e-41</td>\n",
       "    </tr>\n",
       "  </tbody>\n",
       "</table>\n",
       "</div>"
      ],
      "text/plain": [
       "          FPR       TPR     Threshold\n",
       "0    0.000000  0.000000  2.000000e+00\n",
       "1    0.000000  0.308108  1.000000e+00\n",
       "2    0.000000  0.313514  1.000000e+00\n",
       "3    0.000000  0.335135  1.000000e+00\n",
       "4    0.000000  0.340541  1.000000e+00\n",
       "5    0.000000  0.351351  1.000000e+00\n",
       "6    0.000000  0.367568  1.000000e+00\n",
       "7    0.000000  0.400000  1.000000e+00\n",
       "8    0.000000  0.410811  1.000000e+00\n",
       "9    0.000000  0.594595  1.000000e+00\n",
       "10   0.000000  0.605405  1.000000e+00\n",
       "11   0.000000  0.616216  1.000000e+00\n",
       "12   0.000000  0.627027  1.000000e+00\n",
       "13   0.000000  0.675676  9.999999e-01\n",
       "14   0.000000  0.686486  9.999995e-01\n",
       "15   0.000000  0.718919  9.999985e-01\n",
       "16   0.000000  0.729730  9.999979e-01\n",
       "17   0.000000  0.945946  8.232595e-01\n",
       "18   0.001656  0.945946  6.035141e-01\n",
       "19   0.003311  0.945946  5.574840e-01\n",
       "20   0.011589  0.945946  2.930076e-01\n",
       "21   0.011589  0.951351  2.832433e-01\n",
       "22   0.013245  0.951351  2.567566e-01\n",
       "23   0.013245  0.967568  2.534251e-01\n",
       "24   0.022351  0.967568  1.345685e-01\n",
       "25   0.024007  0.967568  1.345397e-01\n",
       "26   0.028146  0.967568  1.345108e-01\n",
       "27   0.038907  0.967568  1.344819e-01\n",
       "28   0.044702  0.967568  1.015514e-01\n",
       "29   0.046358  0.967568  9.392548e-02\n",
       "30   0.049669  0.967568  9.388330e-02\n",
       "31   0.057119  0.967568  7.383415e-02\n",
       "32   0.060430  0.967568  7.210483e-02\n",
       "33   0.061258  0.967568  7.101720e-02\n",
       "34   0.061258  0.972973  7.048861e-02\n",
       "35   0.063742  0.972973  6.890787e-02\n",
       "36   0.068709  0.972973  6.086179e-02\n",
       "37   0.070364  0.972973  6.027393e-02\n",
       "38   0.073675  0.972973  5.854156e-02\n",
       "39   0.075331  0.972973  5.852790e-02\n",
       "40   0.083609  0.972973  4.927692e-02\n",
       "41   0.088576  0.972973  4.925370e-02\n",
       "42   0.095199  0.972973  3.981392e-02\n",
       "43   0.096854  0.972973  3.979497e-02\n",
       "44   0.100993  0.972973  3.740973e-02\n",
       "45   0.102649  0.972973  3.740973e-02\n",
       "46   0.116722  0.972973  2.882229e-02\n",
       "47   0.118377  0.972973  2.875881e-02\n",
       "48   0.126656  0.972973  2.526085e-02\n",
       "49   0.128311  0.972973  2.525475e-02\n",
       "50   0.131623  0.972973  2.251729e-02\n",
       "51   0.133278  0.972973  2.172004e-02\n",
       "52   0.140728  0.972973  1.914837e-02\n",
       "53   0.142384  0.972973  1.906141e-02\n",
       "54   0.146523  0.972973  1.905677e-02\n",
       "55   0.153146  0.972973  1.658204e-02\n",
       "56   0.153146  0.978378  1.633271e-02\n",
       "57   0.158940  0.978378  1.531122e-02\n",
       "58   0.160596  0.978378  1.530375e-02\n",
       "59   0.163079  0.978378  1.477867e-02\n",
       "60   0.164735  0.978378  1.458563e-02\n",
       "61   0.209437  0.978378  7.976609e-03\n",
       "62   0.211093  0.978378  7.907027e-03\n",
       "63   0.229305  0.978378  6.198706e-03\n",
       "64   0.230960  0.978378  6.179751e-03\n",
       "65   0.235927  0.978378  5.621113e-03\n",
       "66   0.238411  0.978378  5.594441e-03\n",
       "67   0.266556  0.978378  3.881939e-03\n",
       "68   0.266556  0.983784  3.847924e-03\n",
       "69   0.274007  0.983784  3.442650e-03\n",
       "70   0.275662  0.983784  3.398346e-03\n",
       "71   0.293046  0.983784  2.605871e-03\n",
       "72   0.293046  0.989189  2.594210e-03\n",
       "73   0.302152  0.989189  2.328739e-03\n",
       "74   0.303808  0.989189  2.322836e-03\n",
       "75   0.307119  0.989189  2.245869e-03\n",
       "76   0.307119  0.994595  2.232354e-03\n",
       "77   0.312914  0.994595  2.117902e-03\n",
       "78   0.312914  1.000000  2.109244e-03\n",
       "79   0.320364  1.000000  1.928953e-03\n",
       "80   0.322020  1.000000  1.812409e-03\n",
       "81   0.370861  1.000000  7.269237e-04\n",
       "82   0.372517  1.000000  7.259448e-04\n",
       "83   0.384934  1.000000  5.958465e-04\n",
       "84   0.386589  1.000000  5.943177e-04\n",
       "85   0.437086  1.000000  3.038344e-04\n",
       "86   0.439570  1.000000  2.982017e-04\n",
       "87   0.468543  1.000000  1.801308e-04\n",
       "88   0.470199  1.000000  1.791812e-04\n",
       "89   0.592715  1.000000  2.597581e-05\n",
       "90   0.594371  1.000000  2.531364e-05\n",
       "91   0.644040  1.000000  8.393958e-06\n",
       "92   0.652318  1.000000  8.206213e-06\n",
       "93   0.698675  1.000000  3.224466e-06\n",
       "94   0.700331  1.000000  3.209868e-06\n",
       "95   0.780629  1.000000  1.884950e-07\n",
       "96   0.782285  1.000000  1.873539e-07\n",
       "97   0.802980  1.000000  6.411598e-08\n",
       "98   0.804636  1.000000  6.357147e-08\n",
       "99   0.853477  1.000000  6.439797e-09\n",
       "100  0.855132  1.000000  6.354992e-09\n",
       "101  0.865894  1.000000  4.003403e-09\n",
       "102  0.867550  1.000000  3.870068e-09\n",
       "103  0.940397  1.000000  2.323773e-11\n",
       "104  0.942053  1.000000  2.233382e-11\n",
       "105  0.959437  1.000000  6.325596e-13\n",
       "106  0.961093  1.000000  6.086604e-13\n",
       "107  0.970199  1.000000  4.174215e-14\n",
       "108  0.972682  1.000000  3.968331e-14\n",
       "109  1.000000  1.000000  6.227131e-41"
      ]
     },
     "execution_count": 181,
     "metadata": {},
     "output_type": "execute_result"
    }
   ],
   "source": [
    "# plotting the roc curve\n",
    "pd.set_option('display.max_columns' ,100)\n",
    "pd.set_option('display.max_rows' ,500)\n",
    "pd.DataFrame({ 'FPR':false_positive_rate , 'TPR' : true_positive_rate ,'Threshold' :threshold })"
   ]
  },
  {
   "cell_type": "code",
   "execution_count": 184,
   "metadata": {},
   "outputs": [
    {
     "data": {
      "text/plain": [
       "[<matplotlib.lines.Line2D at 0x1d23d766be0>]"
      ]
     },
     "execution_count": 184,
     "metadata": {},
     "output_type": "execute_result"
    },
    {
     "data": {
      "image/png": "[encoded data removed]",
      "text/plain": [
       "<Figure size 432x288 with 1 Axes>"
      ]
     },
     "metadata": {
      "needs_background": "light"
     },
     "output_type": "display_data"
    }
   ],
   "source": [
    "plt.ylabel('True Positive Rate')\n",
    "plt.xlabel('False Positive Rate')\n",
    "plt.title('ROC')\n",
    "plt.plot(false_positive_rate ,true_positive_rate )"
   ]
  },
  {
   "cell_type": "markdown",
   "metadata": {},
   "source": [
    "# Creating binomial classification"
   ]
  },
  {
   "cell_type": "code",
   "execution_count": 186,
   "metadata": {},
   "outputs": [],
   "source": [
    "# Building model \n",
    "from sklearn.naive_bayes import BernoulliNB\n",
    "\n",
    "bnb = BernoulliNB()\n",
    "bnb.fit(X_train_transformed  ,y_train)\n",
    "\n",
    "y_test_pred_prob1 =bnb.predict_proba(X_test_transformed)\n",
    "y_test_pred_class1 =bnb.predict(X_test_transformed)"
   ]
  },
  {
   "cell_type": "code",
   "execution_count": 187,
   "metadata": {},
   "outputs": [],
   "source": [
    "from sklearn.metrics import confusion_matrix\n",
    "cm2 = confusion_matrix(y_test , y_test_pred_class1)\n"
   ]
  },
  {
   "cell_type": "code",
   "execution_count": 188,
   "metadata": {},
   "outputs": [
    {
     "data": {
      "text/plain": [
       "0.9770279971284996"
      ]
     },
     "execution_count": 188,
     "metadata": {},
     "output_type": "execute_result"
    }
   ],
   "source": [
    "from sklearn.metrics import accuracy_score\n",
    "accuracy_score(y_test , y_test_pred_class1)"
   ]
  },
  {
   "cell_type": "code",
   "execution_count": 189,
   "metadata": {},
   "outputs": [
    {
     "name": "stdout",
     "output_type": "stream",
     "text": [
      "sesitivity  0.8324324324324325\n",
      "specificity  0.9991721854304636\n",
      "PositivepredictedRate 0.9935483870967742\n",
      "Precession  0.9935483870967742\n",
      "Recall  0.8324324324324325\n"
     ]
    }
   ],
   "source": [
    "TN = cm2[0,0]\n",
    "FP = cm2[0,1]\n",
    "FN = cm2[1,0]\n",
    "TP = cm2[1,1]\n",
    "\n",
    "senstivity = TP/(TP+FN)\n",
    "specificity = TN/(TN+FP)\n",
    "PositivepredictedRate = TP/(TP+FP)\n",
    "Precesion =  PositivepredictedRate \n",
    "Recall = senstivity\n",
    "\n",
    "print(\"sesitivity \" ,senstivity)\n",
    "print(\"specificity \" ,specificity)\n",
    "print(\"PositivepredictedRate\", PositivepredictedRate)\n",
    "\n",
    "print(\"Precession \", Precesion)\n",
    "print(\"Recall \", Recall)"
   ]
  },
  {
   "cell_type": "markdown",
   "metadata": {},
   "source": [
    "# Graded questions solution"
   ]
  },
  {
   "cell_type": "code",
   "execution_count": 336,
   "metadata": {
    "scrolled": true
   },
   "outputs": [
    {
     "data": {
      "text/html": [
       "<div>\n",
       "<style scoped>\n",
       "    .dataframe tbody tr th:only-of-type {\n",
       "        vertical-align: middle;\n",
       "    }\n",
       "\n",
       "    .dataframe tbody tr th {\n",
       "        vertical-align: top;\n",
       "    }\n",
       "\n",
       "    .dataframe thead th {\n",
       "        text-align: right;\n",
       "    }\n",
       "</style>\n",
       "<table border=\"1\" class=\"dataframe\">\n",
       "  <thead>\n",
       "    <tr style=\"text-align: right;\">\n",
       "      <th></th>\n",
       "      <th>class</th>\n",
       "      <th>text</th>\n",
       "    </tr>\n",
       "  </thead>\n",
       "  <tbody>\n",
       "    <tr>\n",
       "      <th>0</th>\n",
       "      <td>Pos</td>\n",
       "      <td>a common complaint amongst film critics is   ...</td>\n",
       "    </tr>\n",
       "    <tr>\n",
       "      <th>1</th>\n",
       "      <td>Pos</td>\n",
       "      <td>whew   this film oozes energy   the kind of b...</td>\n",
       "    </tr>\n",
       "    <tr>\n",
       "      <th>2</th>\n",
       "      <td>Pos</td>\n",
       "      <td>steven spielberg s   amistad     which is bas...</td>\n",
       "    </tr>\n",
       "    <tr>\n",
       "      <th>3</th>\n",
       "      <td>Pos</td>\n",
       "      <td>he has spent his entire life in an awful litt...</td>\n",
       "    </tr>\n",
       "    <tr>\n",
       "      <th>4</th>\n",
       "      <td>Pos</td>\n",
       "      <td>being that it is a foreign language film with...</td>\n",
       "    </tr>\n",
       "  </tbody>\n",
       "</table>\n",
       "</div>"
      ],
      "text/plain": [
       "  class                                               text\n",
       "0   Pos   a common complaint amongst film critics is   ...\n",
       "1   Pos   whew   this film oozes energy   the kind of b...\n",
       "2   Pos   steven spielberg s   amistad     which is bas...\n",
       "3   Pos   he has spent his entire life in an awful litt...\n",
       "4   Pos   being that it is a foreign language film with..."
      ]
     },
     "execution_count": 336,
     "metadata": {},
     "output_type": "execute_result"
    }
   ],
   "source": [
    "imdb = pd.read_csv('movie_review_train.csv')\n",
    "imdb.head()"
   ]
  },
  {
   "cell_type": "code",
   "execution_count": 337,
   "metadata": {},
   "outputs": [],
   "source": [
    "#imdb['class'] = imdb['class'].map({'Pos':1, 'Neg':0})\n",
    "#imdb['class'] = imdb['class'].astype(int)"
   ]
  },
  {
   "cell_type": "code",
   "execution_count": 338,
   "metadata": {
    "scrolled": true
   },
   "outputs": [
    {
     "name": "stdout",
     "output_type": "stream",
     "text": [
      "<class 'pandas.core.frame.DataFrame'>\n",
      "RangeIndex: 1600 entries, 0 to 1599\n",
      "Data columns (total 2 columns):\n",
      " #   Column  Non-Null Count  Dtype \n",
      "---  ------  --------------  ----- \n",
      " 0   class   1600 non-null   object\n",
      " 1   text    1600 non-null   object\n",
      "dtypes: object(2)\n",
      "memory usage: 25.1+ KB\n"
     ]
    }
   ],
   "source": [
    "imdb.info()"
   ]
  },
  {
   "cell_type": "code",
   "execution_count": 339,
   "metadata": {},
   "outputs": [],
   "source": [
    "X_train = imdb.values[:,1]\n",
    "y_train = imdb.values[:,0]"
   ]
  },
  {
   "cell_type": "code",
   "execution_count": 340,
   "metadata": {},
   "outputs": [
    {
     "data": {
      "text/plain": [
       "array(['Pos', 'Pos', 'Pos', ..., 'Neg', 'Neg', 'Neg'], dtype=object)"
      ]
     },
     "execution_count": 340,
     "metadata": {},
     "output_type": "execute_result"
    }
   ],
   "source": [
    "y_train"
   ]
  },
  {
   "cell_type": "code",
   "execution_count": 341,
   "metadata": {},
   "outputs": [],
   "source": [
    "from sklearn.feature_extraction.text import CountVectorizer\n",
    "\n",
    "vec = CountVectorizer(stop_words='english')\n",
    "\n",
    "vec.fit(X_train)\n",
    "imdbdict = vec.vocabulary_"
   ]
  },
  {
   "cell_type": "code",
   "execution_count": 342,
   "metadata": {},
   "outputs": [
    {
     "name": "stdout",
     "output_type": "stream",
     "text": [
      "imdb dict : 35858\n"
     ]
    }
   ],
   "source": [
    "print('imdb dict :',len(imdbdict))"
   ]
  },
  {
   "cell_type": "code",
   "execution_count": 343,
   "metadata": {},
   "outputs": [
    {
     "name": "stdout",
     "output_type": "stream",
     "text": [
      "imdb dict : 1643\n"
     ]
    }
   ],
   "source": [
    "vec1 = CountVectorizer(stop_words='english'  , min_df=0.03 , max_df=0.8)\n",
    "\n",
    "vec1.fit(X_train)\n",
    "imdbdict1 = vec1.vocabulary_\n",
    "print('imdb dict :',len(imdbdict1))"
   ]
  },
  {
   "cell_type": "code",
   "execution_count": 344,
   "metadata": {},
   "outputs": [
    {
     "data": {
      "text/plain": [
       "<1600x1643 sparse matrix of type '<class 'numpy.int64'>'\n",
       "\twith 217396 stored elements in Compressed Sparse Row format>"
      ]
     },
     "execution_count": 344,
     "metadata": {},
     "output_type": "execute_result"
    }
   ],
   "source": [
    "# next step is to create the bag of words or sparse matrix \n",
    "X_train_transformed = vec1.transform(X_train)\n",
    "X_train_transformed"
   ]
  },
  {
   "cell_type": "code",
   "execution_count": 345,
   "metadata": {},
   "outputs": [
    {
     "data": {
      "text/html": [
       "<div>\n",
       "<style scoped>\n",
       "    .dataframe tbody tr th:only-of-type {\n",
       "        vertical-align: middle;\n",
       "    }\n",
       "\n",
       "    .dataframe tbody tr th {\n",
       "        vertical-align: top;\n",
       "    }\n",
       "\n",
       "    .dataframe thead th {\n",
       "        text-align: right;\n",
       "    }\n",
       "</style>\n",
       "<table border=\"1\" class=\"dataframe\">\n",
       "  <thead>\n",
       "    <tr style=\"text-align: right;\">\n",
       "      <th></th>\n",
       "      <th>class</th>\n",
       "      <th>text</th>\n",
       "    </tr>\n",
       "  </thead>\n",
       "  <tbody>\n",
       "    <tr>\n",
       "      <th>0</th>\n",
       "      <td>Pos</td>\n",
       "      <td>films adapted from comic books have had plent...</td>\n",
       "    </tr>\n",
       "    <tr>\n",
       "      <th>1</th>\n",
       "      <td>Pos</td>\n",
       "      <td>every now and then a movie comes along from a...</td>\n",
       "    </tr>\n",
       "    <tr>\n",
       "      <th>2</th>\n",
       "      <td>Pos</td>\n",
       "      <td>you ve got mail works alot better than it des...</td>\n",
       "    </tr>\n",
       "    <tr>\n",
       "      <th>3</th>\n",
       "      <td>Pos</td>\n",
       "      <td>jaws   is a rare film that grabs your atte...</td>\n",
       "    </tr>\n",
       "    <tr>\n",
       "      <th>4</th>\n",
       "      <td>Pos</td>\n",
       "      <td>moviemaking is a lot like being the general m...</td>\n",
       "    </tr>\n",
       "  </tbody>\n",
       "</table>\n",
       "</div>"
      ],
      "text/plain": [
       "  class                                               text\n",
       "0   Pos   films adapted from comic books have had plent...\n",
       "1   Pos   every now and then a movie comes along from a...\n",
       "2   Pos   you ve got mail works alot better than it des...\n",
       "3   Pos      jaws   is a rare film that grabs your atte...\n",
       "4   Pos   moviemaking is a lot like being the general m..."
      ]
     },
     "execution_count": 345,
     "metadata": {},
     "output_type": "execute_result"
    }
   ],
   "source": [
    "imdbtest = pd.read_csv('movie_review_test.csv')\n",
    "#imdbtest['class'] = imdbtest['class'].map({'Pos':1, 'Neg':0})\n",
    "#imdbtest['class'] = imdbtest['class'].astype('int')\n",
    "imdbtest.head()"
   ]
  },
  {
   "cell_type": "code",
   "execution_count": 346,
   "metadata": {},
   "outputs": [],
   "source": [
    "X_test = imdbtest.values[:,1]\n",
    "y_test = imdbtest.values[:,0]"
   ]
  },
  {
   "cell_type": "code",
   "execution_count": 347,
   "metadata": {},
   "outputs": [
    {
     "data": {
      "text/plain": [
       "<400x1643 sparse matrix of type '<class 'numpy.int64'>'\n",
       "\twith 51663 stored elements in Compressed Sparse Row format>"
      ]
     },
     "execution_count": 347,
     "metadata": {},
     "output_type": "execute_result"
    }
   ],
   "source": [
    "X_test_transformed1 = vec1.transform(X_test)\n",
    "X_test_transformed1"
   ]
  },
  {
   "cell_type": "code",
   "execution_count": 348,
   "metadata": {
    "scrolled": true
   },
   "outputs": [
    {
     "data": {
      "text/plain": [
       "array(['Pos', 'Pos', 'Pos', 'Pos', 'Pos', 'Pos', 'Pos', 'Pos', 'Pos',\n",
       "       'Pos', 'Pos', 'Pos', 'Pos', 'Pos', 'Pos', 'Pos', 'Pos', 'Pos',\n",
       "       'Pos', 'Pos', 'Pos', 'Pos', 'Pos', 'Pos', 'Pos', 'Pos', 'Pos',\n",
       "       'Pos', 'Pos', 'Pos', 'Pos', 'Pos', 'Pos', 'Pos', 'Pos', 'Pos',\n",
       "       'Pos', 'Pos', 'Pos', 'Pos', 'Pos', 'Pos', 'Pos', 'Pos', 'Pos',\n",
       "       'Pos', 'Pos', 'Pos', 'Pos', 'Pos', 'Pos', 'Pos', 'Pos', 'Pos',\n",
       "       'Pos', 'Pos', 'Pos', 'Pos', 'Pos', 'Pos', 'Pos', 'Pos', 'Pos',\n",
       "       'Pos', 'Pos', 'Pos', 'Pos', 'Pos', 'Pos', 'Pos', 'Pos', 'Pos',\n",
       "       'Pos', 'Pos', 'Pos', 'Pos', 'Pos', 'Pos', 'Pos', 'Pos', 'Pos',\n",
       "       'Pos', 'Pos', 'Pos', 'Pos', 'Pos', 'Pos', 'Pos', 'Pos', 'Pos',\n",
       "       'Pos', 'Pos', 'Pos', 'Pos', 'Pos', 'Pos', 'Pos', 'Pos', 'Pos',\n",
       "       'Pos', 'Pos', 'Pos', 'Pos', 'Pos', 'Pos', 'Pos', 'Pos', 'Pos',\n",
       "       'Pos', 'Pos', 'Pos', 'Pos', 'Pos', 'Pos', 'Pos', 'Pos', 'Pos',\n",
       "       'Pos', 'Pos', 'Pos', 'Pos', 'Pos', 'Pos', 'Pos', 'Pos', 'Pos',\n",
       "       'Pos', 'Pos', 'Pos', 'Pos', 'Pos', 'Pos', 'Pos', 'Pos', 'Pos',\n",
       "       'Pos', 'Pos', 'Pos', 'Pos', 'Pos', 'Pos', 'Pos', 'Pos', 'Pos',\n",
       "       'Pos', 'Pos', 'Pos', 'Pos', 'Pos', 'Pos', 'Pos', 'Pos', 'Pos',\n",
       "       'Pos', 'Pos', 'Pos', 'Pos', 'Pos', 'Pos', 'Pos', 'Pos', 'Pos',\n",
       "       'Pos', 'Pos', 'Pos', 'Pos', 'Pos', 'Pos', 'Pos', 'Pos', 'Pos',\n",
       "       'Pos', 'Pos', 'Pos', 'Pos', 'Pos', 'Pos', 'Pos', 'Pos', 'Pos',\n",
       "       'Pos', 'Pos', 'Pos', 'Pos', 'Pos', 'Pos', 'Pos', 'Pos', 'Pos',\n",
       "       'Pos', 'Pos', 'Pos', 'Pos', 'Pos', 'Pos', 'Pos', 'Pos', 'Pos',\n",
       "       'Pos', 'Pos', 'Neg', 'Neg', 'Neg', 'Neg', 'Neg', 'Neg', 'Neg',\n",
       "       'Neg', 'Neg', 'Neg', 'Neg', 'Neg', 'Neg', 'Neg', 'Neg', 'Neg',\n",
       "       'Neg', 'Neg', 'Neg', 'Neg', 'Neg', 'Neg', 'Neg', 'Neg', 'Neg',\n",
       "       'Neg', 'Neg', 'Neg', 'Neg', 'Neg', 'Neg', 'Neg', 'Neg', 'Neg',\n",
       "       'Neg', 'Neg', 'Neg', 'Neg', 'Neg', 'Neg', 'Neg', 'Neg', 'Neg',\n",
       "       'Neg', 'Neg', 'Neg', 'Neg', 'Neg', 'Neg', 'Neg', 'Neg', 'Neg',\n",
       "       'Neg', 'Neg', 'Neg', 'Neg', 'Neg', 'Neg', 'Neg', 'Neg', 'Neg',\n",
       "       'Neg', 'Neg', 'Neg', 'Neg', 'Neg', 'Neg', 'Neg', 'Neg', 'Neg',\n",
       "       'Neg', 'Neg', 'Neg', 'Neg', 'Neg', 'Neg', 'Neg', 'Neg', 'Neg',\n",
       "       'Neg', 'Neg', 'Neg', 'Neg', 'Neg', 'Neg', 'Neg', 'Neg', 'Neg',\n",
       "       'Neg', 'Neg', 'Neg', 'Neg', 'Neg', 'Neg', 'Neg', 'Neg', 'Neg',\n",
       "       'Neg', 'Neg', 'Neg', 'Neg', 'Neg', 'Neg', 'Neg', 'Neg', 'Neg',\n",
       "       'Neg', 'Neg', 'Neg', 'Neg', 'Neg', 'Neg', 'Neg', 'Neg', 'Neg',\n",
       "       'Neg', 'Neg', 'Neg', 'Neg', 'Neg', 'Neg', 'Neg', 'Neg', 'Neg',\n",
       "       'Neg', 'Neg', 'Neg', 'Neg', 'Neg', 'Neg', 'Neg', 'Neg', 'Neg',\n",
       "       'Neg', 'Neg', 'Neg', 'Neg', 'Neg', 'Neg', 'Neg', 'Neg', 'Neg',\n",
       "       'Neg', 'Neg', 'Neg', 'Neg', 'Neg', 'Neg', 'Neg', 'Neg', 'Neg',\n",
       "       'Neg', 'Neg', 'Neg', 'Neg', 'Neg', 'Neg', 'Neg', 'Neg', 'Neg',\n",
       "       'Neg', 'Neg', 'Neg', 'Neg', 'Neg', 'Neg', 'Neg', 'Neg', 'Neg',\n",
       "       'Neg', 'Neg', 'Neg', 'Neg', 'Neg', 'Neg', 'Neg', 'Neg', 'Neg',\n",
       "       'Neg', 'Neg', 'Neg', 'Neg', 'Neg', 'Neg', 'Neg', 'Neg', 'Neg',\n",
       "       'Neg', 'Neg', 'Neg', 'Neg', 'Neg', 'Neg', 'Neg', 'Neg', 'Neg',\n",
       "       'Neg', 'Neg', 'Neg', 'Neg'], dtype=object)"
      ]
     },
     "execution_count": 348,
     "metadata": {},
     "output_type": "execute_result"
    }
   ],
   "source": [
    "y_test"
   ]
  },
  {
   "cell_type": "code",
   "execution_count": 349,
   "metadata": {
    "scrolled": true
   },
   "outputs": [
    {
     "name": "stdout",
     "output_type": "stream",
     "text": [
      "  (0, 11)\t1\n",
      "  (0, 18)\t2\n",
      "  (0, 23)\t1\n",
      "  (0, 29)\t1\n",
      "  (0, 31)\t1\n",
      "  (0, 53)\t1\n",
      "  (0, 73)\t1\n",
      "  (0, 94)\t1\n",
      "  (0, 110)\t1\n",
      "  (0, 118)\t1\n",
      "  (0, 133)\t1\n",
      "  (0, 134)\t1\n",
      "  (0, 140)\t1\n",
      "  (0, 141)\t1\n",
      "  (0, 151)\t3\n",
      "  (0, 152)\t1\n",
      "  (0, 173)\t1\n",
      "  (0, 176)\t1\n",
      "  (0, 177)\t1\n",
      "  (0, 188)\t2\n",
      "  (0, 189)\t1\n",
      "  (0, 195)\t1\n",
      "  (0, 197)\t1\n",
      "  (0, 203)\t1\n",
      "  (0, 206)\t1\n",
      "  :\t:\n",
      "  (399, 1314)\t2\n",
      "  (399, 1325)\t1\n",
      "  (399, 1354)\t1\n",
      "  (399, 1371)\t1\n",
      "  (399, 1375)\t2\n",
      "  (399, 1382)\t1\n",
      "  (399, 1399)\t2\n",
      "  (399, 1411)\t1\n",
      "  (399, 1416)\t1\n",
      "  (399, 1418)\t1\n",
      "  (399, 1430)\t1\n",
      "  (399, 1463)\t2\n",
      "  (399, 1471)\t1\n",
      "  (399, 1475)\t1\n",
      "  (399, 1514)\t2\n",
      "  (399, 1516)\t1\n",
      "  (399, 1542)\t1\n",
      "  (399, 1546)\t2\n",
      "  (399, 1549)\t1\n",
      "  (399, 1609)\t3\n",
      "  (399, 1632)\t1\n",
      "  (399, 1633)\t3\n",
      "  (399, 1637)\t1\n",
      "  (399, 1638)\t1\n",
      "  (399, 1641)\t2\n"
     ]
    }
   ],
   "source": [
    "print(X_test_transformed1)"
   ]
  },
  {
   "cell_type": "code",
   "execution_count": 350,
   "metadata": {},
   "outputs": [
    {
     "name": "stdout",
     "output_type": "stream",
     "text": [
      "51663\n"
     ]
    }
   ],
   "source": [
    "print(X_test_transformed1.count_nonzero())"
   ]
  },
  {
   "cell_type": "code",
   "execution_count": 351,
   "metadata": {},
   "outputs": [
    {
     "name": "stdout",
     "output_type": "stream",
     "text": [
      "400\n"
     ]
    }
   ],
   "source": [
    "print(len(X_test_transformed1.toarray()))"
   ]
  },
  {
   "cell_type": "code",
   "execution_count": 352,
   "metadata": {},
   "outputs": [
    {
     "data": {
      "text/plain": [
       "BernoulliNB(alpha=1.0, binarize=0.0, class_prior=None, fit_prior=True)"
      ]
     },
     "execution_count": 352,
     "metadata": {},
     "output_type": "execute_result"
    }
   ],
   "source": [
    "# Train a bernoulli model \n",
    "from sklearn.naive_bayes import BernoulliNB\n",
    "\n",
    "bnb = BernoulliNB()\n",
    "bnb.fit(X_train_transformed, y_train)"
   ]
  },
  {
   "cell_type": "code",
   "execution_count": 353,
   "metadata": {},
   "outputs": [],
   "source": [
    "# predicting the class and prob of test test\n",
    "y_test_pred_class =  bnb.predict(X_test_transformed1)\n",
    "y_test_pred_prob =  bnb.predict_proba(X_test_transformed1)\n"
   ]
  },
  {
   "cell_type": "code",
   "execution_count": 354,
   "metadata": {},
   "outputs": [
    {
     "name": "stdout",
     "output_type": "stream",
     "text": [
      "0.79\n"
     ]
    }
   ],
   "source": [
    "from sklearn.metrics import accuracy_score\n",
    "aucrracyScore_testset = accuracy_score(y_test , y_test_pred_class)\n",
    "print(aucrracyScore_testset)"
   ]
  },
  {
   "cell_type": "code",
   "execution_count": 355,
   "metadata": {},
   "outputs": [
    {
     "name": "stdout",
     "output_type": "stream",
     "text": [
      "[[177  23]\n",
      " [ 61 139]]\n"
     ]
    }
   ],
   "source": [
    "from sklearn.metrics import confusion_matrix\n",
    "cm2 = confusion_matrix(y_test , y_test_pred_class)\n",
    "print(cm2)"
   ]
  },
  {
   "cell_type": "code",
   "execution_count": 356,
   "metadata": {},
   "outputs": [
    {
     "name": "stdout",
     "output_type": "stream",
     "text": [
      "sesitivity  0.695\n",
      "specificity  0.885\n",
      "PositivepredictedRate 0.8580246913580247\n",
      "Precession  0.8580246913580247\n",
      "Recall  0.695\n"
     ]
    }
   ],
   "source": [
    "TN = cm2[0,0]\n",
    "FP = cm2[0,1]\n",
    "FN = cm2[1,0]\n",
    "TP = cm2[1,1]\n",
    "\n",
    "senstivity = TP/(TP+FN)\n",
    "specificity = TN/(TN+FP)\n",
    "PositivepredictedRate = TP/(TP+FP)\n",
    "Precesion =  PositivepredictedRate \n",
    "Recall = senstivity\n",
    "\n",
    "print(\"sesitivity \" ,senstivity)\n",
    "print(\"specificity \" ,specificity)\n",
    "print(\"PositivepredictedRate\", PositivepredictedRate)\n",
    "\n",
    "print(\"Precession \", Precesion)\n",
    "print(\"Recall \", Recall)"
   ]
  },
  {
   "cell_type": "code",
   "execution_count": null,
   "metadata": {},
   "outputs": [],
   "source": []
  },
  {
   "cell_type": "code",
   "execution_count": null,
   "metadata": {},
   "outputs": [],
   "source": []
  }
 ],
 "metadata": {
  "kernelspec": {
   "display_name": "Python 3",
   "language": "python",
   "name": "python3"
  },
  "language_info": {
   "codemirror_mode": {
    "name": "ipython",
    "version": 3
   },
   "file_extension": ".py",
   "mimetype": "text/x-python",
   "name": "python",
   "nbconvert_exporter": "python",
   "pygments_lexer": "ipython3",
   "version": "3.7.3"
  }
 },
 "nbformat": 4,
 "nbformat_minor": 2
}
